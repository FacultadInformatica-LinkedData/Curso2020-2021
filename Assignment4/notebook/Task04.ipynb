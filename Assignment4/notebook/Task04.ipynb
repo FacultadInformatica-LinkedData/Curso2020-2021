{
  "nbformat": 4,
  "nbformat_minor": 0,
  "metadata": {
    "colab": {
      "name": "Task04.ipynb",
      "provenance": [],
      "collapsed_sections": []
    },
    "kernelspec": {
      "name": "python3",
      "display_name": "Python 3"
    }
  },
  "cells": [
    {
      "cell_type": "markdown",
      "metadata": {
        "id": "bSxs0offXU_C",
        "colab_type": "text"
      },
      "source": [
        "**Task 04: Graph querying**"
      ]
    },
    {
      "cell_type": "code",
      "metadata": {
        "id": "eEaNOAcHW8He",
        "colab_type": "code",
        "colab": {}
      },
      "source": [
        "!pip install rdflib\n",
        "github_storage = \"https://raw.githubusercontent.com/FacultadInformatica-LinkedData/Curso2020-2021/master/Assignment4\""
      ],
      "execution_count": null,
      "outputs": []
    },
    {
      "cell_type": "code",
      "metadata": {
        "id": "UqDyQeinXUxT",
        "colab_type": "code",
        "colab": {}
      },
      "source": [
        "from rdflib import Graph, Namespace, Literal\n",
        "g = Graph()\n",
        "g.parse(github_storage+\"/resources/example3.rdf\", format=\"xml\")"
      ],
      "execution_count": null,
      "outputs": []
    },
    {
      "cell_type": "markdown",
      "metadata": {
        "id": "vx7JZWjj6oZu",
        "colab_type": "text"
      },
      "source": [
        "Listamos todos los recursos que contienen la propiedad VCARD:FN"
      ]
    },
    {
      "cell_type": "code",
      "metadata": {
        "id": "iSQog8i6XiI2",
        "colab_type": "code",
        "colab": {}
      },
      "source": [
        "from rdflib.plugins.sparql import prepareQuery\n",
        "\n",
        "\n",
        "VCARD = Namespace(\"http://www.w3.org/2001/vcard-rdf/3.0#\")\n",
        "\n",
        "\n",
        "q1 = prepareQuery('''\n",
        "  SELECT \n",
        "    ?Subject\n",
        "  WHERE { \n",
        "    ?Subject vcard:FN ?FullName. \n",
        "  }\n",
        "  ''',\n",
        "  initNs = { \"vcard\": VCARD}\n",
        ")\n",
        "\n",
        "\n",
        "for r in g.query(q1):\n",
        "  print(r)"
      ],
      "execution_count": null,
      "outputs": []
    },
    {
      "cell_type": "markdown",
      "metadata": {
        "id": "ZAXn1nMO6vlp",
        "colab_type": "text"
      },
      "source": [
        "Repetimos la anterior consulta, pero pidiendo ahora además los nombres completos de los sujetos"
      ]
    },
    {
      "cell_type": "code",
      "metadata": {
        "id": "R4BKqgkpcVgf",
        "colab_type": "code",
        "colab": {}
      },
      "source": [
        "q2 = prepareQuery('''\n",
        "  SELECT \n",
        "    ?Subject ?FullName\n",
        "\tWHERE { \n",
        "    ?Subject vcard:FN ?FullName.\n",
        "  } \n",
        "  ''',\n",
        "  initNs = { \"vcard\": VCARD}\n",
        ")\n",
        "\n",
        "for r in g.query(q2):\n",
        "  print(r)"
      ],
      "execution_count": null,
      "outputs": []
    },
    {
      "cell_type": "markdown",
      "metadata": {
        "id": "09HdH0eG68Dd",
        "colab_type": "text"
      },
      "source": [
        "Obtenemos todos los recursos que contienen \"Smith\" como nombre de familia"
      ]
    },
    {
      "cell_type": "code",
      "metadata": {
        "id": "sPGjq-AEcvEN",
        "colab_type": "code",
        "colab": {}
      },
      "source": [
        "from rdflib import XSD\n",
        "\n",
        "q3 = prepareQuery('''\n",
        "  SELECT \n",
        "    ?Subject ?x\n",
        "\tWHERE { \n",
        "    ?Subject vcard:Family ?Family.\n",
        "  } \n",
        "  ''',\n",
        "  initNs = { \"vcard\": VCARD}\n",
        ")\n",
        "\n",
        "for r in g.query(q3, initBindings = {'?Family' : Literal('Smith', datatype=XSD.string)}):\n",
        "  print(r.Subject)"
      ],
      "execution_count": null,
      "outputs": []
    },
    {
      "cell_type": "markdown",
      "metadata": {
        "id": "3ZoGdkYW7Fuj",
        "colab_type": "text"
      },
      "source": [
        "Obtenemos todos los elementos que contienen un email asociado"
      ]
    },
    {
      "cell_type": "code",
      "metadata": {
        "id": "0cM7u_jpeQVt",
        "colab_type": "code",
        "colab": {}
      },
      "source": [
        "from rdflib import FOAF\n",
        "\n",
        "q4 = prepareQuery('''\n",
        "  SELECT \n",
        "    ?Subject ?Email\n",
        "\tWHERE { \n",
        "    ?Subject foaf:email ?Email.\n",
        "  } \n",
        "  ''',\n",
        "  initNs = { \"foaf\": FOAF}\n",
        ")\n",
        "\n",
        "for q in g.query(q4):\n",
        "  print(q.Subject, q.Email)\n"
      ],
      "execution_count": null,
      "outputs": []
    },
    {
      "cell_type": "markdown",
      "metadata": {
        "id": "OAMYrwd57E_Y",
        "colab_type": "text"
      },
      "source": [
        "Consultamos todos los que conocen (FOAF:knows) a \"Jane Smith\" y obtenemos sus nombres de pila (VCARD:Given)"
      ]
    },
    {
      "cell_type": "code",
      "metadata": {
        "id": "L-i2jJahkhuN",
        "colab_type": "code",
        "colab": {}
      },
      "source": [
        "q5 = prepareQuery('''\n",
        "  SELECT \n",
        "    ?Subject ?Given\n",
        "  WHERE {\n",
        "    ?Subject foaf:knows ?JaneSmith.\n",
        "\t\t?JaneSmith vcard:FN ?JaneSmithFullName.\n",
        "\t\t?Subject vcard:Given ?Given.\n",
        "  }  \n",
        "  ''',\n",
        "  initNs = { \"foaf\": FOAF, \"vcard\": VCARD, \"xsd\":XSD}\n",
        ")\n",
        "\n",
        "for r in g.query(q5, initBindings = {'?JaneSmithFullName' : Literal('Jane Smith', datatype=XSD.string)}):\n",
        "  print(r.Subject, VCARD.Given, r.Given)"
      ],
      "execution_count": null,
      "outputs": []
    }
  ]
}