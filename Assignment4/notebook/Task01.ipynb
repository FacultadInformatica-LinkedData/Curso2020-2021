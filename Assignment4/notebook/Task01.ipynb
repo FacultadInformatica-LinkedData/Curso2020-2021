{
  "nbformat": 4,
  "nbformat_minor": 0,
  "metadata": {
    "colab": {
      "name": "Task01.ipynb",
      "provenance": [],
      "collapsed_sections": []
    },
    "kernelspec": {
      "name": "python3",
      "display_name": "Python 3"
    }
  },
  "cells": [
    {
      "cell_type": "markdown",
      "metadata": {
        "id": "AWikSwbrWIXK",
        "colab_type": "text"
      },
      "source": [
        "**Task 01: Reading and writing RDF files**"
      ]
    },
    {
      "cell_type": "markdown",
      "metadata": {
        "id": "70tP7Rc1c-XK",
        "colab_type": "text"
      },
      "source": [
        "Leer y escribir ficheros que contienen tripletas es muy sencillo en RDFlib, para ello vamos a emplear dos métodos de la librería: parse y serialize."
      ]
    },
    {
      "cell_type": "code",
      "metadata": {
        "id": "tRpigrTicjCp",
        "colab_type": "code",
        "colab": {}
      },
      "source": [
        "!pip install rdflib\n",
        "github_storage = \"https://raw.githubusercontent.com/FacultadInformatica-LinkedData/Curso2020-2021/master/Assignment4\""
      ],
      "execution_count": null,
      "outputs": []
    },
    {
      "cell_type": "code",
      "metadata": {
        "id": "GzJopjNmdzDu",
        "colab_type": "code",
        "colab": {}
      },
      "source": [
        "from rdflib import Graph, Namespace, Literal\n",
        "g = Graph()"
      ],
      "execution_count": null,
      "outputs": []
    },
    {
      "cell_type": "markdown",
      "metadata": {
        "id": "cxZdZ6jveaUz",
        "colab_type": "text"
      },
      "source": [
        "Podemos añadir tripletas a nuestro grafo empleando *parse*, que leerá el recurso proporcionado. Debemos además indicarle el formato si este no puede ser inferido."
      ]
    },
    {
      "cell_type": "code",
      "metadata": {
        "id": "abJYz_Bqerp3",
        "colab_type": "code",
        "colab": {}
      },
      "source": [
        "g.parse(github_storage+\"/resources/example1.rdf\", format=\"xml\")"
      ],
      "execution_count": null,
      "outputs": []
    },
    {
      "cell_type": "markdown",
      "metadata": {
        "id": "z3euhZGQyyA3",
        "colab_type": "text"
      },
      "source": [
        "Para visualizar el grafo en un formato específico podemos utilizar *serialize*. Por ejemplo aquí mostramos la salida del grafo en turtle"
      ]
    },
    {
      "cell_type": "code",
      "metadata": {
        "id": "UfjimlObfWIK",
        "colab_type": "code",
        "colab": {}
      },
      "source": [
        "print(g.serialize(format=\"ttl\").decode(\"UTF-8\"))\n"
      ],
      "execution_count": null,
      "outputs": []
    },
    {
      "cell_type": "markdown",
      "metadata": {
        "id": "e1XLg8xrestH",
        "colab_type": "text"
      },
      "source": [
        "El recurso puede ser local o remoto, como en nuestro caso. El resultado es el mismo. Podemos añadir todos los datos que queramos a nuestro grafo, los datos simplemente se irán fusionando.\n"
      ]
    },
    {
      "cell_type": "code",
      "metadata": {
        "id": "WCMS6ZGVhsD1",
        "colab_type": "code",
        "colab": {}
      },
      "source": [
        "g.parse(github_storage+\"/resources/example2.rdf\", format=\"xml\")"
      ],
      "execution_count": null,
      "outputs": []
    },
    {
      "cell_type": "markdown",
      "metadata": {
        "id": "1v_SBIp8fEVA",
        "colab_type": "text"
      },
      "source": [
        "Ahora podemos comprobar el resultado volcando las tripletas de forma sencilla."
      ]
    },
    {
      "cell_type": "code",
      "metadata": {
        "id": "GSW6P7XXfBHj",
        "colab_type": "code",
        "colab": {}
      },
      "source": [
        "for subj, pred, obj in g:\n",
        "  print(subj,pred,obj)"
      ],
      "execution_count": null,
      "outputs": []
    },
    {
      "cell_type": "markdown",
      "metadata": {
        "id": "5oxiNgJhfYnm",
        "colab_type": "text"
      },
      "source": [
        "Ahora podemos ver la operación inversa, serializando estos datos a algún formato que nos lo permita. Este proceso también nos permite una conversión sencilla entre formatos."
      ]
    },
    {
      "cell_type": "code",
      "metadata": {
        "id": "Yfd-Nj5TfghY",
        "colab_type": "code",
        "colab": {}
      },
      "source": [
        "print(g.serialize(format=\"xml\").decode(\"UTF-8\"))\n"
      ],
      "execution_count": null,
      "outputs": []
    },
    {
      "cell_type": "markdown",
      "metadata": {
        "id": "5sQtCm1CgIvS",
        "colab_type": "text"
      },
      "source": [
        "También podemos guardar el resultado serializado en un fichero, puedes ver este fichero resultante en el panel izquierdo.\n"
      ]
    },
    {
      "cell_type": "code",
      "metadata": {
        "id": "kdKGU118fiuy",
        "colab_type": "code",
        "colab": {}
      },
      "source": [
        "g.serialize(\"example1.ttl\", format=\"ttl\")"
      ],
      "execution_count": null,
      "outputs": []
    }
  ]
}