{
  "nbformat": 4,
  "nbformat_minor": 0,
  "metadata": {
    "colab": {
      "name": "Task00.ipynb",
      "provenance": [],
      "collapsed_sections": []
    },
    "kernelspec": {
      "name": "python3",
      "display_name": "Python 3"
    }
  },
  "cells": [
    {
      "cell_type": "markdown",
      "metadata": {
        "id": "Vbr2UBDJVZ6V",
        "colab_type": "text"
      },
      "source": [
        "**Task 00: Installing and testing RDFlib**\n"
      ]
    },
    {
      "cell_type": "markdown",
      "metadata": {
        "id": "7RxEw6P9Xmuw",
        "colab_type": "text"
      },
      "source": [
        "Instalamos las dependencias necesarias en nuestro entorno. `pip` es el gestor de paquetes de Python.\n",
        "\n",
        "\n",
        "\n"
      ]
    },
    {
      "cell_type": "code",
      "metadata": {
        "id": "78fdlC25Xgnh",
        "colab_type": "code",
        "colab": {}
      },
      "source": [
        "!pip install rdflib"
      ],
      "execution_count": null,
      "outputs": []
    },
    {
      "cell_type": "markdown",
      "metadata": {
        "id": "cGDpO0ldXuKw",
        "colab_type": "text"
      },
      "source": [
        "Del paquete rdflib importamos las clases necesarias para la tarea"
      ]
    },
    {
      "cell_type": "code",
      "metadata": {
        "id": "7T_uY1gGXT3V",
        "colab_type": "code",
        "colab": {}
      },
      "source": [
        "from rdflib import Graph, Namespace, Literal"
      ],
      "execution_count": null,
      "outputs": []
    },
    {
      "cell_type": "markdown",
      "metadata": {
        "id": "vK4HXCQNbvUI",
        "colab_type": "text"
      },
      "source": [
        "Creamos un grafo vacío"
      ]
    },
    {
      "cell_type": "code",
      "metadata": {
        "id": "MoKlf2xlXVk7",
        "colab_type": "code",
        "colab": {}
      },
      "source": [
        "g = Graph()"
      ],
      "execution_count": null,
      "outputs": []
    },
    {
      "cell_type": "markdown",
      "metadata": {
        "id": "HEdzNgu2adnq",
        "colab_type": "text"
      },
      "source": [
        "Creamos un espacio de nombres"
      ]
    },
    {
      "cell_type": "code",
      "metadata": {
        "id": "Kf1X9eIjYC-X",
        "colab_type": "code",
        "colab": {}
      },
      "source": [
        "app_ns = Namespace(\"http://example.org/App/\")"
      ],
      "execution_count": null,
      "outputs": []
    },
    {
      "cell_type": "markdown",
      "metadata": {
        "id": "zebEb8aobsfz",
        "colab_type": "text"
      },
      "source": [
        "Definimos el sujeto, predicado y objeto de la tripleta que vamos a insertar"
      ]
    },
    {
      "cell_type": "code",
      "metadata": {
        "id": "FDCR18lhYaQ3",
        "colab_type": "code",
        "colab": {}
      },
      "source": [
        "app = app_ns.this\n",
        "says = app_ns.says\n",
        "hello = Literal(\"Hola mundo!\")"
      ],
      "execution_count": null,
      "outputs": []
    },
    {
      "cell_type": "markdown",
      "metadata": {
        "id": "wflco-ilbkBg",
        "colab_type": "text"
      },
      "source": [
        "En RDFlib las tripletas se definen como una tupla nativa de Python que contiene 3 elementos en el orden (sujeto, predicado y objeto)."
      ]
    },
    {
      "cell_type": "code",
      "metadata": {
        "id": "xMA9fYyUYn25",
        "colab_type": "code",
        "colab": {}
      },
      "source": [
        "triple = (app, says, hello)\n",
        "g.add(triple)"
      ],
      "execution_count": null,
      "outputs": []
    },
    {
      "cell_type": "markdown",
      "metadata": {
        "id": "KGittFWDbm6Q",
        "colab_type": "text"
      },
      "source": [
        "Podemos iterar sobre nuestro grafo para obtener todas las tripletas almacenadas, con la función g.triples() podemos buscar las que coincidan con el patrón especificado. Indicamos None donde nos sea indiferente el resultado.\n",
        "\n",
        "Doc: https://rdflib.readthedocs.io/en/stable/apidocs/rdflib.html#rdflib.graph.Graph.triples"
      ]
    },
    {
      "cell_type": "code",
      "metadata": {
        "id": "RGIcw-OWY4cG",
        "colab_type": "code",
        "colab": {}
      },
      "source": [
        "search = g.triples((None, says, None))\n",
        "\n",
        "for subj, pred, obj in search:\n",
        "  print(subj,pred,obj)"
      ],
      "execution_count": null,
      "outputs": []
    },
    {
      "cell_type": "markdown",
      "metadata": {
        "id": "vVQZH15Pbo9g",
        "colab_type": "text"
      },
      "source": [
        "Adicionalmenta también podemos mostrar todas las tripletas serializando nuestro grafo en alguno de los formato soportados."
      ]
    },
    {
      "cell_type": "code",
      "metadata": {
        "id": "n5j6YFrooxsf",
        "colab_type": "code",
        "cellView": "both",
        "colab": {}
      },
      "source": [
        "#@title\n",
        "print(g.serialize(format=\"xml\").decode(\"UTF-8\"))"
      ],
      "execution_count": null,
      "outputs": []
    }
  ]
}