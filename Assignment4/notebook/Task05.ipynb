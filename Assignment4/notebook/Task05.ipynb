{
  "nbformat": 4,
  "nbformat_minor": 0,
  "metadata": {
    "colab": {
      "name": "Task05.ipynb",
      "provenance": [],
      "collapsed_sections": []
    },
    "kernelspec": {
      "name": "python3",
      "display_name": "Python 3"
    }
  },
  "cells": [
    {
      "cell_type": "markdown",
      "metadata": {
        "id": "nOOPLCHF7hLB",
        "colab_type": "text"
      },
      "source": [
        "**Task 05: Reading and writing ontologies**"
      ]
    },
    {
      "cell_type": "code",
      "metadata": {
        "id": "Yl9npCt8n6m-",
        "colab_type": "code",
        "colab": {}
      },
      "source": [
        "!pip install rdflib \n",
        "!pip install owlrl\n",
        "github_storage = \"https://raw.githubusercontent.com/FacultadInformatica-LinkedData/Curso2020-2021/master/Assignment4\""
      ],
      "execution_count": null,
      "outputs": []
    },
    {
      "cell_type": "markdown",
      "metadata": {
        "id": "XY7aPc86Bqoo",
        "colab_type": "text"
      },
      "source": [
        "Leemos el fichero RDF de la forma que lo hemos venido haciendo"
      ]
    },
    {
      "cell_type": "code",
      "metadata": {
        "id": "9ERh415on7kF",
        "colab_type": "code",
        "colab": {}
      },
      "source": [
        "from rdflib import Graph, Namespace, Literal,RDFS\n",
        "g = Graph()\n",
        "g.namespace_manager.bind('vcard-rdf',Namespace(\"http://www.w3.org/2001/vcard-rdf/3.0/\"),override=False)\n",
        "g.parse(github_storage+\"/resources/example4.rdf\", format=\"xml\")\n"
      ],
      "execution_count": null,
      "outputs": []
    },
    {
      "cell_type": "markdown",
      "metadata": {
        "id": "_PPrrA-aBuoZ",
        "colab_type": "text"
      },
      "source": [
        "Ahora podemos obtener algunas de las triples de RDFS (el modelo, no los datos)"
      ]
    },
    {
      "cell_type": "code",
      "metadata": {
        "id": "dOQ5G0JroGSy",
        "colab_type": "code",
        "colab": {}
      },
      "source": [
        "print(\"Show al the RDFS Class of the model\")\n",
        "for s,p,o in g.triples((None, None, RDFS.Class)):\n",
        "  print(s,p,o)\n",
        "\n",
        "print(\"\\n\\nShow al the properties where RDFS range is defined in the model\")\n",
        "for s,p,o in g.triples((None, RDFS.range, None)):\n",
        "  print(s,p,o)\n",
        "\n",
        "print(\"\\n\\nShow al the subClassOf reltaions of the model\")\n",
        "for s,p,o in g.triples((None, RDFS.subClassOf, None)):\n",
        "  print(s,p,o)"
      ],
      "execution_count": null,
      "outputs": []
    },
    {
      "cell_type": "markdown",
      "metadata": {
        "id": "Sh3LEHGRqfUR",
        "colab_type": "text"
      },
      "source": [
        "Se muestra ahora todo el grafo, las instancias y las tripletas RDFS"
      ]
    },
    {
      "cell_type": "code",
      "metadata": {
        "id": "XKfa-AXBk4wO",
        "colab_type": "code",
        "colab": {}
      },
      "source": [
        "for s,p,o in g:\n",
        "  print(s,p,o)"
      ],
      "execution_count": null,
      "outputs": []
    }
  ]
}