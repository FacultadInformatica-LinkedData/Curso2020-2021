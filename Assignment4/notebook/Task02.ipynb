{
  "nbformat": 4,
  "nbformat_minor": 0,
  "metadata": {
    "colab": {
      "name": "Task02.ipynb",
      "provenance": [],
      "collapsed_sections": []
    },
    "kernelspec": {
      "name": "python3",
      "display_name": "Python 3"
    }
  },
  "cells": [
    {
      "cell_type": "markdown",
      "metadata": {
        "id": "mykrL5dzjdZd",
        "colab_type": "text"
      },
      "source": [
        "**Task 02: Managing statements**"
      ]
    },
    {
      "cell_type": "markdown",
      "metadata": {
        "id": "LnByOT0rjr5G",
        "colab_type": "text"
      },
      "source": [
        "Comenzamos con un grafo vacío"
      ]
    },
    {
      "cell_type": "code",
      "metadata": {
        "id": "iOqfw6cYjdKg",
        "colab_type": "code",
        "colab": {}
      },
      "source": [
        "!pip install rdflib\n",
        "github_storage = \"https://raw.githubusercontent.com/FacultadInformatica-LinkedData/Curso2020-2021/master/Assignment4\""
      ],
      "execution_count": null,
      "outputs": []
    },
    {
      "cell_type": "code",
      "metadata": {
        "id": "hoa1F3UZjPJB",
        "colab_type": "code",
        "colab": {}
      },
      "source": [
        "from rdflib import Graph, Namespace, Literal\n",
        "g = Graph()"
      ],
      "execution_count": null,
      "outputs": []
    },
    {
      "cell_type": "markdown",
      "metadata": {
        "id": "DZPMjhmnjxVO",
        "colab_type": "text"
      },
      "source": [
        "Creamos el recurso John Smith con su nombre completo\n"
      ]
    },
    {
      "cell_type": "code",
      "metadata": {
        "id": "mFRCCFmTkG6S",
        "colab_type": "code",
        "colab": {}
      },
      "source": [
        "fullName = Literal(\"John Smith\")\n",
        "EX = Namespace(\"http://example.org/\")\n",
        "johnURI = EX.JohnSmith"
      ],
      "execution_count": null,
      "outputs": []
    },
    {
      "cell_type": "markdown",
      "metadata": {
        "id": "u8i7EOwZlPGi",
        "colab_type": "text"
      },
      "source": [
        "Generamos la sentencia añadiendo el predicado (propiedad)"
      ]
    },
    {
      "cell_type": "code",
      "metadata": {
        "id": "iocF6ceGlJL3",
        "colab_type": "code",
        "colab": {}
      },
      "source": [
        "VCARD = Namespace(\"http://www.w3.org/2001/vcard-rdf/3.0#\")\n",
        "\n",
        "resource = (johnURI, VCARD.FN, fullName)\n",
        "\n",
        "print(resource)\n",
        "\n",
        "g.add(resource)"
      ],
      "execution_count": null,
      "outputs": []
    },
    {
      "cell_type": "markdown",
      "metadata": {
        "id": "_r2IA6SHmkyh",
        "colab_type": "text"
      },
      "source": [
        "Creamos otro recurso para Jane con su nombre completo e email"
      ]
    },
    {
      "cell_type": "markdown",
      "metadata": {
        "id": "wllA6e-enah6",
        "colab_type": "text"
      },
      "source": [
        "Podemos abreviar un poco lo que hemos hecho en la tarea anterior, atención a los dobles paréntesis, add() acepta un solo parámetro en forma de tupla, no 3 parámetros."
      ]
    },
    {
      "cell_type": "code",
      "metadata": {
        "id": "h6V6msiVnZzV",
        "colab_type": "code",
        "colab": {}
      },
      "source": [
        "g.add((EX.JaneSmith, VCARD.FN, Literal(\"Jane Smith\")))\n",
        "g.add((EX.JaneSmith, VCARD.hasEmail, Literal(\"jsmith@example.org\")))"
      ],
      "execution_count": null,
      "outputs": []
    },
    {
      "cell_type": "markdown",
      "metadata": {
        "id": "_UPNqIOboSio",
        "colab_type": "text"
      },
      "source": [
        "Añadimos una relación entre John y Jane mediante el vocabulario FOAF"
      ]
    },
    {
      "cell_type": "markdown",
      "metadata": {
        "id": "DkZjkRHEonAo",
        "colab_type": "text"
      },
      "source": [
        "Hay ciertos espacios de nombres que son nativos a RDFlib, FOAF es uno de ellos y no hace falta que lo declaremos nosotros"
      ]
    },
    {
      "cell_type": "code",
      "metadata": {
        "id": "4jL9pXaYo1uN",
        "colab_type": "code",
        "colab": {}
      },
      "source": [
        "from rdflib import FOAF"
      ],
      "execution_count": null,
      "outputs": []
    },
    {
      "cell_type": "code",
      "metadata": {
        "id": "tDl33PvIo4Ga",
        "colab_type": "code",
        "colab": {}
      },
      "source": [
        "g.add((EX.JohnSmith, FOAF.knows, EX.JaneSmith))"
      ],
      "execution_count": null,
      "outputs": []
    },
    {
      "cell_type": "markdown",
      "metadata": {
        "id": "ZVs6mM7vr4Y7",
        "colab_type": "text"
      },
      "source": [
        "Vemos el resultado conjunto"
      ]
    },
    {
      "cell_type": "code",
      "metadata": {
        "id": "ri30SNw8r67i",
        "colab_type": "code",
        "colab": {}
      },
      "source": [
        "print(g.serialize(format=\"ttl\").decode(\"UTF-8\"))"
      ],
      "execution_count": null,
      "outputs": []
    }
  ]
}