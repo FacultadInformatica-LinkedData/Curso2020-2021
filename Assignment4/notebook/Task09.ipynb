{
  "nbformat": 4,
  "nbformat_minor": 0,
  "metadata": {
    "colab": {
      "name": "Task09.ipynb",
      "provenance": [],
      "collapsed_sections": []
    },
    "kernelspec": {
      "name": "python3",
      "display_name": "Python 3"
    }
  },
  "cells": [
    {
      "cell_type": "markdown",
      "metadata": {
        "id": "wIhJ69byU2Ad",
        "colab_type": "text"
      },
      "source": [
        "**Task 09: Data linking**"
      ]
    },
    {
      "cell_type": "code",
      "metadata": {
        "id": "0sQG2Y915Isp",
        "colab_type": "code",
        "colab": {}
      },
      "source": [
        "!pip install rdflib\n",
        "github_storage = \"https://raw.githubusercontent.com/FacultadInformatica-LinkedData/Curso2020-2021/master/Assignment4/\""
      ],
      "execution_count": null,
      "outputs": []
    },
    {
      "cell_type": "code",
      "metadata": {
        "id": "Jb4QeLue5NLr",
        "colab_type": "code",
        "colab": {}
      },
      "source": [
        "from rdflib import Graph, Namespace, Literal, URIRef\n",
        "g1 = Graph()\n",
        "g2 = Graph()\n",
        "g3 = Graph()\n",
        "g1.parse(github_storage+\"resources/data03.rdf\", format=\"xml\")\n",
        "g2.parse(github_storage+\"resources/data04.rdf\", format=\"xml\")"
      ],
      "execution_count": null,
      "outputs": []
    },
    {
      "cell_type": "markdown",
      "metadata": {
        "id": "5wfBZiQSU827",
        "colab_type": "text"
      },
      "source": [
        "Busca individuos en los dos grafos y enlázalos mediante la propiedad OWL:sameAs, inserta estas coincidencias en g3. Consideramos dos individuos iguales si tienen el mismo apodo y nombre de familia. Ten en cuenta que las URI no tienen por qué ser iguales para un mismo individuo en los dos grafos."
      ]
    }
  ]
}