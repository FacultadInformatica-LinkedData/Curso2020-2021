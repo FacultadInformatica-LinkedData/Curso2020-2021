{
  "nbformat": 4,
  "nbformat_minor": 0,
  "metadata": {
    "colab": {
      "name": "Task06.ipynb",
      "provenance": []
    },
    "kernelspec": {
      "name": "python3",
      "display_name": "Python 3"
    }
  },
  "cells": [
    {
      "cell_type": "code",
      "metadata": {
        "id": "uFaQJKHHahha"
      },
      "source": [
        "!pip install rdflib \n",
        "github_storage = \"https://raw.githubusercontent.com/FacultadInformatica-LinkedData/Curso2020-2021/master/Assignment4\""
      ],
      "execution_count": null,
      "outputs": []
    },
    {
      "cell_type": "code",
      "metadata": {
        "id": "gccHWRDlalXW"
      },
      "source": [
        "from rdflib import Graph, Namespace, Literal\n",
        "from rdflib.namespace import RDF, RDFS\n",
        "g = Graph()\n",
        "g.namespace_manager.bind('ns', Namespace(\"http://somewhere#\"), override=False)\n",
        "g.namespace_manager.bind('vcard', Namespace(\"http://www.w3.org/2001/vcard-rdf/3.0#\"), override=False)\n",
        "g.parse(github_storage+\"/resources/example5.rdf\", format=\"xml\")"
      ],
      "execution_count": null,
      "outputs": []
    },
    {
      "cell_type": "code",
      "metadata": {
        "id": "fWjdF_tkanm1"
      },
      "source": [
        "ns = Namespace(\"http://somewhere#\")\n",
        "g.add((ns.Researcher, RDF.type, RDFS.Class))\n",
        "for s, p, o in g:\n",
        "  print(s,p,o)"
      ],
      "execution_count": null,
      "outputs": []
    },
    {
      "cell_type": "code",
      "metadata": {
        "id": "WDoIjBaZaqS8"
      },
      "source": [
        "g.add((ns.University, RDF.type, RDFS.Class))\n",
        "for s, p, o in g:\n",
        "  print(s,p,o)"
      ],
      "execution_count": null,
      "outputs": []
    },
    {
      "cell_type": "code",
      "metadata": {
        "id": "_80XoAw7arvH"
      },
      "source": [
        "ns= Namespace(\"http://somewhere#\")\n",
        "g.add((ns.Researcher, RDFS.subClassOf, ns.Person))\n",
        "for s, p, o in g.triples((None, RDFS.subClassOf, ns.Person)):\n",
        "  print(s,p,o)"
      ],
      "execution_count": null,
      "outputs": []
    },
    {
      "cell_type": "code",
      "metadata": {
        "id": "oQ5fYjHnatE0"
      },
      "source": [
        "g.add((ns.JaneSmith,RDF.type,ns.Researcher))\n",
        "for s, p, o in g:\n",
        "  print(s,p,o)"
      ],
      "execution_count": null,
      "outputs": []
    },
    {
      "cell_type": "code",
      "metadata": {
        "id": "t9YYeUeXavdk"
      },
      "source": [
        "ex = Namespace(\"http://somewhere/Researcher \")\n",
        "VCARD = Namespace(\"http://www.w3.org/2001/vcard-rdf/3.0#\")\n",
        "g.add((ex.JaneSmith, VCARD.FN, Literal(\"Jane Smith\")))\n",
        "g.add((ex.JaneSmith, VCARD.Given, Literal(\"Jane\")))\n",
        "g.add((ex.JaneSmith, VCARD.Family, Literal(\"Smith\")))\n",
        "for s, p, o in g:\n",
        "  print(s,p,o) "
      ],
      "execution_count": null,
      "outputs": []
    },
    {
      "cell_type": "code",
      "metadata": {
        "id": "rPDiWn2QaxZ2"
      },
      "source": [
        "ns=Namespace(\"http://somewhere#University/\")\n",
        "g.add((ns.UPM,RDF.type,ns.University))\n",
        "g.add((ns.JohnSmith, VCARD.works, ns.UPM))\n",
        "for s,p,o in g.triples((ns.UPM , RDF.type, None)):\n",
        "  print(s,p,o)\n",
        "for s,p,o in g.triples((ns.JohnSmith , vcard.Work, None)):\n",
        "  print(s,p,o)"
      ],
      "execution_count": null,
      "outputs": []
    }
  ]
}