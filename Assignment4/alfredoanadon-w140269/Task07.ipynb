{
  "nbformat": 4,
  "nbformat_minor": 0,
  "metadata": {
    "colab": {
      "name": "Task07.ipynb",
      "provenance": []
    },
    "kernelspec": {
      "name": "python3",
      "display_name": "Python 3"
    }
  },
  "cells": [
    {
      "cell_type": "code",
      "metadata": {
        "id": "KlUxucEXYPOs"
      },
      "source": [
        "!pip install rdflib\n",
        "github_storage = \"https://raw.githubusercontent.com/FacultadInformatica-LinkedData/Curso2020-2021/master/Assignment4\""
      ],
      "execution_count": null,
      "outputs": []
    },
    {
      "cell_type": "markdown",
      "metadata": {
        "id": "Px0FNp63ZYs1"
      },
      "source": [
        "Leemos el fichero RDF"
      ]
    },
    {
      "cell_type": "code",
      "metadata": {
        "id": "nnjE8BQeZYaf"
      },
      "source": [
        "from rdflib import Graph, Namespace, Literal\n",
        "from rdflib.namespace import RDF, RDFS\n",
        "g = Graph()\n",
        "g.namespace_manager.bind('ns', Namespace(\"http://somewhere#\"), override=False)\n",
        "g.namespace_manager.bind('vcard', Namespace(\"http://www.w3.org/2001/vcard-rdf/3.0#\"), override=False)\n",
        "g.parse(github_storage+\"/resources/example6.rdf\", format=\"xml\")"
      ],
      "execution_count": null,
      "outputs": []
    },
    {
      "cell_type": "code",
      "metadata": {
        "id": "kdBqSKVkZgTd"
      },
      "source": [
        "from rdflib.plugins.sparql import prepareQuery\n",
        "\n",
        "ns = Namespace(\"http://somewhere#\")\n",
        "print(\"RDFLib:\")\n",
        "\n",
        "for s,p,o in g.triples((None, RDFS.subClassOf, ns.Person)):\n",
        "  print(s,p,o)\n",
        "\n",
        "print(\"SPARQL:\")\n",
        "queryPQ = prepareQuery('''\n",
        "  SELECT ?s\n",
        "  WHERE { \n",
        "    ?s rdfs:subClassOf ns:Person. \n",
        "  }\n",
        "  ''',\n",
        "  initNs = { \"rdfs\": RDFS, \"ns\": ns}\n",
        ")\n",
        "\n",
        "for sol in g.query(queryPQ):\n",
        "  print(sol)"
      ],
      "execution_count": null,
      "outputs": []
    },
    {
      "cell_type": "code",
      "metadata": {
        "id": "3AhaisbPZmFN"
      },
      "source": [
        "for person,p,o in g.triples((None, RDF.type, ns.Person)):\n",
        "  print(person)\n",
        "for subClassOf,p,o in g.triples((None, RDFS.subClassOf, ns.Person)):\n",
        "  print(subClassOf)\n",
        "\n",
        "\n",
        "queryN = prepareQuery(''' \n",
        "                    Select ?x\n",
        "                    Where{\n",
        "                      {\n",
        "                        ?x rdf:type ns:Person\n",
        "                      }UNION{\n",
        "                        ?x rdfs:subClassOf ns:Person.\n",
        "                        ?x rdf:type ?subClass\n",
        "                      }\n",
        "                    }\n",
        "                        \n",
        "                    ''',\n",
        "   initNs = { \"ns\":ns, \"rdfs\":RDFS, \"rdf\":RDF}\n",
        ")\n",
        "\n",
        "for result in g.query(queryN):\n",
        "  print(result)"
      ],
      "execution_count": null,
      "outputs": []
    },
    {
      "cell_type": "code",
      "metadata": {
        "id": "LFE9g2uWZ9-A"
      },
      "source": [
        "for person,p,o in g.triples((None, RDF.type, ns.Person)):\n",
        "  for person1,p1,o1 in g.triples((person, None, None)):\n",
        "    print(person1,p1,o1)\n",
        "\n",
        "for subClass,p,o in g.triples((None, RDFS.subClassOf, ns.Person)):\n",
        "  for subClass1,p1,o1 in g.triples((None, RDF.type, subClass)):\n",
        "    print(subClass1,p1,o1)\n",
        "\n",
        "\n",
        "\n",
        "queryPP = prepareQuery(''' \n",
        "                    Select ?x ?y ?z\n",
        "                    Where{\n",
        "                      {\n",
        "                        ?x rdf:type ns:Person.\n",
        "                        ?x ?y ?z\n",
        "                      }UNION{\n",
        "                        ?x rdf:type ?x1.\n",
        "                        ?x ?y ?z.\n",
        "                        ?x1 rdfs:subClassOf ns:Person.\n",
        "                      }\n",
        "                    }\n",
        "                        \n",
        "                    ''',\n",
        "   initNs = { \"ns\":ns, \"rdfs\":RDFS, \"rdf\":RDF}\n",
        ")\n",
        "\n",
        "for resultA in g.query(queryPP):\n",
        "  print(resultA)"
      ],
      "execution_count": null,
      "outputs": []
    }
  ]
}