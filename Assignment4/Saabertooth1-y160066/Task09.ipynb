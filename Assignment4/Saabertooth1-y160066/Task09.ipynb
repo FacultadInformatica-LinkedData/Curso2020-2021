{
  "nbformat": 4,
  "nbformat_minor": 0,
  "metadata": {
    "colab": {
      "name": "Task09.ipynb",
      "provenance": [],
      "collapsed_sections": []
    },
    "kernelspec": {
      "name": "python3",
      "display_name": "Python 3"
    }
  },
  "cells": [
    {
      "cell_type": "markdown",
      "metadata": {
        "id": "wIhJ69byU2Ad"
      },
      "source": [
        "**Task 09: Data linking**"
      ]
    },
    {
      "cell_type": "code",
      "metadata": {
        "id": "0sQG2Y915Isp",
        "outputId": "a2bfe6a0-7359-4146-f5d1-a15298bc0076",
        "colab": {
          "base_uri": "https://localhost:8080/",
          "height": 187
        }
      },
      "source": [
        "!pip install rdflib\n",
        "github_storage = \"https://raw.githubusercontent.com/FacultadInformatica-LinkedData/Curso2020-2021/master/Assignment4/\""
      ],
      "execution_count": 1,
      "outputs": [
        {
          "output_type": "stream",
          "text": [
            "Collecting rdflib\n",
            "\u001b[?25l  Downloading https://files.pythonhosted.org/packages/d0/6b/6454aa1db753c0f8bc265a5bd5c10b5721a4bb24160fb4faf758cf6be8a1/rdflib-5.0.0-py3-none-any.whl (231kB)\n",
            "\u001b[K     |████████████████████████████████| 235kB 4.4MB/s \n",
            "\u001b[?25hCollecting isodate\n",
            "\u001b[?25l  Downloading https://files.pythonhosted.org/packages/9b/9f/b36f7774ff5ea8e428fdcfc4bb332c39ee5b9362ddd3d40d9516a55221b2/isodate-0.6.0-py2.py3-none-any.whl (45kB)\n",
            "\u001b[K     |████████████████████████████████| 51kB 6.1MB/s \n",
            "\u001b[?25hRequirement already satisfied: six in /usr/local/lib/python3.6/dist-packages (from rdflib) (1.15.0)\n",
            "Requirement already satisfied: pyparsing in /usr/local/lib/python3.6/dist-packages (from rdflib) (2.4.7)\n",
            "Installing collected packages: isodate, rdflib\n",
            "Successfully installed isodate-0.6.0 rdflib-5.0.0\n"
          ],
          "name": "stdout"
        }
      ]
    },
    {
      "cell_type": "code",
      "metadata": {
        "id": "Jb4QeLue5NLr",
        "outputId": "ada6dab4-1a83-4e23-b23f-f8b68f64f8f5",
        "colab": {
          "base_uri": "https://localhost:8080/",
          "height": 34
        }
      },
      "source": [
        "from rdflib import Graph, Namespace, Literal, URIRef\n",
        "g1 = Graph()\n",
        "g2 = Graph()\n",
        "g3 = Graph()\n",
        "g1.parse(github_storage+\"resources/data03.rdf\", format=\"xml\")\n",
        "g2.parse(github_storage+\"resources/data04.rdf\", format=\"xml\")"
      ],
      "execution_count": 2,
      "outputs": [
        {
          "output_type": "execute_result",
          "data": {
            "text/plain": [
              "<Graph identifier=Na91cbc12d1064c7cb121af6e02a5172a (<class 'rdflib.graph.Graph'>)>"
            ]
          },
          "metadata": {
            "tags": []
          },
          "execution_count": 2
        }
      ]
    },
    {
      "cell_type": "markdown",
      "metadata": {
        "id": "5wfBZiQSU827"
      },
      "source": [
        "Busca individuos en los dos grafos y enlázalos mediante la propiedad OWL:sameAs, inserta estas coincidencias en g3. Consideramos dos individuos iguales si tienen el mismo apodo y nombre de familia. Ten en cuenta que las URI no tienen por qué ser iguales para un mismo individuo en los dos grafos."
      ]
    },
    {
      "cell_type": "code",
      "metadata": {
        "id": "T-SDkmVOI_GI",
        "outputId": "f233290a-0e1f-487b-c486-85e0bc575ae2",
        "colab": {
          "base_uri": "https://localhost:8080/",
          "height": 850
        }
      },
      "source": [
        "from rdflib.namespace import OWL, RDF\n",
        "from rdflib.plugins.sparql import prepareQuery\n",
        "vcard = Namespace(\"http://www.w3.org/2001/vcard-rdf/3.0#\")\n",
        "three = Namespace(\"http://data.three.org#\")\n",
        "four = Namespace(\"http://data.four.org#\")\n",
        "\n",
        "for s, p, o in g1:\n",
        "  print(s,p,o)\n",
        "\n",
        "for s, p, o in g2:\n",
        "  print(s,p,o)\n",
        "\n",
        "for s, p, o in g3:\n",
        "  print(s,p,o)\n",
        "\n"
      ],
      "execution_count": 23,
      "outputs": [
        {
          "output_type": "stream",
          "text": [
            "http://data.three.org#JohnDoe http://www.w3.org/1999/02/22-rdf-syntax-ns#type http://data.three.org#Person\n",
            "http://www.w3.org/2001/vcard-rdf/3.0/FN http://www.w3.org/1999/02/22-rdf-syntax-ns#type http://www.w3.org/2000/01/rdf-schema#Datatype\n",
            "http://data.three.org#SaraJones http://www.w3.org/2001/vcard-rdf/3.0#Given Sara\n",
            "http://www.w3.org/2001/vcard-rdf/3.0/Given http://www.w3.org/1999/02/22-rdf-syntax-ns#type http://www.w3.org/2000/01/rdf-schema#Datatype\n",
            "http://data.three.org#HarryPotter http://www.w3.org/1999/02/22-rdf-syntax-ns#type http://data.three.org#Person\n",
            "http://data.three.org#JohnDoe http://www.w3.org/2001/vcard-rdf/3.0#FN John Doe\n",
            "http://data.three.org#SaraJones http://www.w3.org/2001/vcard-rdf/3.0#FN Sara Jones\n",
            "http://data.three.org#HarryPotter http://www.w3.org/2001/vcard-rdf/3.0#FN Harry Potter\n",
            "http://data.three.org#JohnSmith http://www.w3.org/1999/02/22-rdf-syntax-ns#type http://data.three.org#Person\n",
            "http://data.three.org#JohnDoe http://www.w3.org/2001/vcard-rdf/3.0#Given John\n",
            "http://data.three.org#Person http://www.w3.org/1999/02/22-rdf-syntax-ns#type http://www.w3.org/2000/01/rdf-schema#Class\n",
            "http://data.three.org#JohnSmith http://www.w3.org/2001/vcard-rdf/3.0#Given John\n",
            "http://data.three.org#HarryPotter http://www.w3.org/2001/vcard-rdf/3.0#Given Harry\n",
            "http://data.three.org#JohnSmith http://www.w3.org/2001/vcard-rdf/3.0#Family Smith\n",
            "http://www.w3.org/2001/vcard-rdf/3.0/Given http://www.w3.org/2000/01/rdf-schema#range http://www.w3.org/2001/XMLSchema#string\n",
            "http://data.three.org#JohnSmith http://www.w3.org/2001/vcard-rdf/3.0#FN John Smith\n",
            "http://www.w3.org/2001/vcard-rdf/3.0/Family http://www.w3.org/2000/01/rdf-schema#range http://www.w3.org/2001/XMLSchema#string\n",
            "http://data.three.org#SaraJones http://www.w3.org/1999/02/22-rdf-syntax-ns#type http://data.three.org#Person\n",
            "http://www.w3.org/2001/vcard-rdf/3.0/FN http://www.w3.org/2000/01/rdf-schema#range http://www.w3.org/2001/XMLSchema#string\n",
            "http://data.three.org#SaraJones http://www.w3.org/2001/vcard-rdf/3.0#Family Jones\n",
            "http://www.w3.org/2001/vcard-rdf/3.0/Family http://www.w3.org/1999/02/22-rdf-syntax-ns#type http://www.w3.org/2000/01/rdf-schema#Property\n",
            "http://data.three.org#JohnDoe http://www.w3.org/2001/vcard-rdf/3.0#Family Doe\n",
            "http://data.four.org#0004 http://www.w3.org/2001/vcard-rdf/3.0#Family Berners Lee\n",
            "http://data.four.org#0001 http://www.w3.org/2001/vcard-rdf/3.0#FN Sara Jones\n",
            "http://data.four.org#0001 http://www.w3.org/2001/vcard-rdf/3.0#Family Jones\n",
            "http://data.four.org#0004 http://www.w3.org/2001/vcard-rdf/3.0#Given Tim\n",
            "http://www.w3.org/2001/vcard-rdf/3.0/Given http://www.w3.org/1999/02/22-rdf-syntax-ns#type http://www.w3.org/2000/01/rdf-schema#Datatype\n",
            "http://www.w3.org/2001/vcard-rdf/3.0/Family http://www.w3.org/2000/01/rdf-schema#range http://www.w3.org/2001/XMLSchema#string\n",
            "http://data.four.org#0003 http://www.w3.org/2001/vcard-rdf/3.0#Family Potter\n",
            "http://data.four.org#0002 http://www.w3.org/1999/02/22-rdf-syntax-ns#type http://data.four.org#Person\n",
            "http://data.four.org#0004 http://www.w3.org/1999/02/22-rdf-syntax-ns#type http://data.four.org#Person\n",
            "http://data.four.org#0001 http://www.w3.org/1999/02/22-rdf-syntax-ns#type http://data.four.org#Person\n",
            "http://data.four.org#0003 http://www.w3.org/2001/vcard-rdf/3.0#Given Harry\n",
            "http://data.four.org#0005 http://www.w3.org/2001/vcard-rdf/3.0#FN John Doe\n",
            "http://data.four.org#0001 http://www.w3.org/2001/vcard-rdf/3.0#Given Sara\n",
            "http://data.four.org#0002 http://www.w3.org/2001/vcard-rdf/3.0#Family Smith\n",
            "http://www.w3.org/2001/vcard-rdf/3.0/FN http://www.w3.org/2000/01/rdf-schema#range http://www.w3.org/2001/XMLSchema#string\n",
            "http://data.four.org#0002 http://www.w3.org/2001/vcard-rdf/3.0#FN John Smith\n",
            "http://data.four.org#0002 http://www.w3.org/2001/vcard-rdf/3.0#Given Jonathan\n",
            "http://data.four.org#0005 http://www.w3.org/2001/vcard-rdf/3.0#Given John\n",
            "http://data.four.org#0004 http://www.w3.org/2001/vcard-rdf/3.0#FN Tim Berners Lee\n",
            "http://data.four.org#0003 http://www.w3.org/1999/02/22-rdf-syntax-ns#type http://data.four.org#Person\n",
            "http://data.four.org#0003 http://www.w3.org/2001/vcard-rdf/3.0#FN Harry Potter\n",
            "http://data.four.org#0005 http://www.w3.org/1999/02/22-rdf-syntax-ns#type http://data.four.org#Person\n",
            "http://www.w3.org/2001/vcard-rdf/3.0/FN http://www.w3.org/1999/02/22-rdf-syntax-ns#type http://www.w3.org/2000/01/rdf-schema#Datatype\n",
            "http://data.four.org#0005 http://www.w3.org/2001/vcard-rdf/3.0#Family Doe\n",
            "http://www.w3.org/2001/vcard-rdf/3.0/Family http://www.w3.org/1999/02/22-rdf-syntax-ns#type http://www.w3.org/2000/01/rdf-schema#Property\n",
            "http://data.four.org#Person http://www.w3.org/1999/02/22-rdf-syntax-ns#type http://www.w3.org/2000/01/rdf-schema#Class\n",
            "http://www.w3.org/2001/vcard-rdf/3.0/Given http://www.w3.org/2000/01/rdf-schema#range http://www.w3.org/2001/XMLSchema#string\n"
          ],
          "name": "stdout"
        }
      ]
    },
    {
      "cell_type": "code",
      "metadata": {
        "id": "COyaF3PyKXDD",
        "outputId": "1872ae7b-168f-4d59-b86b-e7759363227b",
        "colab": {
          "base_uri": "https://localhost:8080/",
          "height": 105
        }
      },
      "source": [
        "query = prepareQuery('''\n",
        "SELECT ?Subject ?Given ?FN\n",
        "WHERE {\n",
        "  ?Subject rdf:type ns:Person.\n",
        "    ?Subject vcard:Given ?Given.\n",
        "    ?Subject vcard:FN    ?FN\n",
        "}\n",
        "''',\n",
        "initNs = {\"ns\": three, \"rdf\": RDF, \"vcard\": vcard}\n",
        ")\n",
        "graph1= []\n",
        "for result in g1.query(query):\n",
        "  print(result)\n",
        "  graph1.append(result)"
      ],
      "execution_count": 22,
      "outputs": [
        {
          "output_type": "stream",
          "text": [
            "(rdflib.term.URIRef('http://data.three.org#JohnSmith'), rdflib.term.Literal('John', datatype=rdflib.term.URIRef('http://www.w3.org/2001/XMLSchema#string')), rdflib.term.Literal('John Smith', datatype=rdflib.term.URIRef('http://www.w3.org/2001/XMLSchema#string')))\n",
            "(rdflib.term.URIRef('http://data.three.org#SaraJones'), rdflib.term.Literal('Sara', datatype=rdflib.term.URIRef('http://www.w3.org/2001/XMLSchema#string')), rdflib.term.Literal('Sara Jones', datatype=rdflib.term.URIRef('http://www.w3.org/2001/XMLSchema#string')))\n",
            "(rdflib.term.URIRef('http://data.three.org#HarryPotter'), rdflib.term.Literal('Harry', datatype=rdflib.term.URIRef('http://www.w3.org/2001/XMLSchema#string')), rdflib.term.Literal('Harry Potter', datatype=rdflib.term.URIRef('http://www.w3.org/2001/XMLSchema#string')))\n",
            "(rdflib.term.URIRef('http://data.three.org#JohnDoe'), rdflib.term.Literal('John', datatype=rdflib.term.URIRef('http://www.w3.org/2001/XMLSchema#string')), rdflib.term.Literal('John Doe', datatype=rdflib.term.URIRef('http://www.w3.org/2001/XMLSchema#string')))\n"
          ],
          "name": "stdout"
        }
      ]
    },
    {
      "cell_type": "code",
      "metadata": {
        "id": "TT5Y9PyaMLoy",
        "outputId": "87d30859-3476-4121-fca0-6282ba845207",
        "colab": {
          "base_uri": "https://localhost:8080/",
          "height": 122
        }
      },
      "source": [
        "query = prepareQuery('''\n",
        "SELECT ?Subject ?Given ?FN\n",
        "WHERE {\n",
        "  ?Subject rdf:type ns:Person.\n",
        "  ?Subject vcard:Given ?Given.\n",
        "  ?Subject vcard:FN ?FN\n",
        "}\n",
        "''',\n",
        "initNs = {\"ns\": four, \"rdf\": RDF, \"vcard\": vcard}\n",
        ")\n",
        "graph2 = []\n",
        "for result in g2.query(query):\n",
        "  print(result)\n",
        "  graph2.append(result)"
      ],
      "execution_count": 25,
      "outputs": [
        {
          "output_type": "stream",
          "text": [
            "(rdflib.term.URIRef('http://data.four.org#0002'), rdflib.term.Literal('Jonathan', datatype=rdflib.term.URIRef('http://www.w3.org/2001/XMLSchema#string')), rdflib.term.Literal('John Smith', datatype=rdflib.term.URIRef('http://www.w3.org/2001/XMLSchema#string')))\n",
            "(rdflib.term.URIRef('http://data.four.org#0003'), rdflib.term.Literal('Harry', datatype=rdflib.term.URIRef('http://www.w3.org/2001/XMLSchema#string')), rdflib.term.Literal('Harry Potter', datatype=rdflib.term.URIRef('http://www.w3.org/2001/XMLSchema#string')))\n",
            "(rdflib.term.URIRef('http://data.four.org#0001'), rdflib.term.Literal('Sara', datatype=rdflib.term.URIRef('http://www.w3.org/2001/XMLSchema#string')), rdflib.term.Literal('Sara Jones', datatype=rdflib.term.URIRef('http://www.w3.org/2001/XMLSchema#string')))\n",
            "(rdflib.term.URIRef('http://data.four.org#0004'), rdflib.term.Literal('Tim', datatype=rdflib.term.URIRef('http://www.w3.org/2001/XMLSchema#string')), rdflib.term.Literal('Tim Berners Lee', datatype=rdflib.term.URIRef('http://www.w3.org/2001/XMLSchema#string')))\n",
            "(rdflib.term.URIRef('http://data.four.org#0005'), rdflib.term.Literal('John', datatype=rdflib.term.URIRef('http://www.w3.org/2001/XMLSchema#string')), rdflib.term.Literal('John Doe', datatype=rdflib.term.URIRef('http://www.w3.org/2001/XMLSchema#string')))\n"
          ],
          "name": "stdout"
        }
      ]
    },
    {
      "cell_type": "code",
      "metadata": {
        "id": "BXyiis6AMsmW",
        "outputId": "adee9730-8edf-4284-9466-22cc06f471d7",
        "colab": {
          "base_uri": "https://localhost:8080/",
          "height": 68
        }
      },
      "source": [
        "for subject1 in graph1:\n",
        "  for subject2 in graph2:\n",
        "    if(subject1.Given == subject2.Given and subject1.FN == subject2.FN):\n",
        "      triple = (subject1.Subject, OWL.sameAs, subject2.Subject)\n",
        "      g3.add(triple)\n",
        "\n",
        "for s, p, o in g3:\n",
        "  print(s,p,o)"
      ],
      "execution_count": 27,
      "outputs": [
        {
          "output_type": "stream",
          "text": [
            "http://data.three.org#HarryPotter http://www.w3.org/2002/07/owl#sameAs http://data.four.org#0003\n",
            "http://data.three.org#SaraJones http://www.w3.org/2002/07/owl#sameAs http://data.four.org#0001\n",
            "http://data.three.org#JohnDoe http://www.w3.org/2002/07/owl#sameAs http://data.four.org#0005\n"
          ],
          "name": "stdout"
        }
      ]
    }
  ]
}
