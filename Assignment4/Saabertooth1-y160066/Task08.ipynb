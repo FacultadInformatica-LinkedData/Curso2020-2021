{
  "nbformat": 4,
  "nbformat_minor": 0,
  "metadata": {
    "colab": {
      "name": "Task08.ipynb",
      "provenance": [],
      "collapsed_sections": []
    },
    "kernelspec": {
      "name": "python3",
      "display_name": "Python 3"
    }
  },
  "cells": [
    {
      "cell_type": "markdown",
      "metadata": {
        "id": "rb2ewz-dC6GC"
      },
      "source": [
        "**Task 08: Completing missing data**"
      ]
    },
    {
      "cell_type": "code",
      "metadata": {
        "id": "0sQG2Y915Isp",
        "outputId": "16457aef-3c3e-4c58-b541-adb175de8c29",
        "colab": {
          "base_uri": "https://localhost:8080/",
          "height": 187
        }
      },
      "source": [
        "!pip install rdflib\n",
        "github_storage = \"https://raw.githubusercontent.com/FacultadInformatica-LinkedData/Curso2020-2021/master/Assignment4/\""
      ],
      "execution_count": 1,
      "outputs": [
        {
          "output_type": "stream",
          "text": [
            "Collecting rdflib\n",
            "\u001b[?25l  Downloading https://files.pythonhosted.org/packages/d0/6b/6454aa1db753c0f8bc265a5bd5c10b5721a4bb24160fb4faf758cf6be8a1/rdflib-5.0.0-py3-none-any.whl (231kB)\n",
            "\r\u001b[K     |█▍                              | 10kB 11.7MB/s eta 0:00:01\r\u001b[K     |██▉                             | 20kB 6.9MB/s eta 0:00:01\r\u001b[K     |████▎                           | 30kB 8.0MB/s eta 0:00:01\r\u001b[K     |█████▊                          | 40kB 8.2MB/s eta 0:00:01\r\u001b[K     |███████                         | 51kB 6.5MB/s eta 0:00:01\r\u001b[K     |████████▌                       | 61kB 7.5MB/s eta 0:00:01\r\u001b[K     |██████████                      | 71kB 7.5MB/s eta 0:00:01\r\u001b[K     |███████████▍                    | 81kB 8.0MB/s eta 0:00:01\r\u001b[K     |████████████▊                   | 92kB 8.4MB/s eta 0:00:01\r\u001b[K     |██████████████▏                 | 102kB 8.8MB/s eta 0:00:01\r\u001b[K     |███████████████▋                | 112kB 8.8MB/s eta 0:00:01\r\u001b[K     |█████████████████               | 122kB 8.8MB/s eta 0:00:01\r\u001b[K     |██████████████████▍             | 133kB 8.8MB/s eta 0:00:01\r\u001b[K     |███████████████████▉            | 143kB 8.8MB/s eta 0:00:01\r\u001b[K     |█████████████████████▎          | 153kB 8.8MB/s eta 0:00:01\r\u001b[K     |██████████████████████▊         | 163kB 8.8MB/s eta 0:00:01\r\u001b[K     |████████████████████████        | 174kB 8.8MB/s eta 0:00:01\r\u001b[K     |█████████████████████████▌      | 184kB 8.8MB/s eta 0:00:01\r\u001b[K     |███████████████████████████     | 194kB 8.8MB/s eta 0:00:01\r\u001b[K     |████████████████████████████▍   | 204kB 8.8MB/s eta 0:00:01\r\u001b[K     |█████████████████████████████▉  | 215kB 8.8MB/s eta 0:00:01\r\u001b[K     |███████████████████████████████▏| 225kB 8.8MB/s eta 0:00:01\r\u001b[K     |████████████████████████████████| 235kB 8.8MB/s \n",
            "\u001b[?25hRequirement already satisfied: six in /usr/local/lib/python3.6/dist-packages (from rdflib) (1.15.0)\n",
            "Collecting isodate\n",
            "\u001b[?25l  Downloading https://files.pythonhosted.org/packages/9b/9f/b36f7774ff5ea8e428fdcfc4bb332c39ee5b9362ddd3d40d9516a55221b2/isodate-0.6.0-py2.py3-none-any.whl (45kB)\n",
            "\u001b[K     |████████████████████████████████| 51kB 3.6MB/s \n",
            "\u001b[?25hRequirement already satisfied: pyparsing in /usr/local/lib/python3.6/dist-packages (from rdflib) (2.4.7)\n",
            "Installing collected packages: isodate, rdflib\n",
            "Successfully installed isodate-0.6.0 rdflib-5.0.0\n"
          ],
          "name": "stdout"
        }
      ]
    },
    {
      "cell_type": "code",
      "metadata": {
        "id": "Jb4QeLue5NLr",
        "outputId": "079fc371-1744-4d0a-8431-2876f47e647e",
        "colab": {
          "base_uri": "https://localhost:8080/",
          "height": 34
        }
      },
      "source": [
        "from rdflib import Graph, Namespace, Literal, URIRef\n",
        "g1 = Graph()\n",
        "g2 = Graph()\n",
        "g1.parse(github_storage+\"resources/data01.rdf\", format=\"xml\")\n",
        "g2.parse(github_storage+\"resources/data02.rdf\", format=\"xml\")"
      ],
      "execution_count": 5,
      "outputs": [
        {
          "output_type": "execute_result",
          "data": {
            "text/plain": [
              "<Graph identifier=N7bec9dbf3cbf441faafe15bac76aeb2a (<class 'rdflib.graph.Graph'>)>"
            ]
          },
          "metadata": {
            "tags": []
          },
          "execution_count": 5
        }
      ]
    },
    {
      "cell_type": "markdown",
      "metadata": {
        "id": "kxxKghwBElOm"
      },
      "source": [
        "Tarea: lista todos los elementos de la clase Person en el primer grafo (data01.rdf) y completa los campos (given name, family name y email) que puedan faltar con los datos del segundo grafo (data02.rdf). Puedes usar consultas SPARQL o iterar el grafo, o ambas cosas."
      ]
    },
    {
      "cell_type": "code",
      "metadata": {
        "id": "xz75-gOvFbSX",
        "outputId": "07dc01eb-44af-4af0-8d06-e3b5c0a4a6c6",
        "colab": {
          "base_uri": "https://localhost:8080/",
          "height": 85
        }
      },
      "source": [
        "from rdflib.plugins.sparql import prepareQuery\n",
        "from rdflib.namespace import RDF\n",
        "\n",
        "data = Namespace(\"http://data.org#\")\n",
        "vcard = Namespace(\"http://www.w3.org/2001/vcard-rdf/3.0#\")\n",
        "\n",
        "query = prepareQuery('''\n",
        "SELECT ?Subject\n",
        "WHERE {\n",
        "  ?Subject rdf:type ns:Person\n",
        "}\n",
        "''',\n",
        "initNs = {\"ns\": data, \"rdf\":RDF}\n",
        ")\n",
        "for result in g1.query(query):\n",
        "  print(result.Subject)\n"
      ],
      "execution_count": 10,
      "outputs": [
        {
          "output_type": "stream",
          "text": [
            "http://data.org#JohnDoe\n",
            "http://data.org#JohnSmith\n",
            "http://data.org#SaraJones\n",
            "http://data.org#HarryPotter\n"
          ],
          "name": "stdout"
        }
      ]
    },
    {
      "cell_type": "code",
      "metadata": {
        "id": "Rc5Yw1-GG4xE",
        "outputId": "a369510a-2a06-40a4-d967-cdf4f0d3ffb8",
        "colab": {
          "base_uri": "https://localhost:8080/",
          "height": 442
        }
      },
      "source": [
        "for s, p, o in g2:\n",
        "  print(s,p,o)"
      ],
      "execution_count": 11,
      "outputs": [
        {
          "output_type": "stream",
          "text": [
            "http://data.org#JohnDoe http://www.w3.org/2001/vcard-rdf/3.0#EMAIL doe@data.org\n",
            "http://data.org#HarryPotter http://www.w3.org/2001/vcard-rdf/3.0#Given Harry\n",
            "http://data.org#JohnSmith http://www.w3.org/2001/vcard-rdf/3.0#Given John\n",
            "http://data.org#SaraJones http://www.w3.org/1999/02/22-rdf-syntax-ns#type http://data.org#Person\n",
            "http://data.org#HarryPotter http://www.w3.org/2001/vcard-rdf/3.0#FN Harry Potter\n",
            "http://data.org#JohnSmith http://www.w3.org/1999/02/22-rdf-syntax-ns#type http://data.org#Person\n",
            "http://www.w3.org/2001/vcard-rdf/3.0/FN http://www.w3.org/2000/01/rdf-schema#range http://www.w3.org/2001/XMLSchema#string\n",
            "http://data.org#JohnSmith http://www.w3.org/2001/vcard-rdf/3.0#Family Smith\n",
            "http://www.w3.org/2001/vcard-rdf/3.0/Given http://www.w3.org/2000/01/rdf-schema#range http://www.w3.org/2001/XMLSchema#string\n",
            "http://data.org#SaraJones http://www.w3.org/2001/vcard-rdf/3.0#Family Jones\n",
            "http://data.org#JohnDoe http://www.w3.org/1999/02/22-rdf-syntax-ns#type http://data.org#Person\n",
            "http://www.w3.org/2001/vcard-rdf/3.0/EMAIL http://www.w3.org/1999/02/22-rdf-syntax-ns#type http://www.w3.org/2000/01/rdf-schema#Datatype\n",
            "http://data.org#SaraJones http://www.w3.org/2001/vcard-rdf/3.0#Given Sara\n",
            "http://data.org#Person http://www.w3.org/1999/02/22-rdf-syntax-ns#type http://www.w3.org/2000/01/rdf-schema#Class\n",
            "http://data.org#SaraJones http://www.w3.org/2001/vcard-rdf/3.0#EMAIL sara.jones@data.org\n",
            "http://www.w3.org/2001/vcard-rdf/3.0/Family http://www.w3.org/2000/01/rdf-schema#range http://www.w3.org/2001/XMLSchema#string\n",
            "http://www.w3.org/2001/vcard-rdf/3.0/Family http://www.w3.org/1999/02/22-rdf-syntax-ns#type http://www.w3.org/2000/01/rdf-schema#Property\n",
            "http://data.org#HarryPotter http://www.w3.org/2001/vcard-rdf/3.0#EMAIL hpotter@hogwarts.org\n",
            "http://www.w3.org/2001/vcard-rdf/3.0/FN http://www.w3.org/1999/02/22-rdf-syntax-ns#type http://www.w3.org/2000/01/rdf-schema#Datatype\n",
            "http://data.org#JohnSmith http://www.w3.org/2001/vcard-rdf/3.0#EMAIL j.smith@data.org\n",
            "http://www.w3.org/2001/vcard-rdf/3.0/Given http://www.w3.org/1999/02/22-rdf-syntax-ns#type http://www.w3.org/2000/01/rdf-schema#Datatype\n",
            "http://data.org#HarryPotter http://www.w3.org/1999/02/22-rdf-syntax-ns#type http://data.org#Person\n",
            "http://data.org#JohnDoe http://www.w3.org/2001/vcard-rdf/3.0#Given John\n",
            "http://www.w3.org/2001/vcard-rdf/3.0/EMAIL http://www.w3.org/2000/01/rdf-schema#range http://www.w3.org/2001/XMLSchema#string\n",
            "http://data.org#JohnDoe http://www.w3.org/2001/vcard-rdf/3.0#Family Doe\n"
          ],
          "name": "stdout"
        }
      ]
    },
    {
      "cell_type": "code",
      "metadata": {
        "id": "HxBGBCRDG8Wx",
        "outputId": "656b1943-f86d-4bf0-c06c-73354bd0b5e8",
        "colab": {
          "base_uri": "https://localhost:8080/",
          "height": 190
        }
      },
      "source": [
        "query = prepareQuery('''\n",
        "SELECT ?Subject ?P ?O\n",
        "WHERE {\n",
        "  ?Subject ?P ?O\n",
        "  FILTER(?P=vcard:FN || ?P=vcard:Given || ?P=vcard:EMAIL)\n",
        "}\n",
        "''',\n",
        "initNs = {\"vcard\": vcard}\n",
        ")\n",
        "\n",
        "for result in g2.query(query):\n",
        "  print(result)"
      ],
      "execution_count": 13,
      "outputs": [
        {
          "output_type": "stream",
          "text": [
            "(rdflib.term.URIRef('http://data.org#JohnDoe'), rdflib.term.URIRef('http://www.w3.org/2001/vcard-rdf/3.0#EMAIL'), rdflib.term.Literal('doe@data.org', datatype=rdflib.term.URIRef('http://www.w3.org/2001/XMLSchema#string')))\n",
            "(rdflib.term.URIRef('http://data.org#HarryPotter'), rdflib.term.URIRef('http://www.w3.org/2001/vcard-rdf/3.0#Given'), rdflib.term.Literal('Harry', datatype=rdflib.term.URIRef('http://www.w3.org/2001/XMLSchema#string')))\n",
            "(rdflib.term.URIRef('http://data.org#JohnSmith'), rdflib.term.URIRef('http://www.w3.org/2001/vcard-rdf/3.0#Given'), rdflib.term.Literal('John', datatype=rdflib.term.URIRef('http://www.w3.org/2001/XMLSchema#string')))\n",
            "(rdflib.term.URIRef('http://data.org#HarryPotter'), rdflib.term.URIRef('http://www.w3.org/2001/vcard-rdf/3.0#FN'), rdflib.term.Literal('Harry Potter', datatype=rdflib.term.URIRef('http://www.w3.org/2001/XMLSchema#string')))\n",
            "(rdflib.term.URIRef('http://data.org#SaraJones'), rdflib.term.URIRef('http://www.w3.org/2001/vcard-rdf/3.0#Given'), rdflib.term.Literal('Sara', datatype=rdflib.term.URIRef('http://www.w3.org/2001/XMLSchema#string')))\n",
            "(rdflib.term.URIRef('http://data.org#SaraJones'), rdflib.term.URIRef('http://www.w3.org/2001/vcard-rdf/3.0#EMAIL'), rdflib.term.Literal('sara.jones@data.org', datatype=rdflib.term.URIRef('http://www.w3.org/2001/XMLSchema#string')))\n",
            "(rdflib.term.URIRef('http://data.org#HarryPotter'), rdflib.term.URIRef('http://www.w3.org/2001/vcard-rdf/3.0#EMAIL'), rdflib.term.Literal('hpotter@hogwarts.org', datatype=rdflib.term.URIRef('http://www.w3.org/2001/XMLSchema#string')))\n",
            "(rdflib.term.URIRef('http://data.org#JohnSmith'), rdflib.term.URIRef('http://www.w3.org/2001/vcard-rdf/3.0#EMAIL'), rdflib.term.Literal('j.smith@data.org', datatype=rdflib.term.URIRef('http://www.w3.org/2001/XMLSchema#string')))\n",
            "(rdflib.term.URIRef('http://data.org#JohnDoe'), rdflib.term.URIRef('http://www.w3.org/2001/vcard-rdf/3.0#Given'), rdflib.term.Literal('John', datatype=rdflib.term.URIRef('http://www.w3.org/2001/XMLSchema#string')))\n"
          ],
          "name": "stdout"
        }
      ]
    },
    {
      "cell_type": "code",
      "metadata": {
        "id": "HGdEd5TyHm14",
        "outputId": "a92807bd-140f-4290-aba7-5134b509b2ff",
        "colab": {
          "base_uri": "https://localhost:8080/",
          "height": 323
        }
      },
      "source": [
        "g1.add(result)\n",
        "\n",
        "for s, p, o in g1:\n",
        "  print(s,p,o)"
      ],
      "execution_count": 15,
      "outputs": [
        {
          "output_type": "stream",
          "text": [
            "http://data.org#HarryPotter http://www.w3.org/2001/vcard-rdf/3.0#Given Harry\n",
            "http://www.w3.org/2001/vcard-rdf/3.0#Family http://www.w3.org/2000/01/rdf-schema#range http://www.w3.org/2001/XMLSchema#string\n",
            "http://www.w3.org/2001/vcard-rdf/3.0#Family http://www.w3.org/1999/02/22-rdf-syntax-ns#type http://www.w3.org/2000/01/rdf-schema#Property\n",
            "http://data.org#JohnDoe http://www.w3.org/2001/vcard-rdf/3.0#Family Doe\n",
            "http://data.org#JohnSmith http://www.w3.org/2001/vcard-rdf/3.0#EMAIL j.smith@data.org\n",
            "http://data.org#JohnSmith http://www.w3.org/2001/vcard-rdf/3.0#Given John\n",
            "http://data.org#HarryPotter http://www.w3.org/1999/02/22-rdf-syntax-ns#type http://data.org#Person\n",
            "http://www.w3.org/2001/vcard-rdf/3.0#Given http://www.w3.org/2000/01/rdf-schema#range http://www.w3.org/2001/XMLSchema#string\n",
            "http://www.w3.org/2001/vcard-rdf/3.0#EMAIL http://www.w3.org/2000/01/rdf-schema#range http://www.w3.org/2001/XMLSchema#string\n",
            "http://www.w3.org/2001/vcard-rdf/3.0#Given http://www.w3.org/1999/02/22-rdf-syntax-ns#type http://www.w3.org/2000/01/rdf-schema#Datatype\n",
            "http://www.w3.org/2001/vcard-rdf/3.0#EMAIL http://www.w3.org/1999/02/22-rdf-syntax-ns#type http://www.w3.org/2000/01/rdf-schema#Datatype\n",
            "http://data.org#JohnSmith http://www.w3.org/1999/02/22-rdf-syntax-ns#type http://data.org#Person\n",
            "http://data.org#JohnDoe http://www.w3.org/2001/vcard-rdf/3.0#Given John\n",
            "http://data.org#Person http://www.w3.org/1999/02/22-rdf-syntax-ns#type http://www.w3.org/2000/01/rdf-schema#Class\n",
            "http://data.org#SaraJones http://www.w3.org/1999/02/22-rdf-syntax-ns#type http://data.org#Person\n",
            "http://data.org#JohnDoe http://www.w3.org/2001/vcard-rdf/3.0#EMAIL doe@data.org\n",
            "http://data.org#JohnDoe http://www.w3.org/1999/02/22-rdf-syntax-ns#type http://data.org#Person\n",
            "http://data.org#HarryPotter http://www.w3.org/2001/vcard-rdf/3.0#Family Potter\n"
          ],
          "name": "stdout"
        }
      ]
    }
  ]
}
