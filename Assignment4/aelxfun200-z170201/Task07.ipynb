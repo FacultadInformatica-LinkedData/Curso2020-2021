{
  "nbformat": 4,
  "nbformat_minor": 0,
  "metadata": {
    "colab": {
      "name": "Task07.ipynb",
      "provenance": [],
      "collapsed_sections": []
    },
    "kernelspec": {
      "name": "python3",
      "display_name": "Python 3"
    }
  },
  "cells": [
    {
      "cell_type": "markdown",
      "metadata": {
        "id": "nOOPLCHF7hLB"
      },
      "source": [
        "**Task 07: Querying RDF(s)**"
      ]
    },
    {
      "cell_type": "code",
      "metadata": {
        "id": "Yl9npCt8n6m-",
        "outputId": "36183d2e-537d-4e17-eade-af4cb913647a",
        "colab": {
          "base_uri": "https://localhost:8080/",
          "height": 207
        }
      },
      "source": [
        "!pip install rdflib \n",
        "github_storage = \"https://raw.githubusercontent.com/FacultadInformatica-LinkedData/Curso2020-2021/master/Assignment4\""
      ],
      "execution_count": 1,
      "outputs": [
        {
          "output_type": "stream",
          "text": [
            "Collecting rdflib\n",
            "\u001b[?25l  Downloading https://files.pythonhosted.org/packages/d0/6b/6454aa1db753c0f8bc265a5bd5c10b5721a4bb24160fb4faf758cf6be8a1/rdflib-5.0.0-py3-none-any.whl (231kB)\n",
            "\r\u001b[K     |█▍                              | 10kB 11.8MB/s eta 0:00:01\r\u001b[K     |██▉                             | 20kB 1.7MB/s eta 0:00:01\r\u001b[K     |████▎                           | 30kB 2.2MB/s eta 0:00:01\r\u001b[K     |█████▊                          | 40kB 2.4MB/s eta 0:00:01\r\u001b[K     |███████                         | 51kB 1.9MB/s eta 0:00:01\r\u001b[K     |████████▌                       | 61kB 2.2MB/s eta 0:00:01\r\u001b[K     |██████████                      | 71kB 2.4MB/s eta 0:00:01\r\u001b[K     |███████████▍                    | 81kB 2.6MB/s eta 0:00:01\r\u001b[K     |████████████▊                   | 92kB 2.8MB/s eta 0:00:01\r\u001b[K     |██████████████▏                 | 102kB 2.7MB/s eta 0:00:01\r\u001b[K     |███████████████▋                | 112kB 2.7MB/s eta 0:00:01\r\u001b[K     |█████████████████               | 122kB 2.7MB/s eta 0:00:01\r\u001b[K     |██████████████████▍             | 133kB 2.7MB/s eta 0:00:01\r\u001b[K     |███████████████████▉            | 143kB 2.7MB/s eta 0:00:01\r\u001b[K     |█████████████████████▎          | 153kB 2.7MB/s eta 0:00:01\r\u001b[K     |██████████████████████▊         | 163kB 2.7MB/s eta 0:00:01\r\u001b[K     |████████████████████████        | 174kB 2.7MB/s eta 0:00:01\r\u001b[K     |█████████████████████████▌      | 184kB 2.7MB/s eta 0:00:01\r\u001b[K     |███████████████████████████     | 194kB 2.7MB/s eta 0:00:01\r\u001b[K     |████████████████████████████▍   | 204kB 2.7MB/s eta 0:00:01\r\u001b[K     |█████████████████████████████▉  | 215kB 2.7MB/s eta 0:00:01\r\u001b[K     |███████████████████████████████▏| 225kB 2.7MB/s eta 0:00:01\r\u001b[K     |████████████████████████████████| 235kB 2.7MB/s \n",
            "\u001b[?25hRequirement already satisfied: six in /usr/local/lib/python3.6/dist-packages (from rdflib) (1.15.0)\n",
            "Requirement already satisfied: pyparsing in /usr/local/lib/python3.6/dist-packages (from rdflib) (2.4.7)\n",
            "Collecting isodate\n",
            "\u001b[?25l  Downloading https://files.pythonhosted.org/packages/9b/9f/b36f7774ff5ea8e428fdcfc4bb332c39ee5b9362ddd3d40d9516a55221b2/isodate-0.6.0-py2.py3-none-any.whl (45kB)\n",
            "\u001b[K     |████████████████████████████████| 51kB 5.1MB/s \n",
            "\u001b[?25hInstalling collected packages: isodate, rdflib\n",
            "Successfully installed isodate-0.6.0 rdflib-5.0.0\n"
          ],
          "name": "stdout"
        }
      ]
    },
    {
      "cell_type": "markdown",
      "metadata": {
        "id": "XY7aPc86Bqoo"
      },
      "source": [
        "Leemos el fichero RDF de la forma que lo hemos venido haciendo"
      ]
    },
    {
      "cell_type": "code",
      "metadata": {
        "id": "9ERh415on7kF",
        "outputId": "ef60d6e5-0a96-487c-e5dc-d1269f4ce5cc",
        "colab": {
          "base_uri": "https://localhost:8080/",
          "height": 34
        }
      },
      "source": [
        "from rdflib import Graph, Namespace, Literal\n",
        "from rdflib.namespace import RDF, RDFS\n",
        "g = Graph()\n",
        "g.namespace_manager.bind('ns', Namespace(\"http://somewhere#\"), override=False)\n",
        "g.namespace_manager.bind('vcard', Namespace(\"http://www.w3.org/2001/vcard-rdf/3.0#\"), override=False)\n",
        "g.parse(github_storage+\"/resources/example6.rdf\", format=\"xml\")"
      ],
      "execution_count": 2,
      "outputs": [
        {
          "output_type": "execute_result",
          "data": {
            "text/plain": [
              "<Graph identifier=N651bda138ecb49ca83b3a431e11a3ff6 (<class 'rdflib.graph.Graph'>)>"
            ]
          },
          "metadata": {
            "tags": []
          },
          "execution_count": 2
        }
      ]
    },
    {
      "cell_type": "markdown",
      "metadata": {
        "id": "qp1oe2Eddsvo"
      },
      "source": [
        "**TASK 7.1: List all subclasses of \"Person\" with RDFLib and SPARQL**"
      ]
    },
    {
      "cell_type": "code",
      "metadata": {
        "id": "t6LX0vcc7IRx",
        "outputId": "d0959b16-fbca-4efc-db66-0d7fed0b6ce4",
        "colab": {
          "base_uri": "https://localhost:8080/",
          "height": 119
        }
      },
      "source": [
        "from rdflib.plugins.sparql import prepareQuery\n",
        "\n",
        "case = Namespace(\"http://somewhere#\")\n",
        "print(\"List of subclasses with RDFLib\")\n",
        "for s, p, o in g.triples((None, RDFS.subClassOf, case.Person)):\n",
        "  print(s)\n",
        "  for sj, pd, oj in g.triples((None, RDFS.subClassOf, s)):\n",
        "    print(sj)\n",
        "\n",
        "print(\"List of subclasses with SPARQL\")\n",
        "\n",
        "q1 = prepareQuery('''\n",
        "  SELECT \n",
        "  ?subclass ?pred ?obj \n",
        "  WHERE {\n",
        "    ?subclass rdfs:subClassOf* case:Person.\n",
        "    ?subclass ?pred ?obj filter(?pred not in (rdf:type))\n",
        "  }\n",
        "  ''', \n",
        "  initNs = { \"case\": case}\n",
        "\n",
        "\n",
        ")\n",
        "\n",
        "for r in g.query(q1, initBindings = { '?pred' : RDFS.subClassOf}):\n",
        "  print(r.subclass, r.pred, r.obj)"
      ],
      "execution_count": 3,
      "outputs": [
        {
          "output_type": "stream",
          "text": [
            "List of subclasses with RDFLib\n",
            "http://somewhere#Researcher\n",
            "http://somewhere#PhDstudent\n",
            "List of subclasses with SPARQL\n",
            "http://somewhere#Researcher http://www.w3.org/2000/01/rdf-schema#subClassOf http://somewhere#Person\n",
            "http://somewhere#PhDstudent http://www.w3.org/2000/01/rdf-schema#subClassOf http://somewhere#Researcher\n"
          ],
          "name": "stdout"
        }
      ]
    },
    {
      "cell_type": "markdown",
      "metadata": {
        "id": "gM3DASkTQQ5Y"
      },
      "source": [
        "**TASK 7.2: List all individuals of \"Person\" with RDFLib and SPARQL (remember the subClasses)**\n"
      ]
    },
    {
      "cell_type": "code",
      "metadata": {
        "id": "VhB6ceKIpBVe",
        "outputId": "173d92a4-18fa-485b-cf53-c58e5fe9d6ed",
        "colab": {
          "base_uri": "https://localhost:8080/",
          "height": 153
        }
      },
      "source": [
        "from rdflib.plugins.sparql import prepareQuery\n",
        "\n",
        "print(\"List of Individuals with RDFLib\")\n",
        "for s, p, o in g.triples((None, RDFS.subClassOf, case.Person)):\n",
        "  for sj, pd, oj in g.triples((None, RDF.type, s)):\n",
        "    print(sj)\n",
        "    for sjt, pdt, obj in g.triples((None, RDF.type, case.Person)):\n",
        "      print(sjt)\n",
        "    \n",
        "print(\"List of subclasses with SPARQL\")\n",
        "\n",
        "q2 = prepareQuery('''\n",
        "  SELECT DISTINCT ?sbj \n",
        "  WHERE {\n",
        "    {?person rdfs:subClassOf* case:Person.\n",
        "    ?sbj a ?person.} UNION\n",
        "    {?subj a case:Person.}\n",
        "    \n",
        "  }\n",
        "  ''', \n",
        "  initNs = { \"case\": case}\n",
        "\n",
        ")\n",
        "\n",
        "for r in g.query(q2):\n",
        "  print(r.sbj)"
      ],
      "execution_count": 15,
      "outputs": [
        {
          "output_type": "stream",
          "text": [
            "List of subclasses with RDFLib\n",
            "http://somewhere#JaneSmith\n",
            "http://somewhere#SaraJones\n",
            "http://somewhere#JohnSmith\n",
            "List of subclasses with SPARQL\n",
            "http://somewhere#SaraJones\n",
            "http://somewhere#JohnSmith\n",
            "http://somewhere#JaneSmith\n"
          ],
          "name": "stdout"
        }
      ]
    },
    {
      "cell_type": "markdown",
      "metadata": {
        "id": "MXBqtBkJd22I"
      },
      "source": [
        "**TASK 7.3: List all individuals of \"Person\" and all their properties including their class with RDFLib and SPARQL**\n"
      ]
    },
    {
      "cell_type": "code",
      "metadata": {
        "id": "UF_6jKA-qzZn",
        "outputId": "e1134dd8-5c4c-4062-e56b-5fdd2528ccf7",
        "colab": {
          "base_uri": "https://localhost:8080/",
          "height": 459
        }
      },
      "source": [
        "from rdflib.plugins.sparql import prepareQuery\n",
        "\n",
        "print(\"List of Individuals and their properties with RDFLib\")\n",
        "for s, p, o in g.triples((None, RDFS.subClassOf, case.Person)):\n",
        "  for sj, pd, oj in g.triples((None, RDF.type, s)):\n",
        "    for sj_1,pd_1, ob_1 in g.triples((sj, None, None)):\n",
        "      print(sj_1, pd_1, ob_1)\n",
        "for sjt, pdt, obj in g.triples((None, RDF.type, case.Person)):\n",
        "    for sjt_1, pdt_1, obj_1 in g.triples((sjt, None, None)):\n",
        "        print(sjt, pdt_1, obj_1)\n",
        "\n",
        "print(\"List of Individuals and their properties with SPARQL\")\n",
        "\n",
        "q3 = prepareQuery('''\n",
        "  SELECT DISTINCT ?subj ?proper ?value\n",
        "  WHERE {\n",
        "    {?person rdfs:subClassOf* case:Person.\n",
        "    ?subj a ?person.\n",
        "    ?subj ?proper ?value.} UNION\n",
        "    {?subj a case:Person.\n",
        "    ?subj ?proper ?value. }\n",
        "  }\n",
        "  ''',\n",
        "  initNs = { \"case\": case}\n",
        "\n",
        "\n",
        ")\n",
        "\n",
        "for r in g.query(q3):\n",
        "  print(r.subj, r.proper, r.value)"
      ],
      "execution_count": 30,
      "outputs": [
        {
          "output_type": "stream",
          "text": [
            "List of Individuals and their properties with RDFLib\n",
            "http://somewhere#JaneSmith http://www.w3.org/1999/02/22-rdf-syntax-ns#type http://somewhere#Researcher\n",
            "http://somewhere#JaneSmith http://somewhere#http://www.w3.org/2001/vcard-rdf/3.0/FN jane Smith\n",
            "http://somewhere#JaneSmith http://somewhere#http://www.w3.org/2001/vcard-rdf/3.0/Given Jane\n",
            "http://somewhere#JaneSmith http://somewhere#http://www.w3.org/2001/vcard-rdf/3.0/Family Smith\n",
            "http://somewhere#SaraJones http://somewhere#http://www.w3.org/2001/vcard-rdf/3.0/FN Sara Jones\n",
            "http://somewhere#SaraJones http://somewhere#http://www.w3.org/2001/vcard-rdf/3.0/Given Sara\n",
            "http://somewhere#SaraJones http://somewhere#http://www.w3.org/2001/vcard-rdf/3.0/Family Jones\n",
            "http://somewhere#SaraJones http://www.w3.org/1999/02/22-rdf-syntax-ns#type http://somewhere#Person\n",
            "http://somewhere#JohnSmith http://somewhere#http://www.w3.org/2001/vcard-rdf/3.0/Family Smith\n",
            "http://somewhere#JohnSmith http://somewhere#http://www.w3.org/2001/vcard-rdf/3.0/FN John Smith\n",
            "http://somewhere#JohnSmith http://somewhere#http://www.w3.org/2001/vcard-rdf/3.0/Given John\n",
            "http://somewhere#JohnSmith http://www.w3.org/1999/02/22-rdf-syntax-ns#type http://somewhere#Person\n",
            "List of Individuals and their properties with SPARQL\n",
            "http://somewhere#SaraJones http://somewhere#http://www.w3.org/2001/vcard-rdf/3.0/FN Sara Jones\n",
            "http://somewhere#SaraJones http://somewhere#http://www.w3.org/2001/vcard-rdf/3.0/Given Sara\n",
            "http://somewhere#SaraJones http://somewhere#http://www.w3.org/2001/vcard-rdf/3.0/Family Jones\n",
            "http://somewhere#SaraJones http://www.w3.org/1999/02/22-rdf-syntax-ns#type http://somewhere#Person\n",
            "http://somewhere#JohnSmith http://somewhere#http://www.w3.org/2001/vcard-rdf/3.0/Family Smith\n",
            "http://somewhere#JohnSmith http://somewhere#http://www.w3.org/2001/vcard-rdf/3.0/FN John Smith\n",
            "http://somewhere#JohnSmith http://somewhere#http://www.w3.org/2001/vcard-rdf/3.0/Given John\n",
            "http://somewhere#JohnSmith http://www.w3.org/1999/02/22-rdf-syntax-ns#type http://somewhere#Person\n",
            "http://somewhere#JaneSmith http://www.w3.org/1999/02/22-rdf-syntax-ns#type http://somewhere#Researcher\n",
            "http://somewhere#JaneSmith http://somewhere#http://www.w3.org/2001/vcard-rdf/3.0/FN jane Smith\n",
            "http://somewhere#JaneSmith http://somewhere#http://www.w3.org/2001/vcard-rdf/3.0/Given Jane\n",
            "http://somewhere#JaneSmith http://somewhere#http://www.w3.org/2001/vcard-rdf/3.0/Family Smith\n"
          ],
          "name": "stdout"
        }
      ]
    }
  ]
}