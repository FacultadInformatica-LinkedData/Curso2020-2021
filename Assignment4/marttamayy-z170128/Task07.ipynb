{
  "nbformat": 4,
  "nbformat_minor": 0,
  "metadata": {
    "colab": {
      "name": "Task07.ipynb",
      "provenance": [],
      "collapsed_sections": []
    },
    "kernelspec": {
      "name": "python3",
      "display_name": "Python 3"
    }
  },
  "cells": [
    {
      "cell_type": "markdown",
      "metadata": {
        "id": "nOOPLCHF7hLB"
      },
      "source": [
        "**Task 07: Querying RDF(s)**"
      ]
    },
    {
      "cell_type": "code",
      "metadata": {
        "id": "Yl9npCt8n6m-",
        "outputId": "f05d587f-5d16-45b1-a75d-c036439a3822",
        "colab": {
          "base_uri": "https://localhost:8080/",
          "height": 187
        }
      },
      "source": [
        "!pip install rdflib \n",
        "github_storage = \"https://raw.githubusercontent.com/FacultadInformatica-LinkedData/Curso2020-2021/master/Assignment4\""
      ],
      "execution_count": 2,
      "outputs": [
        {
          "output_type": "stream",
          "text": [
            "Collecting rdflib\n",
            "\u001b[?25l  Downloading https://files.pythonhosted.org/packages/d0/6b/6454aa1db753c0f8bc265a5bd5c10b5721a4bb24160fb4faf758cf6be8a1/rdflib-5.0.0-py3-none-any.whl (231kB)\n",
            "\u001b[K     |████████████████████████████████| 235kB 2.8MB/s \n",
            "\u001b[?25hRequirement already satisfied: pyparsing in /usr/local/lib/python3.6/dist-packages (from rdflib) (2.4.7)\n",
            "Requirement already satisfied: six in /usr/local/lib/python3.6/dist-packages (from rdflib) (1.15.0)\n",
            "Collecting isodate\n",
            "\u001b[?25l  Downloading https://files.pythonhosted.org/packages/9b/9f/b36f7774ff5ea8e428fdcfc4bb332c39ee5b9362ddd3d40d9516a55221b2/isodate-0.6.0-py2.py3-none-any.whl (45kB)\n",
            "\u001b[K     |████████████████████████████████| 51kB 6.2MB/s \n",
            "\u001b[?25hInstalling collected packages: isodate, rdflib\n",
            "Successfully installed isodate-0.6.0 rdflib-5.0.0\n"
          ],
          "name": "stdout"
        }
      ]
    },
    {
      "cell_type": "markdown",
      "metadata": {
        "id": "XY7aPc86Bqoo"
      },
      "source": [
        "Leemos el fichero RDF de la forma que lo hemos venido haciendo"
      ]
    },
    {
      "cell_type": "code",
      "metadata": {
        "id": "9ERh415on7kF",
        "outputId": "52cc1fbf-8995-4979-f061-d4119ac78be6",
        "colab": {
          "base_uri": "https://localhost:8080/",
          "height": 34
        }
      },
      "source": [
        "from rdflib import Graph, Namespace, Literal\n",
        "from rdflib.namespace import RDF, RDFS\n",
        "g = Graph()\n",
        "g.namespace_manager.bind('ns', Namespace(\"http://somewhere#\"), override=False)\n",
        "g.namespace_manager.bind('vcard', Namespace(\"http://www.w3.org/2001/vcard-rdf/3.0#\"), override=False)\n",
        "g.parse(github_storage+\"/resources/example6.rdf\", format=\"xml\")"
      ],
      "execution_count": 3,
      "outputs": [
        {
          "output_type": "execute_result",
          "data": {
            "text/plain": [
              "<Graph identifier=Nfd40321bfb9a41a3a7ac61e8af7efab1 (<class 'rdflib.graph.Graph'>)>"
            ]
          },
          "metadata": {
            "tags": []
          },
          "execution_count": 3
        }
      ]
    },
    {
      "cell_type": "markdown",
      "metadata": {
        "id": "qp1oe2Eddsvo"
      },
      "source": [
        "**TASK 7.1: List all subclasses of \"Person\" with RDFLib and SPARQL**"
      ]
    },
    {
      "cell_type": "code",
      "metadata": {
        "id": "YG40Raszzq7g",
        "outputId": "86cc3530-9fea-4372-e286-463ea2f8f4f4",
        "colab": {
          "base_uri": "https://localhost:8080/",
          "height": 68
        }
      },
      "source": [
        "ns = Namespace(\"http://somewhere#\")\n",
        "\n",
        "for s,p,o in g.triples((None, RDFS.subClassOf, ns.Person)):\n",
        "  print(s,p,o)\n",
        "\n",
        "from rdflib.plugins.sparql import prepareQuery\n",
        "\n",
        "print(\"subclasses:\")\n",
        "q1 = prepareQuery('''\n",
        "  SELECT \n",
        "    ?s\n",
        "  WHERE { \n",
        "    ?s rdfs:subClassOf ns:Person. \n",
        "  }\n",
        "  ''',\n",
        "  initNs = { \"rdfs\": RDFS, \"ns\": ns}\n",
        ")\n",
        "\n",
        "for r in g.query(q1):\n",
        "  print(r)"
      ],
      "execution_count": 5,
      "outputs": [
        {
          "output_type": "stream",
          "text": [
            "http://somewhere#Researcher http://www.w3.org/2000/01/rdf-schema#subClassOf http://somewhere#Person\n",
            "subclasses:\n",
            "(rdflib.term.URIRef('http://somewhere#Researcher'),)\n"
          ],
          "name": "stdout"
        }
      ]
    },
    {
      "cell_type": "markdown",
      "metadata": {
        "id": "gM3DASkTQQ5Y"
      },
      "source": [
        "**TASK 7.2: List all individuals of \"Person\" with RDFLib and SPARQL (remember the subClasses)**\n"
      ]
    },
    {
      "cell_type": "code",
      "metadata": {
        "id": "-_joFDPIzrYD",
        "outputId": "12586ae6-3c3a-461b-fd14-61e319d7ec5d",
        "colab": {
          "base_uri": "https://localhost:8080/",
          "height": 119
        }
      },
      "source": [
        "for s, p, o in g.triples((None, RDF.type, ns.Person)):\n",
        "  print(s, p , o) \n",
        "\n",
        "for s,p,o in g.triples((None, RDFS.subClassOf, ns.Person)):\n",
        "  for x,y,z in g.triples((None, RDF.type, s)):\n",
        "    print(x, y, z)\n",
        "\n",
        "    q2 = prepareQuery('''\n",
        "      SELECT ?Person\n",
        "        WHERE { \n",
        "          {\n",
        "            ?Person rdf:type ns:Person.\n",
        "          } UNION {\n",
        "            ?x rdfs:subClassOf ns:Person.\n",
        "            ?Person rdf:type ?x\n",
        "          } \n",
        "         }\n",
        "        ''',\n",
        "  initNs = { \"rdfs\": RDFS, \"ns\": ns}\n",
        ")\n",
        "\n",
        "for r in g.query(q2):\n",
        "  print(r)"
      ],
      "execution_count": 9,
      "outputs": [
        {
          "output_type": "stream",
          "text": [
            "http://somewhere#SaraJones http://www.w3.org/1999/02/22-rdf-syntax-ns#type http://somewhere#Person\n",
            "http://somewhere#JohnSmith http://www.w3.org/1999/02/22-rdf-syntax-ns#type http://somewhere#Person\n",
            "http://somewhere#JaneSmith http://www.w3.org/1999/02/22-rdf-syntax-ns#type http://somewhere#Researcher\n",
            "(rdflib.term.URIRef('http://somewhere#SaraJones'),)\n",
            "(rdflib.term.URIRef('http://somewhere#JohnSmith'),)\n",
            "(rdflib.term.URIRef('http://somewhere#JaneSmith'),)\n"
          ],
          "name": "stdout"
        }
      ]
    },
    {
      "cell_type": "markdown",
      "metadata": {
        "id": "MXBqtBkJd22I"
      },
      "source": [
        "**TASK 7.3: List all individuals of \"Person\" and all their properties including their class with RDFLib and SPARQL**\n"
      ]
    },
    {
      "cell_type": "code",
      "metadata": {
        "id": "iG92wzAYzrsB",
        "outputId": "5755bf36-f420-4025-ad7b-1266f8ef3548",
        "colab": {
          "base_uri": "https://localhost:8080/",
          "height": 445
        }
      },
      "source": [
        "ns = Namespace(\"http://somewhere#\")\n",
        "\n",
        "for s,p,o in g.triples((None, RDF.type, ns.Person)):\n",
        "  for x,y,z in g.triples((s, None, None)):\n",
        "      print(x,y,z)\n",
        "\n",
        "for s,p,o in g.triples((None, RDFS.subClassOf, ns.Person)):\n",
        "  for x,y,z in g.triples((None, RDF.type, s)):\n",
        "    for x1,y1,z1 in g.triples((x, None, None)):\n",
        "      print(x1,y1,z1)\n",
        "\n",
        "from rdflib.plugins.sparql import prepareQuery\n",
        "\n",
        "q1 = prepareQuery('''\n",
        "  SELECT ?s ?o ?p\n",
        "  WHERE { \n",
        "    { \n",
        "      ?s rdf:type ns:Person.\n",
        "      ?s ?o ?p\n",
        "    } UNION {\n",
        "      ?s rdf:type ?x.\n",
        "      ?s ?o ?p.\n",
        "      ?x rdfs:subClassOf ns:Person\n",
        "    }\n",
        "  }\n",
        "  ''',\n",
        "  initNs = { \"rdfs\": RDFS,\"rdf\": RDF, \"ns\": ns}\n",
        ")\n",
        "\n",
        "for r in g.query(q1):\n",
        "  print(r)"
      ],
      "execution_count": 10,
      "outputs": [
        {
          "output_type": "stream",
          "text": [
            "http://somewhere#SaraJones http://somewhere#http://www.w3.org/2001/vcard-rdf/3.0/Given Sara\n",
            "http://somewhere#SaraJones http://somewhere#http://www.w3.org/2001/vcard-rdf/3.0/Family Jones\n",
            "http://somewhere#SaraJones http://somewhere#http://www.w3.org/2001/vcard-rdf/3.0/FN Sara Jones\n",
            "http://somewhere#SaraJones http://www.w3.org/1999/02/22-rdf-syntax-ns#type http://somewhere#Person\n",
            "http://somewhere#JohnSmith http://somewhere#http://www.w3.org/2001/vcard-rdf/3.0/Given John\n",
            "http://somewhere#JohnSmith http://somewhere#http://www.w3.org/2001/vcard-rdf/3.0/Family Smith\n",
            "http://somewhere#JohnSmith http://somewhere#http://www.w3.org/2001/vcard-rdf/3.0/FN John Smith\n",
            "http://somewhere#JohnSmith http://www.w3.org/1999/02/22-rdf-syntax-ns#type http://somewhere#Person\n",
            "http://somewhere#JaneSmith http://www.w3.org/1999/02/22-rdf-syntax-ns#type http://somewhere#Researcher\n",
            "http://somewhere#JaneSmith http://somewhere#http://www.w3.org/2001/vcard-rdf/3.0/Given Jane\n",
            "http://somewhere#JaneSmith http://somewhere#http://www.w3.org/2001/vcard-rdf/3.0/Family Smith\n",
            "http://somewhere#JaneSmith http://somewhere#http://www.w3.org/2001/vcard-rdf/3.0/FN jane Smith\n",
            "(rdflib.term.URIRef('http://somewhere#SaraJones'), rdflib.term.URIRef('http://somewhere#http://www.w3.org/2001/vcard-rdf/3.0/Given'), rdflib.term.Literal('Sara', datatype=rdflib.term.URIRef('http://www.w3.org/2001/XMLSchema#string')))\n",
            "(rdflib.term.URIRef('http://somewhere#SaraJones'), rdflib.term.URIRef('http://somewhere#http://www.w3.org/2001/vcard-rdf/3.0/Family'), rdflib.term.Literal('Jones', datatype=rdflib.term.URIRef('http://www.w3.org/2001/XMLSchema#string')))\n",
            "(rdflib.term.URIRef('http://somewhere#SaraJones'), rdflib.term.URIRef('http://somewhere#http://www.w3.org/2001/vcard-rdf/3.0/FN'), rdflib.term.Literal('Sara Jones', datatype=rdflib.term.URIRef('http://www.w3.org/2001/XMLSchema#string')))\n",
            "(rdflib.term.URIRef('http://somewhere#SaraJones'), rdflib.term.URIRef('http://www.w3.org/1999/02/22-rdf-syntax-ns#type'), rdflib.term.URIRef('http://somewhere#Person'))\n",
            "(rdflib.term.URIRef('http://somewhere#JohnSmith'), rdflib.term.URIRef('http://somewhere#http://www.w3.org/2001/vcard-rdf/3.0/Given'), rdflib.term.Literal('John', datatype=rdflib.term.URIRef('http://www.w3.org/2001/XMLSchema#string')))\n",
            "(rdflib.term.URIRef('http://somewhere#JohnSmith'), rdflib.term.URIRef('http://somewhere#http://www.w3.org/2001/vcard-rdf/3.0/Family'), rdflib.term.Literal('Smith', datatype=rdflib.term.URIRef('http://www.w3.org/2001/XMLSchema#string')))\n",
            "(rdflib.term.URIRef('http://somewhere#JohnSmith'), rdflib.term.URIRef('http://somewhere#http://www.w3.org/2001/vcard-rdf/3.0/FN'), rdflib.term.Literal('John Smith', datatype=rdflib.term.URIRef('http://www.w3.org/2001/XMLSchema#string')))\n",
            "(rdflib.term.URIRef('http://somewhere#JohnSmith'), rdflib.term.URIRef('http://www.w3.org/1999/02/22-rdf-syntax-ns#type'), rdflib.term.URIRef('http://somewhere#Person'))\n",
            "(rdflib.term.URIRef('http://somewhere#JaneSmith'), rdflib.term.URIRef('http://www.w3.org/1999/02/22-rdf-syntax-ns#type'), rdflib.term.URIRef('http://somewhere#Researcher'))\n",
            "(rdflib.term.URIRef('http://somewhere#JaneSmith'), rdflib.term.URIRef('http://somewhere#http://www.w3.org/2001/vcard-rdf/3.0/Given'), rdflib.term.Literal('Jane', datatype=rdflib.term.URIRef('http://www.w3.org/2001/XMLSchema#string')))\n",
            "(rdflib.term.URIRef('http://somewhere#JaneSmith'), rdflib.term.URIRef('http://somewhere#http://www.w3.org/2001/vcard-rdf/3.0/Family'), rdflib.term.Literal('Smith', datatype=rdflib.term.URIRef('http://www.w3.org/2001/XMLSchema#string')))\n",
            "(rdflib.term.URIRef('http://somewhere#JaneSmith'), rdflib.term.URIRef('http://somewhere#http://www.w3.org/2001/vcard-rdf/3.0/FN'), rdflib.term.Literal('jane Smith', datatype=rdflib.term.URIRef('http://www.w3.org/2001/XMLSchema#string')))\n"
          ],
          "name": "stdout"
        }
      ]
    }
  ]
}