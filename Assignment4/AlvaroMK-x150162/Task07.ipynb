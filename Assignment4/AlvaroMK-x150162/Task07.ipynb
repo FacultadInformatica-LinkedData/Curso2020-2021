{
  "nbformat": 4,
  "nbformat_minor": 0,
  "metadata": {
    "colab": {
      "name": "Task07.ipynb",
      "provenance": [],
      "collapsed_sections": []
    },
    "kernelspec": {
      "name": "python3",
      "display_name": "Python 3"
    }
  },
  "cells": [
    {
      "cell_type": "markdown",
      "metadata": {
        "id": "nOOPLCHF7hLB"
      },
      "source": [
        "**Task 07: Querying RDF(s)**"
      ]
    },
    {
      "cell_type": "code",
      "metadata": {
        "id": "Yl9npCt8n6m-",
        "outputId": "9e551f30-e2c9-4894-b46a-e1609696b318",
        "colab": {
          "base_uri": "https://localhost:8080/",
          "height": 187
        }
      },
      "source": [
        "!pip install rdflib \n",
        "github_storage = \"https://raw.githubusercontent.com/FacultadInformatica-LinkedData/Curso2020-2021/master/Assignment4\""
      ],
      "execution_count": 1,
      "outputs": [
        {
          "output_type": "stream",
          "text": [
            "Collecting rdflib\n",
            "\u001b[?25l  Downloading https://files.pythonhosted.org/packages/d0/6b/6454aa1db753c0f8bc265a5bd5c10b5721a4bb24160fb4faf758cf6be8a1/rdflib-5.0.0-py3-none-any.whl (231kB)\n",
            "\u001b[K     |████████████████████████████████| 235kB 9.0MB/s \n",
            "\u001b[?25hCollecting isodate\n",
            "\u001b[?25l  Downloading https://files.pythonhosted.org/packages/9b/9f/b36f7774ff5ea8e428fdcfc4bb332c39ee5b9362ddd3d40d9516a55221b2/isodate-0.6.0-py2.py3-none-any.whl (45kB)\n",
            "\u001b[K     |████████████████████████████████| 51kB 6.1MB/s \n",
            "\u001b[?25hRequirement already satisfied: pyparsing in /usr/local/lib/python3.6/dist-packages (from rdflib) (2.4.7)\n",
            "Requirement already satisfied: six in /usr/local/lib/python3.6/dist-packages (from rdflib) (1.15.0)\n",
            "Installing collected packages: isodate, rdflib\n",
            "Successfully installed isodate-0.6.0 rdflib-5.0.0\n"
          ],
          "name": "stdout"
        }
      ]
    },
    {
      "cell_type": "markdown",
      "metadata": {
        "id": "XY7aPc86Bqoo"
      },
      "source": [
        "Leemos el fichero RDF de la forma que lo hemos venido haciendo"
      ]
    },
    {
      "cell_type": "code",
      "metadata": {
        "id": "9ERh415on7kF",
        "outputId": "d09e39c9-7db3-44ec-d41b-755188edf33e",
        "colab": {
          "base_uri": "https://localhost:8080/",
          "height": 34
        }
      },
      "source": [
        "from rdflib import Graph, Namespace, Literal\n",
        "from rdflib.namespace import RDF, RDFS\n",
        "g = Graph()\n",
        "g.namespace_manager.bind('ns', Namespace(\"http://somewhere#\"), override=False)\n",
        "g.namespace_manager.bind('vcard', Namespace(\"http://www.w3.org/2001/vcard-rdf/3.0#\"), override=False)\n",
        "g.parse(github_storage+\"/resources/example6.rdf\", format=\"xml\")"
      ],
      "execution_count": 2,
      "outputs": [
        {
          "output_type": "execute_result",
          "data": {
            "text/plain": [
              "<Graph identifier=Na6f48e99e98a4e39b50836a22a872571 (<class 'rdflib.graph.Graph'>)>"
            ]
          },
          "metadata": {
            "tags": []
          },
          "execution_count": 2
        }
      ]
    },
    {
      "cell_type": "markdown",
      "metadata": {
        "id": "qp1oe2Eddsvo"
      },
      "source": [
        "**TASK 7.1: List all subclasses of \"Person\" with RDFLib and SPARQL**"
      ]
    },
    {
      "cell_type": "code",
      "metadata": {
        "id": "aWu05a6mB2VU",
        "outputId": "9a79cbe2-ebf3-4bc4-ab5f-ca0f5cccf0bc",
        "colab": {
          "base_uri": "https://localhost:8080/",
          "height": 119
        }
      },
      "source": [
        "#RDFLib\n",
        "print(\"Parte de RDFLib:\")\n",
        "ns = Namespace(\"http://somewhere#\")\n",
        "for s, p, o in g.triples((None, RDFS.subClassOf, ns.Person)):\n",
        "  print(s, \"es subclase de Person.\")\n",
        "  for s2, p2, o2 in g.triples((None, RDFS.subClassOf, s)):\n",
        "    print(s2, \"es subclase de\", s, \"que a su vez es subclase de Person.\")\n",
        "\n",
        "\n",
        "#SPARQL\n",
        "print(\"Parte de SPARQL:\")\n",
        "from rdflib.plugins.sparql import prepareQuery\n",
        "  #PREFIX ex: <https://raw.githubusercontent.com/FacultadInformatica-LinkedData/Curso2020-2021/master/Assignment4>\n",
        "query = prepareQuery('''\n",
        "  SELECT DISTINCT ?x\n",
        "  WHERE{\n",
        "\t  ?x (rdfs:subClassOf/rdfs:subClassOf*) ns:Person\t\t      # normalmente sería \"?x rdfs:subClassOf ex:Establishment\", pero como queremos navegar no sólo por la primera línea de subclases, \n",
        "  }\t\t\t\t\t\t\t                                            # sino que por toda la jerarquía, se le añade un \"/subClassOf*\"\n",
        "  ''',\n",
        "  initNs = {\"rdfs\": RDFS, \"ns\": ns}\n",
        ")\n",
        "for i in g.query(query):\n",
        "  print(i)"
      ],
      "execution_count": 3,
      "outputs": [
        {
          "output_type": "stream",
          "text": [
            "Parte de RDFLib:\n",
            "http://somewhere#Researcher es subclase de Person.\n",
            "http://somewhere#PhDstudent es subclase de http://somewhere#Researcher que a su vez es subclase de Person.\n",
            "Parte de SPARQL:\n",
            "(rdflib.term.URIRef('http://somewhere#Researcher'),)\n",
            "(rdflib.term.URIRef('http://somewhere#PhDstudent'),)\n"
          ],
          "name": "stdout"
        }
      ]
    },
    {
      "cell_type": "markdown",
      "metadata": {
        "id": "gM3DASkTQQ5Y"
      },
      "source": [
        "**TASK 7.2: List all individuals of \"Person\" with RDFLib and SPARQL (remember the subClasses)**\n"
      ]
    },
    {
      "cell_type": "code",
      "metadata": {
        "id": "WbQNioiRC4w2",
        "outputId": "58cf0b92-311a-44ed-d4af-e468cb7f3951",
        "colab": {
          "base_uri": "https://localhost:8080/",
          "height": 153
        }
      },
      "source": [
        "#RDFLib\n",
        "print(\"Parte de RDFLib:\")\n",
        "ns = Namespace(\"http://somewhere#\")\n",
        "for s, p, o in g.triples((None, RDF.type, ns.Person)):\n",
        "  print(s, \"es del tipo Person.\")\n",
        "for s, p, o in g.triples((None, RDFS.subClassOf, ns.Person)):\n",
        "  for s2, p2, o2 in g.triples((None, RDF.type, s)):\n",
        "    print(s2, \"es subclase de\", s, \"que a su vez es del tipo Person.\")\n",
        "\n",
        "\n",
        "#SPARQL\n",
        "print(\"Parte de SPARQL:\")\n",
        "from rdflib.plugins.sparql import prepareQuery\n",
        "    #PREFIX ex: <https://raw.githubusercontent.com/FacultadInformatica-LinkedData/Curso2020-2021/master/Assignment4>\n",
        "query = prepareQuery('''\n",
        "  SELECT DISTINCT ?x\n",
        "  WHERE{\n",
        "    {?x rdf:type ns:Person} UNION\n",
        "\t  {\n",
        "    ?p (rdfs:subClassOf/rdfs:subClassOf*) ns:Person .\n",
        "    ?x rdf:type ?p\n",
        "    } \n",
        "  }\n",
        "  ''',\n",
        "  initNs = {\"rdf\": RDF, \"rdfs\": RDFS, \"ns\": ns}\n",
        ")\n",
        "for j in g.query(query):\n",
        "  print(i)"
      ],
      "execution_count": 5,
      "outputs": [
        {
          "output_type": "stream",
          "text": [
            "Parte de RDFLib:\n",
            "http://somewhere#SaraJones es del tipo Person.\n",
            "http://somewhere#JohnSmith es del tipo Person.\n",
            "http://somewhere#JaneSmith es subclase de http://somewhere#Researcher que a su vez es del tipo Person.\n",
            "Parte de SPARQL:\n",
            "(rdflib.term.URIRef('http://somewhere#PhDstudent'),)\n",
            "(rdflib.term.URIRef('http://somewhere#PhDstudent'),)\n",
            "(rdflib.term.URIRef('http://somewhere#PhDstudent'),)\n"
          ],
          "name": "stdout"
        }
      ]
    },
    {
      "cell_type": "markdown",
      "metadata": {
        "id": "MXBqtBkJd22I"
      },
      "source": [
        "**TASK 7.3: List all individuals of \"Person\" and all their properties including their class with RDFLib and SPARQL**\n"
      ]
    },
    {
      "cell_type": "code",
      "metadata": {
        "id": "QN_qJglEC7BY",
        "outputId": "2ac099c6-8564-40b2-82e9-07a28ea77680",
        "colab": {
          "base_uri": "https://localhost:8080/",
          "height": 459
        }
      },
      "source": [
        "#RDFLib\n",
        "print(\"Parte de RDFLib:\")\n",
        "ns = Namespace(\"http://somewhere#\")\n",
        "for s, p, o in g.triples((None, RDF.type, ns.Person)):\n",
        "  for s2, p2, o2 in g.triples((s, None, None)):\n",
        "    print(s2, p2, o2)\n",
        "for s, p, o in g.triples((None, RDFS.subClassOf, ns.Person)):\n",
        "  for s2, p2, o2 in g.triples((None, RDF.type, s)):\n",
        "    for s3, p3, o3 in g.triples((s2, None, None)):\n",
        "      print(s3, p3, o3)\n",
        "\n",
        "\n",
        "#SPARQL\n",
        "print(\"Parte de SPARQL:\")\n",
        "from rdflib.plugins.sparql import prepareQuery\n",
        "    #PREFIX ex: <https://raw.githubusercontent.com/FacultadInformatica-LinkedData/Curso2020-2021/master/Assignment4>\n",
        "query = prepareQuery('''\n",
        "  SELECT DISTINCT ?s ?p ?o\n",
        "  WHERE{\n",
        "  \t{\n",
        "    ?s rdf:type ?s2 .\n",
        "    ?s2 (rdfs:subClassOf/rdfs:subClassOf*) ns:Person .\n",
        "    ?s ?p ?o\n",
        "    } UNION {\n",
        "    ?s rdf:type ns:Person .\n",
        "    ?s ?p ?o\n",
        "    }\n",
        "  }\n",
        "  ''',\n",
        "  initNs = {\"rdf\": RDF, \"rdfs\": RDFS, \"ns\": ns}\n",
        ")\n",
        "for k in g.query(query):\n",
        "  print(i)"
      ],
      "execution_count": 6,
      "outputs": [
        {
          "output_type": "stream",
          "text": [
            "Parte de RDFLib:\n",
            "http://somewhere#SaraJones http://somewhere#http://www.w3.org/2001/vcard-rdf/3.0/Family Jones\n",
            "http://somewhere#SaraJones http://somewhere#http://www.w3.org/2001/vcard-rdf/3.0/FN Sara Jones\n",
            "http://somewhere#SaraJones http://www.w3.org/1999/02/22-rdf-syntax-ns#type http://somewhere#Person\n",
            "http://somewhere#SaraJones http://somewhere#http://www.w3.org/2001/vcard-rdf/3.0/Given Sara\n",
            "http://somewhere#JohnSmith http://somewhere#http://www.w3.org/2001/vcard-rdf/3.0/Family Smith\n",
            "http://somewhere#JohnSmith http://www.w3.org/1999/02/22-rdf-syntax-ns#type http://somewhere#Person\n",
            "http://somewhere#JohnSmith http://somewhere#http://www.w3.org/2001/vcard-rdf/3.0/FN John Smith\n",
            "http://somewhere#JohnSmith http://somewhere#http://www.w3.org/2001/vcard-rdf/3.0/Given John\n",
            "http://somewhere#JaneSmith http://somewhere#http://www.w3.org/2001/vcard-rdf/3.0/FN jane Smith\n",
            "http://somewhere#JaneSmith http://somewhere#http://www.w3.org/2001/vcard-rdf/3.0/Given Jane\n",
            "http://somewhere#JaneSmith http://somewhere#http://www.w3.org/2001/vcard-rdf/3.0/Family Smith\n",
            "http://somewhere#JaneSmith http://www.w3.org/1999/02/22-rdf-syntax-ns#type http://somewhere#Researcher\n",
            "Parte de SPARQL:\n",
            "(rdflib.term.URIRef('http://somewhere#PhDstudent'),)\n",
            "(rdflib.term.URIRef('http://somewhere#PhDstudent'),)\n",
            "(rdflib.term.URIRef('http://somewhere#PhDstudent'),)\n",
            "(rdflib.term.URIRef('http://somewhere#PhDstudent'),)\n",
            "(rdflib.term.URIRef('http://somewhere#PhDstudent'),)\n",
            "(rdflib.term.URIRef('http://somewhere#PhDstudent'),)\n",
            "(rdflib.term.URIRef('http://somewhere#PhDstudent'),)\n",
            "(rdflib.term.URIRef('http://somewhere#PhDstudent'),)\n",
            "(rdflib.term.URIRef('http://somewhere#PhDstudent'),)\n",
            "(rdflib.term.URIRef('http://somewhere#PhDstudent'),)\n",
            "(rdflib.term.URIRef('http://somewhere#PhDstudent'),)\n",
            "(rdflib.term.URIRef('http://somewhere#PhDstudent'),)\n"
          ],
          "name": "stdout"
        }
      ]
    }
  ]
}