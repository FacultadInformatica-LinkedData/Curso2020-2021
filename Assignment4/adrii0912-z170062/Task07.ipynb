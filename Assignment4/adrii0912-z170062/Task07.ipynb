{
  "nbformat": 4,
  "nbformat_minor": 0,
  "metadata": {
    "colab": {
      "name": "Task07.ipynb",
      "provenance": [],
      "collapsed_sections": []
    },
    "kernelspec": {
      "name": "python3",
      "display_name": "Python 3"
    }
  },
  "cells": [
    {
      "cell_type": "markdown",
      "metadata": {
        "id": "nOOPLCHF7hLB"
      },
      "source": [
        "**Task 07: Querying RDF(s)**"
      ]
    },
    {
      "cell_type": "code",
      "metadata": {
        "id": "Yl9npCt8n6m-",
        "outputId": "6529f12f-fdd6-4df9-c7c9-d1f9bc53afc4",
        "colab": {
          "base_uri": "https://localhost:8080/",
          "height": 187
        }
      },
      "source": [
        "!pip install rdflib \n",
        "github_storage = \"https://raw.githubusercontent.com/FacultadInformatica-LinkedData/Curso2020-2021/master/Assignment4\""
      ],
      "execution_count": 1,
      "outputs": [
        {
          "output_type": "stream",
          "text": [
            "Collecting rdflib\n",
            "\u001b[?25l  Downloading https://files.pythonhosted.org/packages/d0/6b/6454aa1db753c0f8bc265a5bd5c10b5721a4bb24160fb4faf758cf6be8a1/rdflib-5.0.0-py3-none-any.whl (231kB)\n",
            "\r\u001b[K     |█▍                              | 10kB 14.1MB/s eta 0:00:01\r\u001b[K     |██▉                             | 20kB 6.8MB/s eta 0:00:01\r\u001b[K     |████▎                           | 30kB 5.6MB/s eta 0:00:01\r\u001b[K     |█████▊                          | 40kB 6.1MB/s eta 0:00:01\r\u001b[K     |███████                         | 51kB 6.3MB/s eta 0:00:01\r\u001b[K     |████████▌                       | 61kB 6.7MB/s eta 0:00:01\r\u001b[K     |██████████                      | 71kB 7.5MB/s eta 0:00:01\r\u001b[K     |███████████▍                    | 81kB 7.7MB/s eta 0:00:01\r\u001b[K     |████████████▊                   | 92kB 7.4MB/s eta 0:00:01\r\u001b[K     |██████████████▏                 | 102kB 7.8MB/s eta 0:00:01\r\u001b[K     |███████████████▋                | 112kB 7.8MB/s eta 0:00:01\r\u001b[K     |█████████████████               | 122kB 7.8MB/s eta 0:00:01\r\u001b[K     |██████████████████▍             | 133kB 7.8MB/s eta 0:00:01\r\u001b[K     |███████████████████▉            | 143kB 7.8MB/s eta 0:00:01\r\u001b[K     |█████████████████████▎          | 153kB 7.8MB/s eta 0:00:01\r\u001b[K     |██████████████████████▊         | 163kB 7.8MB/s eta 0:00:01\r\u001b[K     |████████████████████████        | 174kB 7.8MB/s eta 0:00:01\r\u001b[K     |█████████████████████████▌      | 184kB 7.8MB/s eta 0:00:01\r\u001b[K     |███████████████████████████     | 194kB 7.8MB/s eta 0:00:01\r\u001b[K     |████████████████████████████▍   | 204kB 7.8MB/s eta 0:00:01\r\u001b[K     |█████████████████████████████▉  | 215kB 7.8MB/s eta 0:00:01\r\u001b[K     |███████████████████████████████▏| 225kB 7.8MB/s eta 0:00:01\r\u001b[K     |████████████████████████████████| 235kB 7.8MB/s \n",
            "\u001b[?25hRequirement already satisfied: pyparsing in /usr/local/lib/python3.6/dist-packages (from rdflib) (2.4.7)\n",
            "Collecting isodate\n",
            "\u001b[?25l  Downloading https://files.pythonhosted.org/packages/9b/9f/b36f7774ff5ea8e428fdcfc4bb332c39ee5b9362ddd3d40d9516a55221b2/isodate-0.6.0-py2.py3-none-any.whl (45kB)\n",
            "\u001b[K     |████████████████████████████████| 51kB 6.0MB/s \n",
            "\u001b[?25hRequirement already satisfied: six in /usr/local/lib/python3.6/dist-packages (from rdflib) (1.15.0)\n",
            "Installing collected packages: isodate, rdflib\n",
            "Successfully installed isodate-0.6.0 rdflib-5.0.0\n"
          ],
          "name": "stdout"
        }
      ]
    },
    {
      "cell_type": "markdown",
      "metadata": {
        "id": "XY7aPc86Bqoo"
      },
      "source": [
        "Leemos el fichero RDF de la forma que lo hemos venido haciendo"
      ]
    },
    {
      "cell_type": "code",
      "metadata": {
        "id": "9ERh415on7kF",
        "outputId": "83ed7a09-ee3e-44a7-91f6-07be2e79674d",
        "colab": {
          "base_uri": "https://localhost:8080/",
          "height": 34
        }
      },
      "source": [
        "from rdflib import Graph, Namespace, Literal\n",
        "from rdflib.namespace import RDF, RDFS\n",
        "g = Graph()\n",
        "g.namespace_manager.bind('ns', Namespace(\"http://somewhere#\"), override=False)\n",
        "g.namespace_manager.bind('vcard', Namespace(\"http://www.w3.org/2001/vcard-rdf/3.0#\"), override=False)\n",
        "g.parse(github_storage+\"/resources/example6.rdf\", format=\"xml\")"
      ],
      "execution_count": 7,
      "outputs": [
        {
          "output_type": "execute_result",
          "data": {
            "text/plain": [
              "<Graph identifier=Ncdd29e8636f24466b3d7a4375c412b06 (<class 'rdflib.graph.Graph'>)>"
            ]
          },
          "metadata": {
            "tags": []
          },
          "execution_count": 7
        }
      ]
    },
    {
      "cell_type": "markdown",
      "metadata": {
        "id": "qp1oe2Eddsvo"
      },
      "source": [
        "**TASK 7.1: List all subclasses of \"Person\" with RDFLib and SPARQL**"
      ]
    },
    {
      "cell_type": "code",
      "metadata": {
        "id": "u96ajvN6HP9C",
        "outputId": "c6cd0056-2406-4b2e-9858-be8b79dc02b9",
        "colab": {
          "base_uri": "https://localhost:8080/",
          "height": 51
        }
      },
      "source": [
        "from rdflib.plugins.sparql import prepareQuery\n",
        "\n",
        "ns= Namespace(\"http://somewhere#\")\n",
        "\n",
        "q1 = prepareQuery('''\n",
        "SELECT \n",
        "?s\n",
        "WHERE {\n",
        "\n",
        "  ?s rdfs:subClassOf ns:Person.\n",
        "\n",
        "}\n",
        "''',\n",
        "\n",
        "initNs = {\"rdfs\":RDFS, \"ns\":ns}\n",
        "\n",
        ")\n",
        "\n",
        "for s in g.query(q1):\n",
        "  print(s)\n",
        "\n",
        "for s,p,o in g.triples((None,RDFS.subClassOf,ns.Person)):\n",
        "  print(s,p,o)"
      ],
      "execution_count": 13,
      "outputs": [
        {
          "output_type": "stream",
          "text": [
            "(rdflib.term.URIRef('http://somewhere#Researcher'),)\n",
            "http://somewhere#Researcher http://www.w3.org/2000/01/rdf-schema#subClassOf http://somewhere#Person\n"
          ],
          "name": "stdout"
        }
      ]
    },
    {
      "cell_type": "markdown",
      "metadata": {
        "id": "gM3DASkTQQ5Y"
      },
      "source": [
        "**TASK 7.2: List all individuals of \"Person\" with RDFLib and SPARQL (remember the subClasses)**\n"
      ]
    },
    {
      "cell_type": "code",
      "metadata": {
        "id": "8_HAHqk5KnC9",
        "outputId": "72f3c432-af94-427d-ffc9-8fd6359cd6dd",
        "colab": {
          "base_uri": "https://localhost:8080/",
          "height": 119
        }
      },
      "source": [
        "from rdflib.plugins.sparql import prepareQuery\n",
        "\n",
        "ns= Namespace(\"http://somewhere#\")\n",
        "q2 = prepareQuery('''\n",
        "  SELECT \n",
        "  ?s\n",
        "  WHERE { \n",
        "    { \n",
        "\n",
        "      ?s rdf:type ns:Person. \n",
        "\n",
        "    } UNION {\n",
        "\n",
        "      ?s1 rdfs:subClassOf ns:Person.\n",
        "      ?s rdf:type ?s1\n",
        "    }\n",
        "  }\n",
        "  ''',\n",
        "  initNs = { \"rdfs\": RDFS,\"rdf\": RDF, \"ns\": ns}\n",
        ")\n",
        "\n",
        "\n",
        "\n",
        "for s in g.query(q2):\n",
        "  print(s)\n",
        "\n",
        "\n",
        "for s,p,o in g.triples((None,RDF.type,ns.Person)):\n",
        "  print(s)\n",
        "\n",
        "for s,p,o in g.triples((None,RDFS.subClassOf,ns.Person)):\n",
        "  for s1,p1,o1 in g.triples((None,RDF.type,s)):\n",
        "    print(s)    \n"
      ],
      "execution_count": 23,
      "outputs": [
        {
          "output_type": "stream",
          "text": [
            "(rdflib.term.URIRef('http://somewhere#JohnSmith'),)\n",
            "(rdflib.term.URIRef('http://somewhere#SaraJones'),)\n",
            "(rdflib.term.URIRef('http://somewhere#JaneSmith'),)\n",
            "http://somewhere#JohnSmith\n",
            "http://somewhere#SaraJones\n",
            "http://somewhere#Researcher\n"
          ],
          "name": "stdout"
        }
      ]
    },
    {
      "cell_type": "markdown",
      "metadata": {
        "id": "MXBqtBkJd22I"
      },
      "source": [
        "**TASK 7.3: List all individuals of \"Person\" and all their properties including their class with RDFLib and SPARQL**\n"
      ]
    },
    {
      "cell_type": "code",
      "metadata": {
        "id": "59JCDPIhNaK_",
        "outputId": "d2427cdd-13de-4891-c9e0-ae22929c4969",
        "colab": {
          "base_uri": "https://localhost:8080/",
          "height": 445
        }
      },
      "source": [
        "from rdflib.plugins.sparql import prepareQuery\n",
        "\n",
        "ns= Namespace(\"http://somewhere#\")\n",
        "q3 = prepareQuery('''\n",
        "  SELECT \n",
        "  ?s ?p ?o\n",
        "  WHERE { \n",
        "    { \n",
        "\n",
        "      ?s rdf:type ns:Person. \n",
        "      ?s ?p ?o\n",
        "\n",
        "    } UNION {\n",
        "\n",
        "      ?s1 rdfs:subClassOf ns:Person.\n",
        "      ?s rdf:type ?s1.\n",
        "      ?s ?p ?o\n",
        "    }\n",
        "  }\n",
        "  ''',\n",
        "  initNs = { \"rdfs\": RDFS,\"rdf\": RDF, \"ns\": ns}\n",
        ")\n",
        "\n",
        "\n",
        "for s in g.query(q3):\n",
        "  print(s)\n",
        " \n",
        "for s,p,o in g.triples((None,RDF.type,ns.Person)):\n",
        "  for s1,p1,o1 in g.triples((s,None,None)): \n",
        "    print(s1,p1,o1)\n",
        "\n",
        "for s,p,o in g.triples((None,RDFS.subClassOf,ns.Person)):\n",
        "  for s1,p1,o1 in g.triples((None,RDF.type,s)):\n",
        "    for s2,p2,o2 in g.triples((s1,None,None)):\n",
        "      print(s2,p2,o2)   \n"
      ],
      "execution_count": 30,
      "outputs": [
        {
          "output_type": "stream",
          "text": [
            "(rdflib.term.URIRef('http://somewhere#JohnSmith'), rdflib.term.URIRef('http://www.w3.org/1999/02/22-rdf-syntax-ns#type'), rdflib.term.URIRef('http://somewhere#Person'))\n",
            "(rdflib.term.URIRef('http://somewhere#JohnSmith'), rdflib.term.URIRef('http://somewhere#http://www.w3.org/2001/vcard-rdf/3.0/Family'), rdflib.term.Literal('Smith', datatype=rdflib.term.URIRef('http://www.w3.org/2001/XMLSchema#string')))\n",
            "(rdflib.term.URIRef('http://somewhere#JohnSmith'), rdflib.term.URIRef('http://somewhere#http://www.w3.org/2001/vcard-rdf/3.0/FN'), rdflib.term.Literal('John Smith', datatype=rdflib.term.URIRef('http://www.w3.org/2001/XMLSchema#string')))\n",
            "(rdflib.term.URIRef('http://somewhere#JohnSmith'), rdflib.term.URIRef('http://somewhere#http://www.w3.org/2001/vcard-rdf/3.0/Given'), rdflib.term.Literal('John', datatype=rdflib.term.URIRef('http://www.w3.org/2001/XMLSchema#string')))\n",
            "(rdflib.term.URIRef('http://somewhere#SaraJones'), rdflib.term.URIRef('http://somewhere#http://www.w3.org/2001/vcard-rdf/3.0/Given'), rdflib.term.Literal('Sara', datatype=rdflib.term.URIRef('http://www.w3.org/2001/XMLSchema#string')))\n",
            "(rdflib.term.URIRef('http://somewhere#SaraJones'), rdflib.term.URIRef('http://somewhere#http://www.w3.org/2001/vcard-rdf/3.0/FN'), rdflib.term.Literal('Sara Jones', datatype=rdflib.term.URIRef('http://www.w3.org/2001/XMLSchema#string')))\n",
            "(rdflib.term.URIRef('http://somewhere#SaraJones'), rdflib.term.URIRef('http://www.w3.org/1999/02/22-rdf-syntax-ns#type'), rdflib.term.URIRef('http://somewhere#Person'))\n",
            "(rdflib.term.URIRef('http://somewhere#SaraJones'), rdflib.term.URIRef('http://somewhere#http://www.w3.org/2001/vcard-rdf/3.0/Family'), rdflib.term.Literal('Jones', datatype=rdflib.term.URIRef('http://www.w3.org/2001/XMLSchema#string')))\n",
            "(rdflib.term.URIRef('http://somewhere#JaneSmith'), rdflib.term.URIRef('http://somewhere#http://www.w3.org/2001/vcard-rdf/3.0/FN'), rdflib.term.Literal('jane Smith', datatype=rdflib.term.URIRef('http://www.w3.org/2001/XMLSchema#string')))\n",
            "(rdflib.term.URIRef('http://somewhere#JaneSmith'), rdflib.term.URIRef('http://somewhere#http://www.w3.org/2001/vcard-rdf/3.0/Given'), rdflib.term.Literal('Jane', datatype=rdflib.term.URIRef('http://www.w3.org/2001/XMLSchema#string')))\n",
            "(rdflib.term.URIRef('http://somewhere#JaneSmith'), rdflib.term.URIRef('http://somewhere#http://www.w3.org/2001/vcard-rdf/3.0/Family'), rdflib.term.Literal('Smith', datatype=rdflib.term.URIRef('http://www.w3.org/2001/XMLSchema#string')))\n",
            "(rdflib.term.URIRef('http://somewhere#JaneSmith'), rdflib.term.URIRef('http://www.w3.org/1999/02/22-rdf-syntax-ns#type'), rdflib.term.URIRef('http://somewhere#Researcher'))\n",
            "http://somewhere#JohnSmith http://www.w3.org/1999/02/22-rdf-syntax-ns#type http://somewhere#Person\n",
            "http://somewhere#JohnSmith http://somewhere#http://www.w3.org/2001/vcard-rdf/3.0/Family Smith\n",
            "http://somewhere#JohnSmith http://somewhere#http://www.w3.org/2001/vcard-rdf/3.0/FN John Smith\n",
            "http://somewhere#JohnSmith http://somewhere#http://www.w3.org/2001/vcard-rdf/3.0/Given John\n",
            "http://somewhere#SaraJones http://somewhere#http://www.w3.org/2001/vcard-rdf/3.0/Given Sara\n",
            "http://somewhere#SaraJones http://somewhere#http://www.w3.org/2001/vcard-rdf/3.0/FN Sara Jones\n",
            "http://somewhere#SaraJones http://www.w3.org/1999/02/22-rdf-syntax-ns#type http://somewhere#Person\n",
            "http://somewhere#SaraJones http://somewhere#http://www.w3.org/2001/vcard-rdf/3.0/Family Jones\n",
            "http://somewhere#JaneSmith http://somewhere#http://www.w3.org/2001/vcard-rdf/3.0/FN jane Smith\n",
            "http://somewhere#JaneSmith http://somewhere#http://www.w3.org/2001/vcard-rdf/3.0/Given Jane\n",
            "http://somewhere#JaneSmith http://somewhere#http://www.w3.org/2001/vcard-rdf/3.0/Family Smith\n",
            "http://somewhere#JaneSmith http://www.w3.org/1999/02/22-rdf-syntax-ns#type http://somewhere#Researcher\n"
          ],
          "name": "stdout"
        }
      ]
    }
  ]
}