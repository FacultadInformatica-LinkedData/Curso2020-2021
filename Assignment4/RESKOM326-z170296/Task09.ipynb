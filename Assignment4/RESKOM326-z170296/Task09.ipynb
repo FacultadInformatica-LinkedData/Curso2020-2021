{
  "nbformat": 4,
  "nbformat_minor": 0,
  "metadata": {
    "colab": {
      "name": "Task09.ipynb",
      "provenance": [],
      "collapsed_sections": []
    },
    "kernelspec": {
      "name": "python3",
      "display_name": "Python 3"
    }
  },
  "cells": [
    {
      "cell_type": "markdown",
      "metadata": {
        "id": "wIhJ69byU2Ad",
        "colab_type": "text"
      },
      "source": [
        "**Task 09: Data linking**"
      ]
    },
    {
      "cell_type": "code",
      "metadata": {
        "id": "0sQG2Y915Isp",
        "colab_type": "code",
        "colab": {},
        "tags": []
      },
      "source": [
        "!pip install rdflib\n",
        "github_storage = \"https://raw.githubusercontent.com/FacultadInformatica-LinkedData/Curso2020-2021/master/Assignment4/\""
      ],
      "execution_count": 1,
      "outputs": [
        {
          "output_type": "stream",
          "name": "stdout",
          "text": "Requirement already satisfied: rdflib in c:\\programdata\\anaconda3\\lib\\site-packages (5.0.0)\nRequirement already satisfied: six in c:\\programdata\\anaconda3\\lib\\site-packages (from rdflib) (1.15.0)\nRequirement already satisfied: pyparsing in c:\\programdata\\anaconda3\\lib\\site-packages (from rdflib) (2.4.7)\nRequirement already satisfied: isodate in c:\\programdata\\anaconda3\\lib\\site-packages (from rdflib) (0.6.0)\n"
        }
      ]
    },
    {
      "cell_type": "code",
      "metadata": {
        "id": "Jb4QeLue5NLr",
        "colab_type": "code",
        "colab": {}
      },
      "source": [
        "from rdflib import Graph, Namespace, Literal, URIRef\n",
        "g1 = Graph()\n",
        "g2 = Graph()\n",
        "g3 = Graph()\n",
        "g1.parse(github_storage+\"resources/data03.rdf\", format=\"xml\")\n",
        "g2.parse(github_storage+\"resources/data04.rdf\", format=\"xml\")"
      ],
      "execution_count": 2,
      "outputs": [
        {
          "output_type": "execute_result",
          "data": {
            "text/plain": "<Graph identifier=Nd5ea416843ed42a985ce5c5882ad821a (<class 'rdflib.graph.Graph'>)>"
          },
          "metadata": {},
          "execution_count": 2
        }
      ]
    },
    {
      "cell_type": "markdown",
      "metadata": {
        "id": "5wfBZiQSU827",
        "colab_type": "text"
      },
      "source": [
        "Busca individuos en los dos grafos y enlázalos mediante la propiedad OWL:sameAs, inserta estas coincidencias en g3. Consideramos dos individuos iguales si tienen el mismo apodo y nombre de familia. Ten en cuenta que las URI no tienen por qué ser iguales para un mismo individuo en los dos grafos.\n",
        "\n",
        "**Primero importar todo lo necesario**"
      ]
    },
    {
      "cell_type": "code",
      "execution_count": 3,
      "metadata": {},
      "outputs": [],
      "source": [
        "from rdflib.namespace import OWL,RDF\n",
        "from rdflib.plugins.sparql import prepareQuery\n",
        "ns3 = Namespace(\"http://data.three.org#\")\n",
        "ns4 = Namespace(\"http://data.four.org#\")\n",
        "vcard = Namespace(\"http://www.w3.org/2001/vcard-rdf/3.0#\")"
      ]
    },
    {
      "source": [
        "**1.\n",
        "Primero extraer los individuos de los grafos 1 y 2 y meterlos en listas, donde podrán ser comparados por apodo y nombre de familia. Esto se puede hacer con una query que saque solo los dos datos necesarios para cada persona**"
      ],
      "cell_type": "markdown",
      "metadata": {}
    },
    {
      "cell_type": "code",
      "execution_count": 4,
      "metadata": {
        "tags": []
      },
      "outputs": [],
      "source": [
        "query = prepareQuery(\"\"\"select ?s ?p ?o where { ?s rdf:type ns3:Person. ?s vcard:Given ?o. ?s vcard:Family ?o }\"\"\", initNs={\"rdf\": RDF, \"vcard\": vcard, \"ns3\": ns3})\n",
        "query2 = prepareQuery(\"\"\"select ?s ?p ?o where { ?s rdf:type ns4:Person. ?s vcard:Given ?o. ?s vcard:Family ?o }\"\"\", initNs={\"rdf\": RDF, \"vcard\": vcard, \"ns4\": ns4})\n",
        "uri1 = []\n",
        "uri2 = []\n",
        "giv1 = []\n",
        "giv2 = []\n",
        "fam1 = []\n",
        "fam2 = []\n",
        "for i in g1.query(query):\n",
        "    uri1.append(i.get(0))\n",
        "    giv1.append(i.get(1))\n",
        "    fam1.append(i.get(2))\n",
        "\n",
        "for j in g2.query(query2):\n",
        "    uri2.append(j.get(0))\n",
        "    giv2.append(j.get(1))\n",
        "    fam2.append(j.get(2))\n",
        "\n"
      ]
    },
    {
      "source": [
        "**2. Ahora, comparamos cada persona de un grafo con todas las del otro usando nuestras listas. Nos aseguramos de comparar los valores \"given\" y \"family\".**"
      ],
      "cell_type": "markdown",
      "metadata": {}
    },
    {
      "cell_type": "code",
      "execution_count": 5,
      "metadata": {},
      "outputs": [],
      "source": [
        "for i in uri1:\n",
        "    for j in uri2:   \n",
        "        if(giv1[i] == giv2[j] and fam1[i] == fam2[j]):\n",
        "            g3.add((uri1[i], OWL.sameAs, uri2[j]))"
      ]
    },
    {
      "source": [
        "**3. Por último imprimimos el grafo 3 para ver los resultados**"
      ],
      "cell_type": "markdown",
      "metadata": {}
    },
    {
      "cell_type": "code",
      "execution_count": 6,
      "metadata": {},
      "outputs": [],
      "source": [
        "for s, p, o in g3:\n",
        "    print(s, p ,o)"
      ]
    }
  ]
}