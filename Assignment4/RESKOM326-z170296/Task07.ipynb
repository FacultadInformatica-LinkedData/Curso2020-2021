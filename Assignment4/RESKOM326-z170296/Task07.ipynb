{
  "nbformat": 4,
  "nbformat_minor": 0,
  "metadata": {
    "colab": {
      "name": "Task07.ipynb",
      "provenance": [],
      "collapsed_sections": []
    },
    "kernelspec": {
      "name": "python3",
      "display_name": "Python 3"
    }
  },
  "cells": [
    {
      "cell_type": "markdown",
      "metadata": {
        "id": "nOOPLCHF7hLB",
        "colab_type": "text"
      },
      "source": [
        "**Task 07: Querying RDF(s)**"
      ]
    },
    {
      "cell_type": "code",
      "metadata": {
        "id": "Yl9npCt8n6m-",
        "colab_type": "code",
        "colab": {},
        "tags": []
      },
      "source": [
        "!pip install rdflib \n",
        "github_storage = \"https://raw.githubusercontent.com/FacultadInformatica-LinkedData/Curso2020-2021/master/Assignment4\""
      ],
      "execution_count": 1,
      "outputs": [
        {
          "output_type": "stream",
          "name": "stdout",
          "text": "Requirement already satisfied: rdflib in c:\\programdata\\anaconda3\\lib\\site-packages (5.0.0)\nRequirement already satisfied: pyparsing in c:\\programdata\\anaconda3\\lib\\site-packages (from rdflib) (2.4.7)\nRequirement already satisfied: isodate in c:\\programdata\\anaconda3\\lib\\site-packages (from rdflib) (0.6.0)\nRequirement already satisfied: six in c:\\programdata\\anaconda3\\lib\\site-packages (from rdflib) (1.15.0)\n"
        }
      ]
    },
    {
      "cell_type": "markdown",
      "metadata": {
        "id": "XY7aPc86Bqoo",
        "colab_type": "text"
      },
      "source": [
        "Leemos el fichero RDF de la forma que lo hemos venido haciendo"
      ]
    },
    {
      "cell_type": "code",
      "metadata": {
        "id": "9ERh415on7kF",
        "colab_type": "code",
        "colab": {}
      },
      "source": [
        "from rdflib import Graph, Namespace, Literal\n",
        "from rdflib.namespace import RDF, RDFS\n",
        "g = Graph()\n",
        "g.namespace_manager.bind('ns', Namespace(\"http://somewhere#\"), override=False)\n",
        "g.namespace_manager.bind('vcard', Namespace(\"http://www.w3.org/2001/vcard-rdf/3.0#\"), override=False)\n",
        "g.parse(github_storage+\"/resources/example6.rdf\", format=\"xml\")"
      ],
      "execution_count": 2,
      "outputs": [
        {
          "output_type": "execute_result",
          "data": {
            "text/plain": "<Graph identifier=N70d233538f6a43ac8c07e456faad22f4 (<class 'rdflib.graph.Graph'>)>"
          },
          "metadata": {},
          "execution_count": 2
        }
      ]
    },
    {
      "cell_type": "code",
      "execution_count": 3,
      "metadata": {},
      "outputs": [],
      "source": [
        "# Add the namespace and import the usage of SPARQL\n",
        "ns = Namespace(\"http://somewhere#\")\n",
        "from rdflib.plugins.sparql import prepareQuery"
      ]
    },
    {
      "cell_type": "markdown",
      "metadata": {
        "id": "qp1oe2Eddsvo",
        "colab_type": "text"
      },
      "source": [
        "**TASK 7.1: List all subclasses of \"Person\" with RDFLib and SPARQL**"
      ]
    },
    {
      "cell_type": "code",
      "execution_count": 4,
      "metadata": {
        "tags": []
      },
      "outputs": [
        {
          "output_type": "stream",
          "name": "stdout",
          "text": "http://somewhere#Researcher\n\n\n(rdflib.term.URIRef('http://somewhere#Researcher'),)\n"
        }
      ],
      "source": [
        "for s, p, o in g.triples((None, RDFS.subClassOf, ns.Person)):\n",
        "    print(s)\n",
        "print(\"\\n\")\n",
        "query = prepareQuery(\"\"\"select ?s where {?s rdfs:subClassOf ns:Person}\"\"\", initNs={\"rdfs\": RDFS, \"ns\": ns})\n",
        "for data in g.query(query):\n",
        "    print(data)"
      ]
    },
    {
      "cell_type": "markdown",
      "metadata": {
        "id": "gM3DASkTQQ5Y",
        "colab_type": "text"
      },
      "source": [
        "**TASK 7.2: List all individuals of \"Person\" with RDFLib and SPARQL (remember the subClasses)**\n"
      ]
    },
    {
      "cell_type": "code",
      "execution_count": 5,
      "metadata": {
        "tags": []
      },
      "outputs": [
        {
          "output_type": "stream",
          "name": "stdout",
          "text": "http://somewhere#SaraJones\nhttp://somewhere#JohnSmith\nhttp://somewhere#JaneSmith\n\n\n(rdflib.term.URIRef('http://somewhere#SaraJones'),)\n(rdflib.term.URIRef('http://somewhere#JohnSmith'),)\n(rdflib.term.URIRef('http://somewhere#JaneSmith'),)\n"
        }
      ],
      "source": [
        "for s, p, o in g.triples((None, RDF.type, ns.Person)):\n",
        "    print(s)\n",
        "for s, p, o in g.triples((None, RDFS.subClassOf, ns.Person)):\n",
        "    for s2, p2, o2 in g.triples((None, RDF.type, s)):\n",
        "        print(s2)\n",
        "print(\"\\n\")\n",
        "q2 = prepareQuery(\"\"\"select ?s where { {?s rdf:type ns:Person} union {?s2 rdfs:subClassOf ns:Person. ?s rdf:type ?s2} }\"\"\", initNs={\"rdfs\": RDFS, \"ns\": ns, \"rdf\": RDF})\n",
        "for data in g.query(q2):\n",
        "    print(data)"
      ]
    },
    {
      "cell_type": "markdown",
      "metadata": {
        "id": "MXBqtBkJd22I",
        "colab_type": "text"
      },
      "source": [
        "**TASK 7.3: List all individuals of \"Person\" and all their properties including their class with RDFLib and SPARQL**\n"
      ]
    },
    {
      "cell_type": "code",
      "execution_count": 6,
      "metadata": {
        "tags": []
      },
      "outputs": [
        {
          "output_type": "stream",
          "name": "stdout",
          "text": "http://somewhere#SaraJones http://somewhere#http://www.w3.org/2001/vcard-rdf/3.0/Given Sara\nhttp://somewhere#SaraJones http://somewhere#http://www.w3.org/2001/vcard-rdf/3.0/FN Sara Jones\nhttp://somewhere#SaraJones http://www.w3.org/1999/02/22-rdf-syntax-ns#type http://somewhere#Person\nhttp://somewhere#SaraJones http://somewhere#http://www.w3.org/2001/vcard-rdf/3.0/Family Jones\nhttp://somewhere#JohnSmith http://somewhere#http://www.w3.org/2001/vcard-rdf/3.0/Given John\nhttp://somewhere#JohnSmith http://somewhere#http://www.w3.org/2001/vcard-rdf/3.0/FN John Smith\nhttp://somewhere#JohnSmith http://somewhere#http://www.w3.org/2001/vcard-rdf/3.0/Family Smith\nhttp://somewhere#JohnSmith http://www.w3.org/1999/02/22-rdf-syntax-ns#type http://somewhere#Person\nhttp://somewhere#JaneSmith http://somewhere#http://www.w3.org/2001/vcard-rdf/3.0/Family Smith\nhttp://somewhere#JaneSmith http://somewhere#http://www.w3.org/2001/vcard-rdf/3.0/FN jane Smith\nhttp://somewhere#JaneSmith http://www.w3.org/1999/02/22-rdf-syntax-ns#type http://somewhere#Researcher\nhttp://somewhere#JaneSmith http://somewhere#http://www.w3.org/2001/vcard-rdf/3.0/Given Jane\n\n\n(rdflib.term.URIRef('http://somewhere#SaraJones'), rdflib.term.URIRef('http://somewhere#http://www.w3.org/2001/vcard-rdf/3.0/Given'), rdflib.term.Literal('Sara', datatype=rdflib.term.URIRef('http://www.w3.org/2001/XMLSchema#string')))\n(rdflib.term.URIRef('http://somewhere#SaraJones'), rdflib.term.URIRef('http://somewhere#http://www.w3.org/2001/vcard-rdf/3.0/FN'), rdflib.term.Literal('Sara Jones', datatype=rdflib.term.URIRef('http://www.w3.org/2001/XMLSchema#string')))\n(rdflib.term.URIRef('http://somewhere#SaraJones'), rdflib.term.URIRef('http://www.w3.org/1999/02/22-rdf-syntax-ns#type'), rdflib.term.URIRef('http://somewhere#Person'))\n(rdflib.term.URIRef('http://somewhere#SaraJones'), rdflib.term.URIRef('http://somewhere#http://www.w3.org/2001/vcard-rdf/3.0/Family'), rdflib.term.Literal('Jones', datatype=rdflib.term.URIRef('http://www.w3.org/2001/XMLSchema#string')))\n(rdflib.term.URIRef('http://somewhere#JohnSmith'), rdflib.term.URIRef('http://somewhere#http://www.w3.org/2001/vcard-rdf/3.0/Given'), rdflib.term.Literal('John', datatype=rdflib.term.URIRef('http://www.w3.org/2001/XMLSchema#string')))\n(rdflib.term.URIRef('http://somewhere#JohnSmith'), rdflib.term.URIRef('http://somewhere#http://www.w3.org/2001/vcard-rdf/3.0/FN'), rdflib.term.Literal('John Smith', datatype=rdflib.term.URIRef('http://www.w3.org/2001/XMLSchema#string')))\n(rdflib.term.URIRef('http://somewhere#JohnSmith'), rdflib.term.URIRef('http://somewhere#http://www.w3.org/2001/vcard-rdf/3.0/Family'), rdflib.term.Literal('Smith', datatype=rdflib.term.URIRef('http://www.w3.org/2001/XMLSchema#string')))\n(rdflib.term.URIRef('http://somewhere#JohnSmith'), rdflib.term.URIRef('http://www.w3.org/1999/02/22-rdf-syntax-ns#type'), rdflib.term.URIRef('http://somewhere#Person'))\n(rdflib.term.URIRef('http://somewhere#JaneSmith'), rdflib.term.URIRef('http://somewhere#http://www.w3.org/2001/vcard-rdf/3.0/Family'), rdflib.term.Literal('Smith', datatype=rdflib.term.URIRef('http://www.w3.org/2001/XMLSchema#string')))\n(rdflib.term.URIRef('http://somewhere#JaneSmith'), rdflib.term.URIRef('http://somewhere#http://www.w3.org/2001/vcard-rdf/3.0/FN'), rdflib.term.Literal('jane Smith', datatype=rdflib.term.URIRef('http://www.w3.org/2001/XMLSchema#string')))\n(rdflib.term.URIRef('http://somewhere#JaneSmith'), rdflib.term.URIRef('http://www.w3.org/1999/02/22-rdf-syntax-ns#type'), rdflib.term.URIRef('http://somewhere#Researcher'))\n(rdflib.term.URIRef('http://somewhere#JaneSmith'), rdflib.term.URIRef('http://somewhere#http://www.w3.org/2001/vcard-rdf/3.0/Given'), rdflib.term.Literal('Jane', datatype=rdflib.term.URIRef('http://www.w3.org/2001/XMLSchema#string')))\n"
        }
      ],
      "source": [
        "for s, p, o in g.triples((None, RDF.type, ns.Person)):\n",
        "    for s2, p2, o2 in g.triples((s, None, None)):\n",
        "        print(s2, p2, o2)\n",
        "for s, p, o in g.triples((None, RDFS.subClassOf, ns.Person)):\n",
        "    for s2, p2, o2 in g.triples((None, RDF.type, s)):\n",
        "        for s3, p3, o3 in g.triples((s2, None, None)):\n",
        "            print(s3, p3, o3)\n",
        "print(\"\\n\")\n",
        "q3 = prepareQuery(\"\"\"select ?s ?p ?o where { {?s rdf:type ns:Person. ?s ?p ?o} union {?s2 rdfs:subClassOf ns:Person. ?s rdf:type ?s2. ?s ?p ?o} }\"\"\", initNs={\"rdfs\": RDFS, \"ns\": ns, \"rdf\": RDF})\n",
        "for data in g.query(q3):\n",
        "    print(data)"
      ]
    }
  ]
}