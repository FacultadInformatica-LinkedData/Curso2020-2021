{
  "nbformat": 4,
  "nbformat_minor": 0,
  "metadata": {
    "colab": {
      "name": "Task08.ipynb",
      "provenance": [],
      "collapsed_sections": []
    },
    "kernelspec": {
      "name": "python3",
      "display_name": "Python 3"
    }
  },
  "cells": [
    {
      "cell_type": "markdown",
      "metadata": {
        "id": "rb2ewz-dC6GC",
        "colab_type": "text"
      },
      "source": [
        "**Task 08: Completing missing data**"
      ]
    },
    {
      "cell_type": "code",
      "metadata": {
        "id": "0sQG2Y915Isp",
        "colab_type": "code",
        "colab": {},
        "tags": []
      },
      "source": [
        "!pip install rdflib\n",
        "github_storage = \"https://raw.githubusercontent.com/FacultadInformatica-LinkedData/Curso2020-2021/master/Assignment4/\""
      ],
      "execution_count": 1,
      "outputs": [
        {
          "output_type": "stream",
          "name": "stdout",
          "text": "Requirement already satisfied: rdflib in c:\\programdata\\anaconda3\\lib\\site-packages (5.0.0)\nRequirement already satisfied: isodate in c:\\programdata\\anaconda3\\lib\\site-packages (from rdflib) (0.6.0)\nRequirement already satisfied: six in c:\\programdata\\anaconda3\\lib\\site-packages (from rdflib) (1.15.0)\nRequirement already satisfied: pyparsing in c:\\programdata\\anaconda3\\lib\\site-packages (from rdflib) (2.4.7)\n"
        }
      ]
    },
    {
      "cell_type": "code",
      "metadata": {
        "id": "Jb4QeLue5NLr",
        "colab_type": "code",
        "colab": {}
      },
      "source": [
        "from rdflib import Graph, Namespace, Literal, URIRef\n",
        "g1 = Graph()\n",
        "g2 = Graph()\n",
        "g1.parse(github_storage+\"resources/data01.rdf\", format=\"xml\")\n",
        "g2.parse(github_storage+\"resources/data02.rdf\", format=\"xml\")"
      ],
      "execution_count": 2,
      "outputs": [
        {
          "output_type": "execute_result",
          "data": {
            "text/plain": "<Graph identifier=Nb8ab3cd3981a4e3c944cbabbc8d7260d (<class 'rdflib.graph.Graph'>)>"
          },
          "metadata": {},
          "execution_count": 2
        }
      ]
    },
    {
      "cell_type": "markdown",
      "metadata": {
        "id": "kxxKghwBElOm",
        "colab_type": "text"
      },
      "source": [
        "Tarea: lista todos los elementos de la clase Person en el primer grafo (data01.rdf) y completa los campos (given name, family name y email) que puedan faltar con los datos del segundo grafo (data02.rdf). Puedes usar consultas SPARQL o iterar el grafo, o ambas cosas.\n",
        "\n",
        "\n",
        "**Primero, importar todo lo necesario**"
      ]
    },
    {
      "cell_type": "code",
      "execution_count": 3,
      "metadata": {},
      "outputs": [],
      "source": [
        "from rdflib.namespace import RDF\n",
        "from rdflib.plugins.sparql import prepareQuery\n",
        "ns = Namespace(\"http://data.org#\")\n",
        "vcard = Namespace(\"http://www.w3.org/2001/vcard-rdf/3.0#\")"
      ]
    },
    {
      "source": [
        "** 1.\n",
        "Primero, listamos todos los elementos de la clase Person del primer grafo. Ya que únicamente hay que listar, es más rápido y lógico hacerlo con un bucle.**"
      ],
      "cell_type": "markdown",
      "metadata": {}
    },
    {
      "cell_type": "code",
      "execution_count": 4,
      "metadata": {
        "tags": []
      },
      "outputs": [
        {
          "output_type": "stream",
          "name": "stdout",
          "text": "http://data.org#HarryPotter\nhttp://data.org#JohnDoe\nhttp://data.org#SaraJones\nhttp://data.org#JohnSmith\n"
        }
      ],
      "source": [
        "for s, p, o in g1.triples((None, RDF.type, ns.Person)):\n",
        "    print(s)"
      ]
    },
    {
      "source": [
        "** 2.\n",
        "Ahora, extraemos solo los campos de given name, family name e email del segundo grafo para añadirlos al primero. Dado que hay que usar un filtro para los datos, es conveniente usar SPARQL por comodidad. Iterando habría que hacer bucles por cada tipo de dato (ya mencionados), quedando en 3 bucles diferentes con 3 listas. Mucho rollo.**"
      ],
      "cell_type": "markdown",
      "metadata": {}
    },
    {
      "cell_type": "code",
      "execution_count": 5,
      "metadata": {},
      "outputs": [],
      "source": [
        "q = prepareQuery(\"\"\"select ?s ?p ?o where { ?s ?p ?o. filter(?p=vcard:FN || ?p=vcard:Given || ?p=vcard:EMAIL) }\"\"\", initNs={\"vcard\": vcard})\n",
        "for newData in g2.query(q):\n",
        "    g1.add(newData)"
      ]
    },
    {
      "source": [
        "**3. \n",
        "Por último mostramos el grafo final, por visualizar el resultado**"
      ],
      "cell_type": "markdown",
      "metadata": {}
    },
    {
      "cell_type": "code",
      "execution_count": 6,
      "metadata": {
        "tags": []
      },
      "outputs": [
        {
          "output_type": "stream",
          "name": "stdout",
          "text": "http://www.w3.org/2001/vcard-rdf/3.0#Given http://www.w3.org/1999/02/22-rdf-syntax-ns#type http://www.w3.org/2000/01/rdf-schema#Datatype\nhttp://www.w3.org/2001/vcard-rdf/3.0#Family http://www.w3.org/2000/01/rdf-schema#range http://www.w3.org/2001/XMLSchema#string\nhttp://data.org#HarryPotter http://www.w3.org/1999/02/22-rdf-syntax-ns#type http://data.org#Person\nhttp://data.org#HarryPotter http://www.w3.org/2001/vcard-rdf/3.0#Given Harry\nhttp://www.w3.org/2001/vcard-rdf/3.0#EMAIL http://www.w3.org/1999/02/22-rdf-syntax-ns#type http://www.w3.org/2000/01/rdf-schema#Datatype\nhttp://data.org#JohnDoe http://www.w3.org/2001/vcard-rdf/3.0#Given John\nhttp://www.w3.org/2001/vcard-rdf/3.0#EMAIL http://www.w3.org/2000/01/rdf-schema#range http://www.w3.org/2001/XMLSchema#string\nhttp://www.w3.org/2001/vcard-rdf/3.0#Family http://www.w3.org/1999/02/22-rdf-syntax-ns#type http://www.w3.org/2000/01/rdf-schema#Property\nhttp://data.org#SaraJones http://www.w3.org/2001/vcard-rdf/3.0#EMAIL sara.jones@data.org\nhttp://data.org#JohnSmith http://www.w3.org/2001/vcard-rdf/3.0#Given John\nhttp://data.org#JohnDoe http://www.w3.org/1999/02/22-rdf-syntax-ns#type http://data.org#Person\nhttp://data.org#Person http://www.w3.org/1999/02/22-rdf-syntax-ns#type http://www.w3.org/2000/01/rdf-schema#Class\nhttp://data.org#JohnSmith http://www.w3.org/1999/02/22-rdf-syntax-ns#type http://data.org#Person\nhttp://data.org#JohnSmith http://www.w3.org/2001/vcard-rdf/3.0#EMAIL j.smith@data.org\nhttp://data.org#JohnDoe http://www.w3.org/2001/vcard-rdf/3.0#EMAIL doe@data.org\nhttp://data.org#HarryPotter http://www.w3.org/2001/vcard-rdf/3.0#Family Potter\nhttp://www.w3.org/2001/vcard-rdf/3.0#Given http://www.w3.org/2000/01/rdf-schema#range http://www.w3.org/2001/XMLSchema#string\nhttp://data.org#JohnDoe http://www.w3.org/2001/vcard-rdf/3.0#Family Doe\nhttp://data.org#HarryPotter http://www.w3.org/2001/vcard-rdf/3.0#FN Harry Potter\nhttp://data.org#SaraJones http://www.w3.org/1999/02/22-rdf-syntax-ns#type http://data.org#Person\nhttp://data.org#HarryPotter http://www.w3.org/2001/vcard-rdf/3.0#EMAIL hpotter@hogwarts.org\nhttp://data.org#SaraJones http://www.w3.org/2001/vcard-rdf/3.0#Given Sara\n"
        }
      ],
      "source": [
        "for s, p, o in g1:\n",
        "    print(s, p, o)"
      ]
    }
  ]
}