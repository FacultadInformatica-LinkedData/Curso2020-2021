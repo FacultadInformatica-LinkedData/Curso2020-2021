{
  "nbformat": 4,
  "nbformat_minor": 0,
  "metadata": {
    "colab": {
      "name": "Task06.ipynb",
      "provenance": [],
      "collapsed_sections": []
    },
    "kernelspec": {
      "name": "python3",
      "display_name": "Python 3"
    }
  },
  "cells": [
    {
      "cell_type": "markdown",
      "metadata": {
        "id": "nOOPLCHF7hLB",
        "colab_type": "text"
      },
      "source": [
        "**Task 06: Modifying RDF(s)**"
      ]
    },
    {
      "cell_type": "code",
      "metadata": {
        "id": "Yl9npCt8n6m-",
        "colab_type": "code",
        "colab": {},
        "tags": []
      },
      "source": [
        "!pip install rdflib \n",
        "github_storage = \"https://raw.githubusercontent.com/FacultadInformatica-LinkedData/Curso2020-2021/master/Assignment4\""
      ],
      "execution_count": 1,
      "outputs": [
        {
          "output_type": "stream",
          "name": "stdout",
          "text": "Requirement already satisfied: rdflib in c:\\programdata\\anaconda3\\lib\\site-packages (5.0.0)\nRequirement already satisfied: isodate in c:\\programdata\\anaconda3\\lib\\site-packages (from rdflib) (0.6.0)\nRequirement already satisfied: pyparsing in c:\\programdata\\anaconda3\\lib\\site-packages (from rdflib) (2.4.7)\nRequirement already satisfied: six in c:\\programdata\\anaconda3\\lib\\site-packages (from rdflib) (1.15.0)\n"
        }
      ]
    },
    {
      "cell_type": "markdown",
      "metadata": {
        "id": "XY7aPc86Bqoo",
        "colab_type": "text"
      },
      "source": [
        "Leemos el fichero RDF de la forma que lo hemos venido haciendo"
      ]
    },
    {
      "cell_type": "code",
      "metadata": {
        "id": "9ERh415on7kF",
        "colab_type": "code",
        "colab": {}
      },
      "source": [
        "from rdflib import Graph, Namespace, Literal\n",
        "from rdflib.namespace import RDF, RDFS\n",
        "g = Graph()\n",
        "g.namespace_manager.bind('ns', Namespace(\"http://somewhere#\"), override=False)\n",
        "g.namespace_manager.bind('vcard', Namespace(\"http://www.w3.org/2001/vcard-rdf/3.0#\"), override=False)\n",
        "g.parse(github_storage+\"/resources/example5.rdf\", format=\"xml\")"
      ],
      "execution_count": 2,
      "outputs": [
        {
          "output_type": "execute_result",
          "data": {
            "text/plain": "<Graph identifier=N6f50aec7fa4e4dd89222fdb529705ef3 (<class 'rdflib.graph.Graph'>)>"
          },
          "metadata": {},
          "execution_count": 2
        }
      ]
    },
    {
      "cell_type": "markdown",
      "metadata": {
        "id": "gM3DASkTQQ5Y",
        "colab_type": "text"
      },
      "source": [
        "Create a new class named Researcher"
      ]
    },
    {
      "cell_type": "code",
      "metadata": {
        "id": "6vtudax8Xb7b",
        "colab_type": "code",
        "colab": {},
        "tags": []
      },
      "source": [
        "ns = Namespace(\"http://somewhere#\")\n",
        "g.add((ns.Researcher, RDF.type, RDFS.Class))\n",
        "for s, p, o in g:\n",
        "  print(s,p,o)"
      ],
      "execution_count": 3,
      "outputs": [
        {
          "output_type": "stream",
          "name": "stdout",
          "text": "http://www.w3.org/2001/vcard-rdf/3.0/Family http://www.w3.org/2000/01/rdf-schema#range http://www.w3.org/2001/XMLSchema#string\nhttp://www.w3.org/2001/vcard-rdf/3.0/Given http://www.w3.org/1999/02/22-rdf-syntax-ns#type http://www.w3.org/2000/01/rdf-schema#Datatype\nhttp://somewhere#Researcher http://www.w3.org/1999/02/22-rdf-syntax-ns#type http://www.w3.org/2000/01/rdf-schema#Class\nhttp://www.w3.org/2001/vcard-rdf/3.0/FN http://www.w3.org/1999/02/22-rdf-syntax-ns#type http://www.w3.org/2000/01/rdf-schema#Datatype\nhttp://somewhere#JohnSmith http://www.w3.org/2001/vcard-rdf/3.0/Given John\nhttp://somewhere#JohnSmith http://www.w3.org/2001/vcard-rdf/3.0/FN John Smith\nhttp://somewhere#SaraJones http://www.w3.org/2001/vcard-rdf/3.0/Given Sara\nhttp://www.w3.org/2001/vcard-rdf/3.0/Family http://www.w3.org/1999/02/22-rdf-syntax-ns#type http://www.w3.org/2000/01/rdf-schema#Property\nhttp://somewhere#SaraJones http://www.w3.org/1999/02/22-rdf-syntax-ns#type http://somewhere#Person\nhttp://somewhere#JohnSmith http://www.w3.org/2001/vcard-rdf/3.0/Family Smith\nhttp://www.w3.org/2001/vcard-rdf/3.0/Given http://www.w3.org/2000/01/rdf-schema#range http://www.w3.org/2001/XMLSchema#string\nhttp://www.w3.org/2001/vcard-rdf/3.0/FN http://www.w3.org/2000/01/rdf-schema#range http://www.w3.org/2001/XMLSchema#string\nhttp://somewhere#SaraJones http://www.w3.org/2001/vcard-rdf/3.0/Family Jones\nhttp://somewhere#JohnSmith http://www.w3.org/1999/02/22-rdf-syntax-ns#type http://somewhere#Person\nhttp://somewhere#SaraJones http://www.w3.org/2001/vcard-rdf/3.0/FN Sara Jones\nhttp://somewhere#Person http://www.w3.org/1999/02/22-rdf-syntax-ns#type http://www.w3.org/2000/01/rdf-schema#Class\n"
        }
      ]
    },
    {
      "cell_type": "markdown",
      "metadata": {
        "id": "qp1oe2Eddsvo",
        "colab_type": "text"
      },
      "source": [
        "**TASK 6.1: Create a new class named \"University\"**"
      ]
    },
    {
      "cell_type": "code",
      "execution_count": 4,
      "metadata": {
        "tags": []
      },
      "outputs": [
        {
          "output_type": "stream",
          "name": "stdout",
          "text": "http://somewhere#University http://www.w3.org/1999/02/22-rdf-syntax-ns#type http://www.w3.org/2000/01/rdf-schema#Class\nhttp://www.w3.org/2001/vcard-rdf/3.0/Family http://www.w3.org/2000/01/rdf-schema#range http://www.w3.org/2001/XMLSchema#string\nhttp://www.w3.org/2001/vcard-rdf/3.0/Given http://www.w3.org/1999/02/22-rdf-syntax-ns#type http://www.w3.org/2000/01/rdf-schema#Datatype\nhttp://somewhere#Researcher http://www.w3.org/1999/02/22-rdf-syntax-ns#type http://www.w3.org/2000/01/rdf-schema#Class\nhttp://www.w3.org/2001/vcard-rdf/3.0/FN http://www.w3.org/1999/02/22-rdf-syntax-ns#type http://www.w3.org/2000/01/rdf-schema#Datatype\nhttp://somewhere#JohnSmith http://www.w3.org/2001/vcard-rdf/3.0/Given John\nhttp://somewhere#JohnSmith http://www.w3.org/2001/vcard-rdf/3.0/FN John Smith\nhttp://somewhere#SaraJones http://www.w3.org/2001/vcard-rdf/3.0/Given Sara\nhttp://www.w3.org/2001/vcard-rdf/3.0/Family http://www.w3.org/1999/02/22-rdf-syntax-ns#type http://www.w3.org/2000/01/rdf-schema#Property\nhttp://somewhere#SaraJones http://www.w3.org/1999/02/22-rdf-syntax-ns#type http://somewhere#Person\nhttp://somewhere#JohnSmith http://www.w3.org/2001/vcard-rdf/3.0/Family Smith\nhttp://www.w3.org/2001/vcard-rdf/3.0/Given http://www.w3.org/2000/01/rdf-schema#range http://www.w3.org/2001/XMLSchema#string\nhttp://www.w3.org/2001/vcard-rdf/3.0/FN http://www.w3.org/2000/01/rdf-schema#range http://www.w3.org/2001/XMLSchema#string\nhttp://somewhere#SaraJones http://www.w3.org/2001/vcard-rdf/3.0/Family Jones\nhttp://somewhere#JohnSmith http://www.w3.org/1999/02/22-rdf-syntax-ns#type http://somewhere#Person\nhttp://somewhere#SaraJones http://www.w3.org/2001/vcard-rdf/3.0/FN Sara Jones\nhttp://somewhere#Person http://www.w3.org/1999/02/22-rdf-syntax-ns#type http://www.w3.org/2000/01/rdf-schema#Class\n"
        }
      ],
      "source": [
        "g.add((ns.University, RDF.type, RDFS.Class))\n",
        "for s, p, o in g:\n",
        "    print(s, p, o)"
      ]
    },
    {
      "cell_type": "markdown",
      "metadata": {
        "id": "MXBqtBkJd22I",
        "colab_type": "text"
      },
      "source": [
        "**TASK 6.2: Add \"Researcher\" as a subclass of \"Person\"**"
      ]
    },
    {
      "cell_type": "code",
      "execution_count": 5,
      "metadata": {
        "tags": []
      },
      "outputs": [
        {
          "output_type": "stream",
          "name": "stdout",
          "text": "http://somewhere#University http://www.w3.org/1999/02/22-rdf-syntax-ns#type http://www.w3.org/2000/01/rdf-schema#Class\nhttp://www.w3.org/2001/vcard-rdf/3.0/Family http://www.w3.org/2000/01/rdf-schema#range http://www.w3.org/2001/XMLSchema#string\nhttp://www.w3.org/2001/vcard-rdf/3.0/Given http://www.w3.org/1999/02/22-rdf-syntax-ns#type http://www.w3.org/2000/01/rdf-schema#Datatype\nhttp://somewhere#Researcher http://www.w3.org/1999/02/22-rdf-syntax-ns#type http://www.w3.org/2000/01/rdf-schema#Class\nhttp://www.w3.org/2001/vcard-rdf/3.0/FN http://www.w3.org/1999/02/22-rdf-syntax-ns#type http://www.w3.org/2000/01/rdf-schema#Datatype\nhttp://somewhere#JohnSmith http://www.w3.org/2001/vcard-rdf/3.0/Given John\nhttp://somewhere#JohnSmith http://www.w3.org/2001/vcard-rdf/3.0/FN John Smith\nhttp://somewhere#SaraJones http://www.w3.org/2001/vcard-rdf/3.0/Given Sara\nhttp://www.w3.org/2001/vcard-rdf/3.0/Family http://www.w3.org/1999/02/22-rdf-syntax-ns#type http://www.w3.org/2000/01/rdf-schema#Property\nhttp://somewhere#SaraJones http://www.w3.org/1999/02/22-rdf-syntax-ns#type http://somewhere#Person\nhttp://somewhere#JohnSmith http://www.w3.org/2001/vcard-rdf/3.0/Family Smith\nhttp://www.w3.org/2001/vcard-rdf/3.0/Given http://www.w3.org/2000/01/rdf-schema#range http://www.w3.org/2001/XMLSchema#string\nhttp://www.w3.org/2001/vcard-rdf/3.0/FN http://www.w3.org/2000/01/rdf-schema#range http://www.w3.org/2001/XMLSchema#string\nhttp://somewhere#SaraJones http://www.w3.org/2001/vcard-rdf/3.0/Family Jones\nhttp://somewhere#JohnSmith http://www.w3.org/1999/02/22-rdf-syntax-ns#type http://somewhere#Person\nhttp://somewhere#SaraJones http://www.w3.org/2001/vcard-rdf/3.0/FN Sara Jones\nhttp://somewhere#Reseacher http://www.w3.org/2000/01/rdf-schema#subClassOf http://somewhere#Person\nhttp://somewhere#Person http://www.w3.org/1999/02/22-rdf-syntax-ns#type http://www.w3.org/2000/01/rdf-schema#Class\n"
        }
      ],
      "source": [
        "g.add((ns.Reseacher, RDFS.subClassOf, ns.Person))\n",
        "for s, p, o in g:\n",
        "    print(s, p, o)"
      ]
    },
    {
      "cell_type": "markdown",
      "metadata": {
        "id": "OGct6k7Ld9O0",
        "colab_type": "text"
      },
      "source": [
        "**TASK 6.3: Create a new individual of Researcher named \"Jane Smith\"**"
      ]
    },
    {
      "cell_type": "code",
      "execution_count": 6,
      "metadata": {
        "tags": []
      },
      "outputs": [
        {
          "output_type": "stream",
          "name": "stdout",
          "text": "http://somewhere#University http://www.w3.org/1999/02/22-rdf-syntax-ns#type http://www.w3.org/2000/01/rdf-schema#Class\nhttp://www.w3.org/2001/vcard-rdf/3.0/Family http://www.w3.org/2000/01/rdf-schema#range http://www.w3.org/2001/XMLSchema#string\nhttp://www.w3.org/2001/vcard-rdf/3.0/Given http://www.w3.org/1999/02/22-rdf-syntax-ns#type http://www.w3.org/2000/01/rdf-schema#Datatype\nhttp://somewhere#Researcher http://www.w3.org/1999/02/22-rdf-syntax-ns#type http://www.w3.org/2000/01/rdf-schema#Class\nhttp://www.w3.org/2001/vcard-rdf/3.0/FN http://www.w3.org/1999/02/22-rdf-syntax-ns#type http://www.w3.org/2000/01/rdf-schema#Datatype\nhttp://somewhere#JohnSmith http://www.w3.org/2001/vcard-rdf/3.0/Given John\nhttp://somewhere#JohnSmith http://www.w3.org/2001/vcard-rdf/3.0/FN John Smith\nhttp://somewhere#SaraJones http://www.w3.org/2001/vcard-rdf/3.0/Given Sara\nhttp://www.w3.org/2001/vcard-rdf/3.0/Family http://www.w3.org/1999/02/22-rdf-syntax-ns#type http://www.w3.org/2000/01/rdf-schema#Property\nhttp://somewhere#SaraJones http://www.w3.org/1999/02/22-rdf-syntax-ns#type http://somewhere#Person\nhttp://somewhere#JohnSmith http://www.w3.org/2001/vcard-rdf/3.0/Family Smith\nhttp://www.w3.org/2001/vcard-rdf/3.0/Given http://www.w3.org/2000/01/rdf-schema#range http://www.w3.org/2001/XMLSchema#string\nhttp://www.w3.org/2001/vcard-rdf/3.0/FN http://www.w3.org/2000/01/rdf-schema#range http://www.w3.org/2001/XMLSchema#string\nhttp://somewhere#SaraJones http://www.w3.org/2001/vcard-rdf/3.0/Family Jones\nhttp://somewhere#JohnSmith http://www.w3.org/1999/02/22-rdf-syntax-ns#type http://somewhere#Person\nhttp://somewhere#JaneSmith http://www.w3.org/1999/02/22-rdf-syntax-ns#type http://somewhere#Researcher\nhttp://somewhere#SaraJones http://www.w3.org/2001/vcard-rdf/3.0/FN Sara Jones\nhttp://somewhere#Reseacher http://www.w3.org/2000/01/rdf-schema#subClassOf http://somewhere#Person\nhttp://somewhere#Person http://www.w3.org/1999/02/22-rdf-syntax-ns#type http://www.w3.org/2000/01/rdf-schema#Class\n"
        }
      ],
      "source": [
        "g.add((ns.JaneSmith, RDF.type, ns.Researcher))\n",
        "for s, p, o in g:\n",
        "    print(s, p, o)"
      ]
    },
    {
      "cell_type": "markdown",
      "metadata": {
        "id": "tD383J__eHfV",
        "colab_type": "text"
      },
      "source": [
        "**TASK 6.4: Add to the individual JaneSmith the fullName, given and family names**"
      ]
    },
    {
      "cell_type": "code",
      "execution_count": 7,
      "metadata": {
        "tags": []
      },
      "outputs": [
        {
          "output_type": "stream",
          "name": "stdout",
          "text": "http://somewhere#University http://www.w3.org/1999/02/22-rdf-syntax-ns#type http://www.w3.org/2000/01/rdf-schema#Class\nhttp://www.w3.org/2001/vcard-rdf/3.0/Family http://www.w3.org/2000/01/rdf-schema#range http://www.w3.org/2001/XMLSchema#string\nhttp://www.w3.org/2001/vcard-rdf/3.0/Given http://www.w3.org/1999/02/22-rdf-syntax-ns#type http://www.w3.org/2000/01/rdf-schema#Datatype\nhttp://somewhere#Researcher http://www.w3.org/1999/02/22-rdf-syntax-ns#type http://www.w3.org/2000/01/rdf-schema#Class\nhttp://www.w3.org/2001/vcard-rdf/3.0/FN http://www.w3.org/1999/02/22-rdf-syntax-ns#type http://www.w3.org/2000/01/rdf-schema#Datatype\nhttp://somewhere#JohnSmith http://www.w3.org/2001/vcard-rdf/3.0/Given John\nhttp://somewhere#JohnSmith http://www.w3.org/2001/vcard-rdf/3.0/FN John Smith\nhttp://somewhere#SaraJones http://www.w3.org/2001/vcard-rdf/3.0/Given Sara\nhttp://www.w3.org/2001/vcard-rdf/3.0/Family http://www.w3.org/1999/02/22-rdf-syntax-ns#type http://www.w3.org/2000/01/rdf-schema#Property\nhttp://somewhere#SaraJones http://www.w3.org/1999/02/22-rdf-syntax-ns#type http://somewhere#Person\nhttp://somewhere#JohnSmith http://www.w3.org/2001/vcard-rdf/3.0/Family Smith\nhttp://somewhere#JaneSmith https://www.w3.org/2001/vcard-rdf/3.0#Given Jane\nhttp://www.w3.org/2001/vcard-rdf/3.0/Given http://www.w3.org/2000/01/rdf-schema#range http://www.w3.org/2001/XMLSchema#string\nhttp://www.w3.org/2001/vcard-rdf/3.0/FN http://www.w3.org/2000/01/rdf-schema#range http://www.w3.org/2001/XMLSchema#string\nhttp://somewhere#JaneSmith https://www.w3.org/2001/vcard-rdf/3.0#FN Jane Smith\nhttp://somewhere#SaraJones http://www.w3.org/2001/vcard-rdf/3.0/Family Jones\nhttp://somewhere#JohnSmith http://www.w3.org/1999/02/22-rdf-syntax-ns#type http://somewhere#Person\nhttp://somewhere#JaneSmith http://www.w3.org/1999/02/22-rdf-syntax-ns#type http://somewhere#Researcher\nhttp://somewhere#JaneSmith https://www.w3.org/2001/vcard-rdf/3.0#Family Smith\nhttp://somewhere#SaraJones http://www.w3.org/2001/vcard-rdf/3.0/FN Sara Jones\nhttp://somewhere#Reseacher http://www.w3.org/2000/01/rdf-schema#subClassOf http://somewhere#Person\nhttp://somewhere#Person http://www.w3.org/1999/02/22-rdf-syntax-ns#type http://www.w3.org/2000/01/rdf-schema#Class\n"
        }
      ],
      "source": [
        "vcard = Namespace(\"https://www.w3.org/2001/vcard-rdf/3.0#\")\n",
        "g.add((ns.JaneSmith, vcard.FN, Literal(\"Jane Smith\")))\n",
        "g.add((ns.JaneSmith, vcard.Given, Literal(\"Jane\")))\n",
        "g.add((ns.JaneSmith, vcard.Family, Literal(\"Smith\")))\n",
        "for s, p, o in g:\n",
        "    print(s, p, o)"
      ]
    },
    {
      "cell_type": "markdown",
      "metadata": {
        "id": "GyZOMndoeUj4",
        "colab_type": "text"
      },
      "source": [
        "**TASK 6.5: Add UPM as the university where John Smith works**"
      ]
    },
    {
      "cell_type": "code",
      "execution_count": 8,
      "metadata": {
        "tags": []
      },
      "outputs": [
        {
          "output_type": "stream",
          "name": "stdout",
          "text": "http://somewhere#University http://www.w3.org/1999/02/22-rdf-syntax-ns#type http://www.w3.org/2000/01/rdf-schema#Class\nhttp://www.w3.org/2001/vcard-rdf/3.0/Family http://www.w3.org/2000/01/rdf-schema#range http://www.w3.org/2001/XMLSchema#string\nhttp://www.w3.org/2001/vcard-rdf/3.0/Given http://www.w3.org/1999/02/22-rdf-syntax-ns#type http://www.w3.org/2000/01/rdf-schema#Datatype\nhttp://somewhere#Researcher http://www.w3.org/1999/02/22-rdf-syntax-ns#type http://www.w3.org/2000/01/rdf-schema#Class\nhttp://www.w3.org/2001/vcard-rdf/3.0/FN http://www.w3.org/1999/02/22-rdf-syntax-ns#type http://www.w3.org/2000/01/rdf-schema#Datatype\nhttp://somewhere#JohnSmith http://www.w3.org/2001/vcard-rdf/3.0/Given John\nhttp://somewhere#JohnSmith http://www.w3.org/2001/vcard-rdf/3.0/FN John Smith\nhttp://somewhere#SaraJones http://www.w3.org/2001/vcard-rdf/3.0/Given Sara\nhttp://www.w3.org/2001/vcard-rdf/3.0/Family http://www.w3.org/1999/02/22-rdf-syntax-ns#type http://www.w3.org/2000/01/rdf-schema#Property\nhttp://somewhere#SaraJones http://www.w3.org/1999/02/22-rdf-syntax-ns#type http://somewhere#Person\nhttp://somewhere#JohnSmith http://www.w3.org/2001/vcard-rdf/3.0/Family Smith\nhttp://somewhere#JaneSmith https://www.w3.org/2001/vcard-rdf/3.0#Given Jane\nhttp://www.w3.org/2001/vcard-rdf/3.0/Given http://www.w3.org/2000/01/rdf-schema#range http://www.w3.org/2001/XMLSchema#string\nhttp://www.w3.org/2001/vcard-rdf/3.0/FN http://www.w3.org/2000/01/rdf-schema#range http://www.w3.org/2001/XMLSchema#string\nhttp://somewhere#JaneSmith https://www.w3.org/2001/vcard-rdf/3.0#FN Jane Smith\nhttp://somewhere#JohnSmith https://www.w3.org/2001/vcard-rdf/3.0#Work http://somewhere#UPM\nhttp://somewhere#SaraJones http://www.w3.org/2001/vcard-rdf/3.0/Family Jones\nhttp://somewhere#JohnSmith http://www.w3.org/1999/02/22-rdf-syntax-ns#type http://somewhere#Person\nhttp://somewhere#JaneSmith http://www.w3.org/1999/02/22-rdf-syntax-ns#type http://somewhere#Researcher\nhttp://somewhere#JaneSmith https://www.w3.org/2001/vcard-rdf/3.0#Family Smith\nhttp://somewhere#SaraJones http://www.w3.org/2001/vcard-rdf/3.0/FN Sara Jones\nhttp://somewhere#UPM http://www.w3.org/1999/02/22-rdf-syntax-ns#type http://somewhere#University\nhttp://somewhere#Reseacher http://www.w3.org/2000/01/rdf-schema#subClassOf http://somewhere#Person\nhttp://somewhere#Person http://www.w3.org/1999/02/22-rdf-syntax-ns#type http://www.w3.org/2000/01/rdf-schema#Class\n"
        }
      ],
      "source": [
        "g.add((ns.UPM, RDF.type, ns.University))\n",
        "g.add((ns.JohnSmith, vcard.Work, ns.UPM))\n",
        "for s, p, o in g:\n",
        "    print(s, p, o)"
      ]
    }
  ]
}