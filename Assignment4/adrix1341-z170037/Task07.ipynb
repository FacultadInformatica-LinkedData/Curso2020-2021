{
  "nbformat": 4,
  "nbformat_minor": 0,
  "metadata": {
    "colab": {
      "name": "Task07.ipynb",
      "provenance": [],
      "collapsed_sections": []
    },
    "kernelspec": {
      "name": "python3",
      "display_name": "Python 3"
    }
  },
  "cells": [
    {
      "cell_type": "markdown",
      "metadata": {
        "id": "nOOPLCHF7hLB"
      },
      "source": [
        "**Task 07: Querying RDF(s)**"
      ]
    },
    {
      "cell_type": "code",
      "metadata": {
        "id": "Yl9npCt8n6m-",
        "outputId": "ac4590d6-99ca-4eec-f298-24180f638e5f",
        "colab": {
          "base_uri": "https://localhost:8080/",
          "height": 82
        }
      },
      "source": [
        "!pip install rdflib \n",
        "github_storage = \"https://raw.githubusercontent.com/FacultadInformatica-LinkedData/Curso2020-2021/master/Assignment4\""
      ],
      "execution_count": 9,
      "outputs": [
        {
          "output_type": "stream",
          "text": [
            "Requirement already satisfied: rdflib in /usr/local/lib/python3.6/dist-packages (5.0.0)\n",
            "Requirement already satisfied: six in /usr/local/lib/python3.6/dist-packages (from rdflib) (1.15.0)\n",
            "Requirement already satisfied: pyparsing in /usr/local/lib/python3.6/dist-packages (from rdflib) (2.4.7)\n",
            "Requirement already satisfied: isodate in /usr/local/lib/python3.6/dist-packages (from rdflib) (0.6.0)\n"
          ],
          "name": "stdout"
        }
      ]
    },
    {
      "cell_type": "markdown",
      "metadata": {
        "id": "XY7aPc86Bqoo"
      },
      "source": [
        "Leemos el fichero RDF de la forma que lo hemos venido haciendo"
      ]
    },
    {
      "cell_type": "code",
      "metadata": {
        "id": "9ERh415on7kF",
        "outputId": "23b9267d-b933-4ccf-ddfd-06cd0a9e504a",
        "colab": {
          "base_uri": "https://localhost:8080/",
          "height": 33
        }
      },
      "source": [
        "from rdflib import Graph, Namespace, Literal\n",
        "from rdflib.namespace import RDF, RDFS\n",
        "g = Graph()\n",
        "g.namespace_manager.bind('ns', Namespace(\"http://somewhere#\"), override=False)\n",
        "g.namespace_manager.bind('vcard', Namespace(\"http://www.w3.org/2001/vcard-rdf/3.0#\"), override=False)\n",
        "g.parse(github_storage+\"/resources/example6.rdf\", format=\"xml\")"
      ],
      "execution_count": 10,
      "outputs": [
        {
          "output_type": "execute_result",
          "data": {
            "text/plain": [
              "<Graph identifier=Ncfa66e382fdd45a9aeab87bbc8dbe078 (<class 'rdflib.graph.Graph'>)>"
            ]
          },
          "metadata": {
            "tags": []
          },
          "execution_count": 10
        }
      ]
    },
    {
      "cell_type": "markdown",
      "metadata": {
        "id": "qp1oe2Eddsvo"
      },
      "source": [
        "**TASK 7.1: List all subclasses of \"Person\" with RDFLib and SPARQL**"
      ]
    },
    {
      "cell_type": "code",
      "metadata": {
        "id": "8fIuARA4ztzg",
        "outputId": "cdd2e0c1-85c8-4f32-c62d-edfd55c07289",
        "colab": {
          "base_uri": "https://localhost:8080/",
          "height": 50
        }
      },
      "source": [
        "from rdflib.plugins.sparql import prepareQuery\n",
        "ns = Namespace(\"http://somewhere#\")\n",
        "qP = prepareQuery('''\n",
        "  SELECT ?sub\n",
        "  WHERE { \n",
        "    ?sub rdfs:subClassOf ns:Person. \n",
        "  }\n",
        "  ''',\n",
        "  initNs = { \"rdfs\": RDFS, \"ns\": ns}\n",
        ")\n",
        "#SPARQL\n",
        "for r in g.query(qP):\n",
        "  print(r)\n",
        "#RDFLib\n",
        "for sub,pr,obj in g.triples((None, RDFS.subClassOf, ns.Person)):\n",
        "  print(sub,pr,obj)  "
      ],
      "execution_count": 17,
      "outputs": [
        {
          "output_type": "stream",
          "text": [
            "(rdflib.term.URIRef('http://somewhere#Researcher'),)\n",
            "http://somewhere#Researcher http://www.w3.org/2000/01/rdf-schema#subClassOf http://somewhere#Person\n"
          ],
          "name": "stdout"
        }
      ]
    },
    {
      "cell_type": "markdown",
      "metadata": {
        "id": "gM3DASkTQQ5Y"
      },
      "source": [
        "**TASK 7.2: List all individuals of \"Person\" with RDFLib and SPARQL (remember the subClasses)**\n"
      ]
    },
    {
      "cell_type": "code",
      "metadata": {
        "id": "tK9oc9VL-dVV",
        "outputId": "033c647e-70ca-41fd-9ef3-baff0a9c3f39",
        "colab": {
          "base_uri": "https://localhost:8080/",
          "height": 82
        }
      },
      "source": [
        "from rdflib.plugins.sparql import prepareQuery\n",
        "ns = Namespace(\"http://somewhere#\")\n",
        "myQuery = prepareQuery('''\n",
        "  SELECT ?ind\n",
        "  WHERE { \n",
        "    { \n",
        "      ?ind rdf:type ns:Person. \n",
        "    } UNION {\n",
        "      ?sub rdfs:subClassOf ns:Person.\n",
        "      ?ind rdf:type ?sub\n",
        "    }\n",
        "  }\n",
        "  ''',\n",
        "  initNs = { \"rdf\": RDF,\"rdfs\": RDFS, \"ns\": ns}\n",
        ")\n",
        "#SPARQL\n",
        "for r in g.query(qP):\n",
        "  print(r)\n",
        "\n",
        "#RDFLib\n",
        "\n",
        "#Individuals of Person\n",
        "for sub,pr,obj in g.triples((None, RDF.type, ns.Person)):\n",
        "  print(sub,pr,obj) #Give me all individuals of Person\n",
        "#SubClasses of Person\n",
        "for sub,pr,obj in g.triples((None,RDFS.subClassOf,ns.Person)):\n",
        "  for sub2,pr2,obj2 in g.triples((None,RDF.type,sub)):\n",
        "    print(sub2) #Give me all the individuals that are subClasses of Person"
      ],
      "execution_count": 20,
      "outputs": [
        {
          "output_type": "stream",
          "text": [
            "(rdflib.term.URIRef('http://somewhere#Researcher'),)\n",
            "http://somewhere#SaraJones http://www.w3.org/1999/02/22-rdf-syntax-ns#type http://somewhere#Person\n",
            "http://somewhere#JohnSmith http://www.w3.org/1999/02/22-rdf-syntax-ns#type http://somewhere#Person\n",
            "http://somewhere#JaneSmith\n"
          ],
          "name": "stdout"
        }
      ]
    },
    {
      "cell_type": "markdown",
      "metadata": {
        "id": "MXBqtBkJd22I"
      },
      "source": [
        "**TASK 7.3: List all individuals of \"Person\" and all their properties including their class with RDFLib and SPARQL**\n"
      ]
    },
    {
      "cell_type": "code",
      "metadata": {
        "id": "IH7nY93C1gES",
        "outputId": "6ded4bd0-71ad-44cb-d251-f497ab5be561",
        "colab": {
          "base_uri": "https://localhost:8080/",
          "height": 232
        }
      },
      "source": [
        "from rdflib.plugins.sparql import prepareQuery\n",
        "ns = Namespace(\"http://somewhere#\")\n",
        "qP = prepareQuery('''\n",
        "  SELECT ?ind ?pr ?class\n",
        "  WHERE { \n",
        "    { \n",
        "      ?ind rdf:type ns:Person.\n",
        "      ?ind ?pr ?class\n",
        "    } UNION {\n",
        "      ?ind rdf:type ?subC.\n",
        "      ?ind ?pr ?class.\n",
        "      ?subC rdfs:subClassOf ns:Person\n",
        "    }\n",
        "  }\n",
        "  ''',\n",
        "  initNs = { \"rdf\": RDF,\"rdfs\": RDFS, \"ns\": ns}\n",
        ")\n",
        "\n",
        "#SPARQL\n",
        "for r in g.query(qP):\n",
        "  print(r)\n",
        "\n",
        "\n",
        "#RDFLib\n",
        "for suj,pr,obj in g.triples((None, RDFS.subClassOf, ns.Person)):\n",
        "  for suj2,pr2,obj2 in g.triples((None, RDF.type, suj)):\n",
        "    for suj3,pr3,obj3 in g.triples((suj2, None, None)):\n",
        "      print(suj3,pr3,obj3) #Give me all subclasses of Person\n",
        "\n",
        "for suj,pr,obj in g.triples((None, RDF.type, ns.Person)):\n",
        "  for suj2,pr2,obj2 in g.triples((s, None, None)):\n",
        "      print(s2,pr2,obj2) #Give me all individuals of Person\n"
      ],
      "execution_count": 13,
      "outputs": [
        {
          "output_type": "stream",
          "text": [
            "(rdflib.term.URIRef('http://somewhere#SaraJones'), rdflib.term.URIRef('http://somewhere#http://www.w3.org/2001/vcard-rdf/3.0/FN'), rdflib.term.Literal('Sara Jones', datatype=rdflib.term.URIRef('http://www.w3.org/2001/XMLSchema#string')))\n",
            "(rdflib.term.URIRef('http://somewhere#SaraJones'), rdflib.term.URIRef('http://www.w3.org/1999/02/22-rdf-syntax-ns#type'), rdflib.term.URIRef('http://somewhere#Person'))\n",
            "(rdflib.term.URIRef('http://somewhere#SaraJones'), rdflib.term.URIRef('http://somewhere#http://www.w3.org/2001/vcard-rdf/3.0/Family'), rdflib.term.Literal('Jones', datatype=rdflib.term.URIRef('http://www.w3.org/2001/XMLSchema#string')))\n",
            "(rdflib.term.URIRef('http://somewhere#SaraJones'), rdflib.term.URIRef('http://somewhere#http://www.w3.org/2001/vcard-rdf/3.0/Given'), rdflib.term.Literal('Sara', datatype=rdflib.term.URIRef('http://www.w3.org/2001/XMLSchema#string')))\n",
            "(rdflib.term.URIRef('http://somewhere#JohnSmith'), rdflib.term.URIRef('http://somewhere#http://www.w3.org/2001/vcard-rdf/3.0/Given'), rdflib.term.Literal('John', datatype=rdflib.term.URIRef('http://www.w3.org/2001/XMLSchema#string')))\n",
            "(rdflib.term.URIRef('http://somewhere#JohnSmith'), rdflib.term.URIRef('http://somewhere#http://www.w3.org/2001/vcard-rdf/3.0/Family'), rdflib.term.Literal('Smith', datatype=rdflib.term.URIRef('http://www.w3.org/2001/XMLSchema#string')))\n",
            "(rdflib.term.URIRef('http://somewhere#JohnSmith'), rdflib.term.URIRef('http://www.w3.org/1999/02/22-rdf-syntax-ns#type'), rdflib.term.URIRef('http://somewhere#Person'))\n",
            "(rdflib.term.URIRef('http://somewhere#JohnSmith'), rdflib.term.URIRef('http://somewhere#http://www.w3.org/2001/vcard-rdf/3.0/FN'), rdflib.term.Literal('John Smith', datatype=rdflib.term.URIRef('http://www.w3.org/2001/XMLSchema#string')))\n",
            "(rdflib.term.URIRef('http://somewhere#JaneSmith'), rdflib.term.URIRef('http://somewhere#http://www.w3.org/2001/vcard-rdf/3.0/Given'), rdflib.term.Literal('Jane', datatype=rdflib.term.URIRef('http://www.w3.org/2001/XMLSchema#string')))\n",
            "(rdflib.term.URIRef('http://somewhere#JaneSmith'), rdflib.term.URIRef('http://www.w3.org/1999/02/22-rdf-syntax-ns#type'), rdflib.term.URIRef('http://somewhere#Researcher'))\n",
            "(rdflib.term.URIRef('http://somewhere#JaneSmith'), rdflib.term.URIRef('http://somewhere#http://www.w3.org/2001/vcard-rdf/3.0/Family'), rdflib.term.Literal('Smith', datatype=rdflib.term.URIRef('http://www.w3.org/2001/XMLSchema#string')))\n",
            "(rdflib.term.URIRef('http://somewhere#JaneSmith'), rdflib.term.URIRef('http://somewhere#http://www.w3.org/2001/vcard-rdf/3.0/FN'), rdflib.term.Literal('jane Smith', datatype=rdflib.term.URIRef('http://www.w3.org/2001/XMLSchema#string')))\n"
          ],
          "name": "stdout"
        }
      ]
    }
  ]
}