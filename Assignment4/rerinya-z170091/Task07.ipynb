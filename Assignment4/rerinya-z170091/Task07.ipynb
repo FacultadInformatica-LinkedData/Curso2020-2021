{
  "nbformat": 4,
  "nbformat_minor": 0,
  "metadata": {
    "colab": {
      "name": "Task07.ipynb",
      "provenance": [],
      "collapsed_sections": []
    },
    "kernelspec": {
      "name": "python3",
      "display_name": "Python 3"
    }
  },
  "cells": [
    {
      "cell_type": "markdown",
      "metadata": {
        "id": "nOOPLCHF7hLB"
      },
      "source": [
        "**Task 07: Querying RDF(s)**"
      ]
    },
    {
      "cell_type": "code",
      "metadata": {
        "id": "Yl9npCt8n6m-",
        "outputId": "2fd22c77-2cfa-40d8-f1b9-292c53799603",
        "colab": {
          "base_uri": "https://localhost:8080/",
          "height": 205
        }
      },
      "source": [
        "!pip install rdflib \n",
        "github_storage = \"https://raw.githubusercontent.com/FacultadInformatica-LinkedData/Curso2020-2021/master/Assignment4\""
      ],
      "execution_count": 1,
      "outputs": [
        {
          "output_type": "stream",
          "text": [
            "Collecting rdflib\n",
            "\u001b[?25l  Downloading https://files.pythonhosted.org/packages/d0/6b/6454aa1db753c0f8bc265a5bd5c10b5721a4bb24160fb4faf758cf6be8a1/rdflib-5.0.0-py3-none-any.whl (231kB)\n",
            "\u001b[K     |████████████████████████████████| 235kB 2.9MB/s \n",
            "\u001b[?25hCollecting isodate\n",
            "\u001b[?25l  Downloading https://files.pythonhosted.org/packages/9b/9f/b36f7774ff5ea8e428fdcfc4bb332c39ee5b9362ddd3d40d9516a55221b2/isodate-0.6.0-py2.py3-none-any.whl (45kB)\n",
            "\u001b[K     |████████████████████████████████| 51kB 3.8MB/s \n",
            "\u001b[?25hRequirement already satisfied: pyparsing in /usr/local/lib/python3.6/dist-packages (from rdflib) (2.4.7)\n",
            "Requirement already satisfied: six in /usr/local/lib/python3.6/dist-packages (from rdflib) (1.15.0)\n",
            "Installing collected packages: isodate, rdflib\n",
            "Successfully installed isodate-0.6.0 rdflib-5.0.0\n"
          ],
          "name": "stdout"
        }
      ]
    },
    {
      "cell_type": "markdown",
      "metadata": {
        "id": "XY7aPc86Bqoo"
      },
      "source": [
        "Leemos el fichero RDF de la forma que lo hemos venido haciendo"
      ]
    },
    {
      "cell_type": "code",
      "metadata": {
        "id": "9ERh415on7kF",
        "outputId": "f9693a47-7b98-485a-a364-c6098faf545a",
        "colab": {
          "base_uri": "https://localhost:8080/",
          "height": 34
        }
      },
      "source": [
        "from rdflib import Graph, Namespace, Literal\n",
        "from rdflib.namespace import RDF, RDFS\n",
        "g = Graph()\n",
        "g.namespace_manager.bind('ns', Namespace(\"http://somewhere#\"), override=False)\n",
        "g.namespace_manager.bind('vcard', Namespace(\"http://www.w3.org/2001/vcard-rdf/3.0#\"), override=False)\n",
        "g.parse(github_storage+\"/resources/example6.rdf\", format=\"xml\")"
      ],
      "execution_count": 2,
      "outputs": [
        {
          "output_type": "execute_result",
          "data": {
            "text/plain": [
              "<Graph identifier=N8b1f8dd8444e42469e52f225de56227c (<class 'rdflib.graph.Graph'>)>"
            ]
          },
          "metadata": {
            "tags": []
          },
          "execution_count": 2
        }
      ]
    },
    {
      "cell_type": "markdown",
      "metadata": {
        "id": "qp1oe2Eddsvo"
      },
      "source": [
        "**TASK 7.1: List all subclasses of \"Person\" with RDFLib and SPARQL**"
      ]
    },
    {
      "cell_type": "code",
      "metadata": {
        "id": "S_8aB_y1rju8",
        "outputId": "3449760e-fcb9-467e-aa7d-3bf8169b69e5",
        "colab": {
          "base_uri": "https://localhost:8080/",
          "height": 34
        }
      },
      "source": [
        "ns = Namespace(\"http://somewhere#\")\n",
        "for s, p, o in g.triples((None, RDFS.subClassOf, ns.Person)):\n",
        "  print(s,p,o)"
      ],
      "execution_count": 3,
      "outputs": [
        {
          "output_type": "stream",
          "text": [
            "http://somewhere#Researcher http://www.w3.org/2000/01/rdf-schema#subClassOf http://somewhere#Person\n"
          ],
          "name": "stdout"
        }
      ]
    },
    {
      "cell_type": "code",
      "metadata": {
        "id": "6nqjiYIwrukA",
        "outputId": "bd46d6fd-713b-4d42-a36a-d1054060e897",
        "colab": {
          "base_uri": "https://localhost:8080/",
          "height": 34
        }
      },
      "source": [
        "from rdflib.plugins.sparql import prepareQuery\n",
        "\n",
        "q = prepareQuery('''\n",
        "  SELECT ?s\n",
        "  WHERE {\n",
        "    ?s rdfs:subClassOf ns:Person.\n",
        "  }\n",
        "  ''',\n",
        "  initNs = {\"rdfs\":RDFS, \"ns\":ns}\n",
        ")\n",
        "\n",
        "for r in g.query(q):\n",
        "  print(r)"
      ],
      "execution_count": 11,
      "outputs": [
        {
          "output_type": "stream",
          "text": [
            "(rdflib.term.URIRef('http://somewhere#Researcher'),)\n"
          ],
          "name": "stdout"
        }
      ]
    },
    {
      "cell_type": "markdown",
      "metadata": {
        "id": "gM3DASkTQQ5Y"
      },
      "source": [
        "**TASK 7.2: List all individuals of \"Person\" with RDFLib and SPARQL (remember the subClasses)**\n"
      ]
    },
    {
      "cell_type": "code",
      "metadata": {
        "id": "3v6NeFDqrkBT",
        "outputId": "285cf8bc-7f1c-460b-d7a6-ad6d69838ab6",
        "colab": {
          "base_uri": "https://localhost:8080/",
          "height": 67
        }
      },
      "source": [
        "for s, p, o in g.triples((None, RDF.type, ns.Person)):\n",
        "  print(s) \n",
        "\n",
        "for s, p, o in g.triples((None, RDFS.subClassOf, ns.Person)):\n",
        "  for x, y, z in g.triples((None, RDF.type, s)):\n",
        "    print(x)"
      ],
      "execution_count": 13,
      "outputs": [
        {
          "output_type": "stream",
          "text": [
            "http://somewhere#JohnSmith\n",
            "http://somewhere#SaraJones\n",
            "http://somewhere#JaneSmith\n"
          ],
          "name": "stdout"
        }
      ]
    },
    {
      "cell_type": "code",
      "metadata": {
        "id": "FhNZbvWFtyeO",
        "outputId": "e0e8839d-b9ef-4a2a-e9e3-bf09db20bb4a",
        "colab": {
          "base_uri": "https://localhost:8080/",
          "height": 67
        }
      },
      "source": [
        "q = prepareQuery('''\n",
        "  SELECT ?s\n",
        "  WHERE {\n",
        "    {\n",
        "      ?s rdf:type ns:Person.\n",
        "    } UNION {\n",
        "      ?sub rdfs:subClassOf ns:Person.\n",
        "      ?s rdf:type ?sub\n",
        "    }\n",
        "  }\n",
        "  ''',\n",
        "  initNs = {\"rdfs\":RDFS, \"ns\":ns, \"rdf\":RDF}\n",
        ")\n",
        "\n",
        "for r in g.query(q):\n",
        "  print(r)"
      ],
      "execution_count": 17,
      "outputs": [
        {
          "output_type": "stream",
          "text": [
            "(rdflib.term.URIRef('http://somewhere#JohnSmith'),)\n",
            "(rdflib.term.URIRef('http://somewhere#SaraJones'),)\n",
            "(rdflib.term.URIRef('http://somewhere#JaneSmith'),)\n"
          ],
          "name": "stdout"
        }
      ]
    },
    {
      "cell_type": "markdown",
      "metadata": {
        "id": "MXBqtBkJd22I"
      },
      "source": [
        "**TASK 7.3: List all individuals of \"Person\" and all their properties including their class with RDFLib and SPARQL**\n"
      ]
    },
    {
      "cell_type": "code",
      "metadata": {
        "id": "QT-JTmJ3ty1j",
        "outputId": "8b8b9927-26aa-437c-8247-c2af6daa758f",
        "colab": {
          "base_uri": "https://localhost:8080/",
          "height": 218
        }
      },
      "source": [
        "for s, p, o in g.triples((None, RDF.type, ns.Person)):\n",
        "  for x, y, z in g.triples((s, None, None)):\n",
        "      print(x, y, z)\n",
        "\n",
        "for s, p, o in g.triples((None, RDFS.subClassOf, ns.Person)):\n",
        "  for x, y, z in g.triples((None, RDF.type, s)):\n",
        "    for a, b, c in g.triples((x, None, None)):\n",
        "      print(a, b, c)"
      ],
      "execution_count": 18,
      "outputs": [
        {
          "output_type": "stream",
          "text": [
            "http://somewhere#JohnSmith http://www.w3.org/1999/02/22-rdf-syntax-ns#type http://somewhere#Person\n",
            "http://somewhere#JohnSmith http://somewhere#http://www.w3.org/2001/vcard-rdf/3.0/Given John\n",
            "http://somewhere#JohnSmith http://somewhere#http://www.w3.org/2001/vcard-rdf/3.0/Family Smith\n",
            "http://somewhere#JohnSmith http://somewhere#http://www.w3.org/2001/vcard-rdf/3.0/FN John Smith\n",
            "http://somewhere#SaraJones http://somewhere#http://www.w3.org/2001/vcard-rdf/3.0/Given Sara\n",
            "http://somewhere#SaraJones http://www.w3.org/1999/02/22-rdf-syntax-ns#type http://somewhere#Person\n",
            "http://somewhere#SaraJones http://somewhere#http://www.w3.org/2001/vcard-rdf/3.0/Family Jones\n",
            "http://somewhere#SaraJones http://somewhere#http://www.w3.org/2001/vcard-rdf/3.0/FN Sara Jones\n",
            "http://somewhere#JaneSmith http://somewhere#http://www.w3.org/2001/vcard-rdf/3.0/Given Jane\n",
            "http://somewhere#JaneSmith http://somewhere#http://www.w3.org/2001/vcard-rdf/3.0/FN jane Smith\n",
            "http://somewhere#JaneSmith http://www.w3.org/1999/02/22-rdf-syntax-ns#type http://somewhere#Researcher\n",
            "http://somewhere#JaneSmith http://somewhere#http://www.w3.org/2001/vcard-rdf/3.0/Family Smith\n"
          ],
          "name": "stdout"
        }
      ]
    },
    {
      "cell_type": "code",
      "metadata": {
        "id": "7Lq76inav-3j",
        "outputId": "c7efa054-397b-4c82-e617-2b343ebec252",
        "colab": {
          "base_uri": "https://localhost:8080/",
          "height": 238
        }
      },
      "source": [
        "q = prepareQuery('''\n",
        "  SELECT ?s ?p ?c\n",
        "  WHERE {\n",
        "    {\n",
        "      ?s rdf:type ns:Person.\n",
        "      ?s ?p ?c\n",
        "    } UNION {\n",
        "      ?s rdf:type ?sub.\n",
        "      ?s ?p ?c.\n",
        "      ?sub rdfs:subClassOf ns:Person\n",
        "    }\n",
        "  }\n",
        "  ''',\n",
        "  initNs = {\"rdfs\":RDFS, \"ns\":ns, \"rdf\":RDF}\n",
        ")\n",
        "\n",
        "for r in g.query(q):\n",
        "  print(r)"
      ],
      "execution_count": 21,
      "outputs": [
        {
          "output_type": "stream",
          "text": [
            "(rdflib.term.URIRef('http://somewhere#JohnSmith'), rdflib.term.URIRef('http://www.w3.org/1999/02/22-rdf-syntax-ns#type'), rdflib.term.URIRef('http://somewhere#Person'))\n",
            "(rdflib.term.URIRef('http://somewhere#JohnSmith'), rdflib.term.URIRef('http://somewhere#http://www.w3.org/2001/vcard-rdf/3.0/Given'), rdflib.term.Literal('John', datatype=rdflib.term.URIRef('http://www.w3.org/2001/XMLSchema#string')))\n",
            "(rdflib.term.URIRef('http://somewhere#JohnSmith'), rdflib.term.URIRef('http://somewhere#http://www.w3.org/2001/vcard-rdf/3.0/Family'), rdflib.term.Literal('Smith', datatype=rdflib.term.URIRef('http://www.w3.org/2001/XMLSchema#string')))\n",
            "(rdflib.term.URIRef('http://somewhere#JohnSmith'), rdflib.term.URIRef('http://somewhere#http://www.w3.org/2001/vcard-rdf/3.0/FN'), rdflib.term.Literal('John Smith', datatype=rdflib.term.URIRef('http://www.w3.org/2001/XMLSchema#string')))\n",
            "(rdflib.term.URIRef('http://somewhere#SaraJones'), rdflib.term.URIRef('http://somewhere#http://www.w3.org/2001/vcard-rdf/3.0/Given'), rdflib.term.Literal('Sara', datatype=rdflib.term.URIRef('http://www.w3.org/2001/XMLSchema#string')))\n",
            "(rdflib.term.URIRef('http://somewhere#SaraJones'), rdflib.term.URIRef('http://www.w3.org/1999/02/22-rdf-syntax-ns#type'), rdflib.term.URIRef('http://somewhere#Person'))\n",
            "(rdflib.term.URIRef('http://somewhere#SaraJones'), rdflib.term.URIRef('http://somewhere#http://www.w3.org/2001/vcard-rdf/3.0/Family'), rdflib.term.Literal('Jones', datatype=rdflib.term.URIRef('http://www.w3.org/2001/XMLSchema#string')))\n",
            "(rdflib.term.URIRef('http://somewhere#SaraJones'), rdflib.term.URIRef('http://somewhere#http://www.w3.org/2001/vcard-rdf/3.0/FN'), rdflib.term.Literal('Sara Jones', datatype=rdflib.term.URIRef('http://www.w3.org/2001/XMLSchema#string')))\n",
            "(rdflib.term.URIRef('http://somewhere#JaneSmith'), rdflib.term.URIRef('http://somewhere#http://www.w3.org/2001/vcard-rdf/3.0/Given'), rdflib.term.Literal('Jane', datatype=rdflib.term.URIRef('http://www.w3.org/2001/XMLSchema#string')))\n",
            "(rdflib.term.URIRef('http://somewhere#JaneSmith'), rdflib.term.URIRef('http://somewhere#http://www.w3.org/2001/vcard-rdf/3.0/FN'), rdflib.term.Literal('jane Smith', datatype=rdflib.term.URIRef('http://www.w3.org/2001/XMLSchema#string')))\n",
            "(rdflib.term.URIRef('http://somewhere#JaneSmith'), rdflib.term.URIRef('http://www.w3.org/1999/02/22-rdf-syntax-ns#type'), rdflib.term.URIRef('http://somewhere#Researcher'))\n",
            "(rdflib.term.URIRef('http://somewhere#JaneSmith'), rdflib.term.URIRef('http://somewhere#http://www.w3.org/2001/vcard-rdf/3.0/Family'), rdflib.term.Literal('Smith', datatype=rdflib.term.URIRef('http://www.w3.org/2001/XMLSchema#string')))\n"
          ],
          "name": "stdout"
        }
      ]
    }
  ]
}