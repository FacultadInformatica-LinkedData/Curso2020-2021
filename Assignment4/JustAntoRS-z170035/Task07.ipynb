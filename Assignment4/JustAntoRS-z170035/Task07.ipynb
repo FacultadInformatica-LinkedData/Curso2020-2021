{
  "cells": [
    {
      "cell_type": "markdown",
      "metadata": {
        "id": "nOOPLCHF7hLB",
        "colab_type": "text"
      },
      "source": [
        "**Task 07: Querying RDF(s)**"
      ]
    },
    {
      "cell_type": "code",
      "metadata": {
        "id": "Yl9npCt8n6m-",
        "colab_type": "code",
        "colab": {},
        "tags": []
      },
      "source": [
        "!pip install rdflib \n",
        "github_storage = \"https://raw.githubusercontent.com/FacultadInformatica-LinkedData/Curso2020-2021/master/Assignment4\""
      ],
      "execution_count": null,
      "outputs": []
    },
    {
      "cell_type": "markdown",
      "metadata": {
        "id": "XY7aPc86Bqoo",
        "colab_type": "text"
      },
      "source": [
        "Leemos el fichero RDF de la forma que lo hemos venido haciendo"
      ]
    },
    {
      "cell_type": "code",
      "metadata": {
        "id": "9ERh415on7kF",
        "colab_type": "code",
        "colab": {}
      },
      "source": [
        "from rdflib import Graph, Namespace, Literal\n",
        "from rdflib.namespace import RDF, RDFS\n",
        "g = Graph()\n",
        "g.namespace_manager.bind('ns', Namespace(\"http://somewhere#\"), override=False)\n",
        "g.namespace_manager.bind('vcard', Namespace(\"http://www.w3.org/2001/vcard-rdf/3.0#\"), override=False)\n",
        "g.parse(github_storage+\"/resources/example6.rdf\", format=\"xml\")"
      ],
      "execution_count": null,
      "outputs": []
    },
    {
      "cell_type": "markdown",
      "metadata": {
        "id": "qp1oe2Eddsvo",
        "colab_type": "text"
      },
      "source": [
        "**TASK 7.1: List all subclasses of \"Person\" with RDFLib and SPARQL**"
      ]
    },
    {
      "cell_type": "code",
      "execution_count": null,
      "metadata": {
        "tags": []
      },
      "outputs": [],
      "source": [
        "from rdflib.plugins.sparql import prepareQuery\n",
        "# ----- SPARQL --------\n",
        "query1 = prepareQuery('''\n",
        "SELECT ?i\n",
        "WHERE {\n",
        "    ?i rdfs:subClassOf ns:Person .\n",
        "}\n",
        "''',\n",
        "initNs = {'rdfs' : RDFS, 'ns' : Namespace(\"http://somewhere#\")}\n",
        ")\n",
        "print([res for res in g.query(query1)])\n",
        "print('\\n')\n",
        "# ----- RDFLIB --------\n",
        "ns = Namespace(\"http://somewhere#\")\n",
        "print([(s,p,o) for s,p,o in g.triples((None, RDFS.subClassOf, ns.Person))])"
      ]
    },
    {
      "cell_type": "markdown",
      "metadata": {
        "id": "gM3DASkTQQ5Y",
        "colab_type": "text"
      },
      "source": [
        "**TASK 7.2: List all individuals of \"Person\" with RDFLib and SPARQL (remember the subClasses)**\n"
      ]
    },
    {
      "cell_type": "code",
      "execution_count": null,
      "metadata": {
        "tags": []
      },
      "outputs": [],
      "source": [
        "# ----------- SPARQL -----------\n",
        "query2 = prepareQuery('''\n",
        "SELECT ?i \n",
        "WHERE {\n",
        "    {\n",
        "        ?i rdf:type ns:Person .\n",
        "    }\n",
        "    UNION {\n",
        "        ?sCl rdfs:subClassOf ns:Person .\n",
        "        ?i rdf:type ?sCl\n",
        "    }\n",
        "}\n",
        "''',\n",
        "initNs = {'rdfs':RDFS, 'ns':Namespace(\"http://somewhere#\"), 'rdf':RDF}\n",
        ")\n",
        "print([res for res in g.query(query2)])\n",
        "print('\\n')\n",
        "# -------- RDFLIB --------------\n",
        "print([(s,p,o) for s,p,o in g.triples((None, RDF.type, ns.Person))])\n",
        "print('\\n')\n",
        "for s,p,o in g.triples((None, RDFS.subClassOf, ns.Person)):\n",
        "    for s_1,p_1,o_1 in g.triples((None ,RDF.type, s)):\n",
        "        print(s_1,p_1,o_1)"
      ]
    },
    {
      "cell_type": "markdown",
      "metadata": {
        "id": "MXBqtBkJd22I",
        "colab_type": "text"
      },
      "source": [
        "**TASK 7.3: List all individuals of \"Person\" and all their properties including their class with RDFLib and SPARQL**\n"
      ]
    },
    {
      "cell_type": "code",
      "execution_count": null,
      "metadata": {
        "tags": []
      },
      "outputs": [],
      "source": [
        "# ------- SPARQL ---------\n",
        "query3 = prepareQuery('''\n",
        "SELECT ?i ?c ?p\n",
        "  WHERE { \n",
        "    { \n",
        "      ?i rdf:type ns:Person .\n",
        "      ?i ?c ?p\n",
        "    } UNION {\n",
        "      ?i rdf:type ?sCl .\n",
        "      ?i ?c ?p .\n",
        "      ?sCl rdfs:subClassOf ns:Person\n",
        "    }\n",
        "  }\n",
        "''',\n",
        "initNs= {'rdfs' : RDFS, 'rdf' : RDF, 'ns':Namespace(\"http://somewhere#\")}\n",
        ")\n",
        "for res in g.query(query3):\n",
        "    print(res)\n",
        "print('\\n')\n",
        "# ------- RDFLIB ---------\n",
        "for s,p,o in g.triples((None, RDF.type, ns.Person)):\n",
        "    for s_1,p_1,o_1 in g.triples((s, None, None)):\n",
        "        print(s_1, p_1, o_1)\n",
        "\n",
        "for s,p,o in g.triples((None, RDFS.subClassOf, ns.Person)):\n",
        "    for s_1,p_1,o_1 in g.triples((None, RDF.type, s)):\n",
        "        for s_2,p_2,o_2 in g.triples((s_1, None, None)):\n",
        "            print(s_2,p_2,o_2)"
      ]
    },
    {
      "cell_type": "code",
      "execution_count": null,
      "metadata": {},
      "outputs": [],
      "source": []
    }
  ],
  "metadata": {
    "colab": {
      "name": "Task07.ipynb",
      "provenance": [],
      "collapsed_sections": []
    },
    "kernelspec": {
      "name": "python3",
      "display_name": "Python 3"
    }
  },
  "nbformat": 4,
  "nbformat_minor": 0
}